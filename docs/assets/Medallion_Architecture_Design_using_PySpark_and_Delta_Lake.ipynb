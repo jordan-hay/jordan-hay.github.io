{
  "nbformat": 4,
  "nbformat_minor": 0,
  "metadata": {
    "colab": {
      "provenance": []
    },
    "kernelspec": {
      "name": "python3",
      "display_name": "Python 3"
    },
    "language_info": {
      "name": "python"
    }
  },
  "cells": [
    {
      "cell_type": "markdown",
      "source": [
        "#Medallion Architecture Design using PySpark and Delta Lake"
      ],
      "metadata": {
        "id": "lrB9QRcoN4td"
      }
    },
    {
      "cell_type": "markdown",
      "source": [
        "#Setup"
      ],
      "metadata": {
        "id": "utVJ2jWpKO77"
      }
    },
    {
      "cell_type": "code",
      "source": [
        "import pandas as pd"
      ],
      "metadata": {
        "id": "Jnm-MS1RVU7o"
      },
      "execution_count": 2,
      "outputs": []
    },
    {
      "cell_type": "code",
      "source": [
        "!pip install pyspark==3.2.2 >&/dev/null\n",
        "!pip install delta-spark >&/dev/null"
      ],
      "metadata": {
        "id": "hqYcRXaXMyoU"
      },
      "execution_count": 3,
      "outputs": []
    },
    {
      "cell_type": "markdown",
      "source": [
        "In the above code block, we are using the pip package manager to install two essential dependencies for our warehouse organization project. The pyspark library (version 3.2.2) is a powerful tool for large-scale data processing, providing a distributed computing framework. Additionally, we install the delta-spark package, which integrates Delta Lake with Apache Spark, offering features like ACID transactions and data versioning to enhance data reliability and management within our warehouse architecture."
      ],
      "metadata": {
        "id": "lFFBIL9-FSdl"
      }
    },
    {
      "cell_type": "code",
      "source": [
        "from pyspark.sql import SparkSession\n",
        "from pyspark.sql.functions import col, expr, split, dayofmonth, month, year, date_format\n",
        "from pyspark.sql.functions import monotonically_increasing_id, when, coalesce, max, lit\n",
        "from pyspark.sql.functions import current_timestamp, input_file_name\n",
        "from delta.tables import DeltaTable\n",
        "import pyspark\n",
        "from pyspark.sql.types import *\n",
        "from delta import configure_spark_with_delta_pip"
      ],
      "metadata": {
        "id": "FP2HCdrCMyiZ"
      },
      "execution_count": 4,
      "outputs": []
    },
    {
      "cell_type": "markdown",
      "source": [
        "In the above code block, we are setting up the essential Python modules and libraries for our warehouse organization project using the Medallion architecture design. Here's a brief overview:\n",
        "\n",
        "1. **SparkSession**: Importing the SparkSession module to create and manage Spark sessions, facilitating the interaction with the Spark engine.\n",
        "\n",
        "2. **DataFrame Functions**: Importing various functions from `pyspark.sql.functions` for data manipulation and transformation, including column operations, expressions, string splitting, date-related functions, and more.\n",
        "\n",
        "3. **DeltaTable**: Importing the `DeltaTable` module from `delta.tables` for leveraging Delta Lake capabilities, such as transactional support and data versioning.\n",
        "\n",
        "4. **pyspark and Delta Integration**: Importing additional modules and functions for configuring Spark with Delta Lake, ensuring compatibility and seamless integration.\n",
        "\n",
        "5. **Schema Types**: Importing the `pyspark.sql.types` module for handling data types within the Spark DataFrame.\n",
        "\n",
        "These imported modules and functions lay the foundation for implementing the Medallion architecture design within the warehouse, allowing efficient data processing, transformation, and integration with Delta Lake for improved data management and reliability."
      ],
      "metadata": {
        "id": "TPSRGIrKFdLM"
      }
    },
    {
      "cell_type": "code",
      "source": [
        "builder = SparkSession.builder.appName(\"app\") \\\n",
        "    .config(\"spark.sql.extensions\", \"io.delta.sql.DeltaSparkSessionExtension\") \\\n",
        "    .config(\"spark.sql.catalog.spark_catalog\", \"org.apache.spark.sql.delta.catalog.DeltaCatalog\")\\\n",
        "    .config(\"spark.jars.packages\",\"io.delta:delta-core_2.12:2.0.0\")\n",
        "\n",
        "spark = configure_spark_with_delta_pip(builder).getOrCreate()"
      ],
      "metadata": {
        "id": "P8I99eO9M53-"
      },
      "execution_count": 5,
      "outputs": []
    },
    {
      "cell_type": "markdown",
      "source": [
        "In this code block, we are configuring and creating a Spark session for our warehouse organization project with the following key details:\n",
        "\n",
        "1. **SparkSession Configuration**: We create a SparkSession using the `SparkSession.builder` method with the application name set to \"app\" for easy identification in the Spark UI.\n",
        "\n",
        "2. **Delta Lake Integration**: We configure the Spark session to include the Delta Lake extensions by setting the \"spark.sql.extensions\" property to \"io.delta.sql.DeltaSparkSessionExtension\". Additionally, we specify the Delta Catalog for Spark by setting the \"spark.sql.catalog.spark_catalog\" property to \"org.apache.spark.sql.delta.catalog.DeltaCatalog\".\n",
        "\n",
        "3. **Delta Core Package**: We include the Delta Core package (version 2.0.0) as a dependency using the \"spark.jars.packages\" configuration. This ensures that our Spark session has the necessary Delta Lake functionalities.\n",
        "\n",
        "4. **Configure Spark with Delta**: We use the `configure_spark_with_delta_pip` function to further configure the Spark session with Delta Lake, ensuring proper compatibility and setup for Delta features.\n",
        "\n",
        "5. **Get or Create Spark Session**: Finally, we obtain or create the Spark session using `.getOrCreate()`. This allows us to reuse an existing Spark session if available or create a new one if none exists.\n",
        "\n",
        "This configuration sets the foundation for our Spark session to efficiently handle data processing, integration with Delta Lake, and implementation of the Medallion architecture design in our warehouse organization project."
      ],
      "metadata": {
        "id": "1DKOGGNxFsyu"
      }
    },
    {
      "cell_type": "code",
      "source": [
        "spark"
      ],
      "metadata": {
        "colab": {
          "base_uri": "https://localhost:8080/",
          "height": 222
        },
        "id": "1owJb4L_Mff7",
        "outputId": "a15b0330-7a05-499c-c5ac-bd9ff00379e6"
      },
      "execution_count": 6,
      "outputs": [
        {
          "output_type": "execute_result",
          "data": {
            "text/plain": [
              "<pyspark.sql.session.SparkSession at 0x7dd0e0535390>"
            ],
            "text/html": [
              "\n",
              "            <div>\n",
              "                <p><b>SparkSession - in-memory</b></p>\n",
              "                \n",
              "        <div>\n",
              "            <p><b>SparkContext</b></p>\n",
              "\n",
              "            <p><a href=\"http://d6c51f7c4764:4040\">Spark UI</a></p>\n",
              "\n",
              "            <dl>\n",
              "              <dt>Version</dt>\n",
              "                <dd><code>v3.5.0</code></dd>\n",
              "              <dt>Master</dt>\n",
              "                <dd><code>local[*]</code></dd>\n",
              "              <dt>AppName</dt>\n",
              "                <dd><code>app</code></dd>\n",
              "            </dl>\n",
              "        </div>\n",
              "        \n",
              "            </div>\n",
              "        "
            ]
          },
          "metadata": {},
          "execution_count": 6
        }
      ]
    },
    {
      "cell_type": "markdown",
      "source": [
        "#Bronze Get Data"
      ],
      "metadata": {
        "id": "ONEXN7rqKRX3"
      }
    },
    {
      "cell_type": "code",
      "source": [
        "%%writefile states.txt\n",
        "Alabama\n",
        "Alaska\n",
        "Arizona\n",
        "Arkansas\n",
        "California\n",
        "Colorado\n",
        "Connecticut\n",
        "Delaware\n",
        "District Of Columbia\n",
        "Florida\n",
        "Georgia\n",
        "Hawaii\n",
        "Idaho\n",
        "Illinois\n",
        "Indiana\n",
        "Iowa\n",
        "Kansas\n",
        "Kentucky\n",
        "Louisiana\n",
        "Maine\n",
        "Maryland\n",
        "Massachusetts\n",
        "Michigan\n",
        "Minnesota\n",
        "Mississippi\n",
        "Missouri\n",
        "Montana\n",
        "Nebraska\n",
        "Nevada\n",
        "New Hampshire\n",
        "New Jersey\n",
        "New Mexico\n",
        "New York\n",
        "North Carolina\n",
        "North Dakota\n",
        "Ohio\n",
        "Oklahoma\n",
        "Oregon\n",
        "Puerto Rico\n",
        "Pennsylvania\n",
        "Rhode Island\n",
        "South Carolina\n",
        "South Dakota\n",
        "Tennessee\n",
        "Texas\n",
        "Utah\n",
        "Vermont\n",
        "Virginia\n",
        "Washington\n",
        "West Virginia\n",
        "Wisconsin\n",
        "Wyoming"
      ],
      "metadata": {
        "colab": {
          "base_uri": "https://localhost:8080/"
        },
        "id": "iI74DDUZO4Qi",
        "outputId": "63d16e2b-51b9-4097-8436-38202728a280"
      },
      "execution_count": 7,
      "outputs": [
        {
          "output_type": "stream",
          "name": "stdout",
          "text": [
            "Writing states.txt\n"
          ]
        }
      ]
    },
    {
      "cell_type": "markdown",
      "source": [
        "\n",
        "In the above code block, we are using the %%writefile magic command to write the provided list of U.S. states into a file named \"states.txt\". Each state is listed on a new line, providing a structured and readable format for storing the state names in the text file. This file can be used as a reference or input data for various data processing tasks within our warehouse organization project."
      ],
      "metadata": {
        "id": "YK86dSuFF_Mt"
      }
    },
    {
      "cell_type": "code",
      "source": [
        "df=pd.read_csv('states.txt',header=None)\n",
        "df.columns = [\"State\"]\n",
        "states=df.State.to_list()\n",
        "states"
      ],
      "metadata": {
        "colab": {
          "base_uri": "https://localhost:8080/"
        },
        "id": "pqpDqlm2PLll",
        "outputId": "8d0096af-0547-4384-c1d0-d6b43e2cf02b"
      },
      "execution_count": 8,
      "outputs": [
        {
          "output_type": "execute_result",
          "data": {
            "text/plain": [
              "['Alabama',\n",
              " 'Alaska',\n",
              " 'Arizona',\n",
              " 'Arkansas',\n",
              " 'California',\n",
              " 'Colorado',\n",
              " 'Connecticut',\n",
              " 'Delaware',\n",
              " 'District Of Columbia',\n",
              " 'Florida',\n",
              " 'Georgia',\n",
              " 'Hawaii',\n",
              " 'Idaho',\n",
              " 'Illinois',\n",
              " 'Indiana',\n",
              " 'Iowa',\n",
              " 'Kansas',\n",
              " 'Kentucky',\n",
              " 'Louisiana',\n",
              " 'Maine',\n",
              " 'Maryland',\n",
              " 'Massachusetts',\n",
              " 'Michigan',\n",
              " 'Minnesota',\n",
              " 'Mississippi',\n",
              " 'Missouri',\n",
              " 'Montana',\n",
              " 'Nebraska',\n",
              " 'Nevada',\n",
              " 'New Hampshire',\n",
              " 'New Jersey',\n",
              " 'New Mexico',\n",
              " 'New York',\n",
              " 'North Carolina',\n",
              " 'North Dakota',\n",
              " 'Ohio',\n",
              " 'Oklahoma',\n",
              " 'Oregon',\n",
              " 'Puerto Rico',\n",
              " 'Pennsylvania',\n",
              " 'Rhode Island',\n",
              " 'South Carolina',\n",
              " 'South Dakota',\n",
              " 'Tennessee',\n",
              " 'Texas',\n",
              " 'Utah',\n",
              " 'Vermont',\n",
              " 'Virginia',\n",
              " 'Washington',\n",
              " 'West Virginia',\n",
              " 'Wisconsin',\n",
              " 'Wyoming']"
            ]
          },
          "metadata": {},
          "execution_count": 8
        }
      ]
    },
    {
      "cell_type": "markdown",
      "source": [
        "In this code block, we are using the Pandas library to read the contents of the 'states.txt' file into a DataFrame (`df`). The file is assumed to contain a list of U.S. states, with each state listed on a new line. We then assign the column name \"State\" to the DataFrame for clarity.\n",
        "\n",
        "Finally, we extract the list of states from the 'State' column of the DataFrame and store it in the variable `states`. This list can be used for further analysis, visualization, or any other processing tasks within our warehouse organization project."
      ],
      "metadata": {
        "id": "42RdGEu5GJRA"
      }
    },
    {
      "cell_type": "code",
      "source": [
        "def parsedata(fn):\n",
        "  data=pd.read_excel(fn)\n",
        "  state=data.columns[0].split(',')[0]\n",
        "  year=data.columns[0].split(' ')[-1]\n",
        "  data=data.values\n",
        "  colnames = data[0]\n",
        "  colnames[0] = \"Type\"\n",
        "  data=pd.DataFrame(data[1::],columns=colnames)\n",
        "  data=data.drop(0,axis = 0)\n",
        "  data=data.iloc[0:8,:]\n",
        "  data[\"State\"] = state\n",
        "  data[\"Year\"] = year\n",
        "  data['Type'] = data['Type'].str.replace(\" \\[1]\",\"\",regex=True)\n",
        "  data['Type'] = data['Type'].str.replace(\" \\[3]\",\"\",regex=True)\n",
        "  return data"
      ],
      "metadata": {
        "id": "4U4ABWyUftSc"
      },
      "execution_count": 9,
      "outputs": []
    },
    {
      "cell_type": "markdown",
      "source": [
        "This function, `parsedata`, takes a file name or path (`fn`) as input, reads an Excel file, extracts state and year information from the column headers, and structures the data into a Pandas DataFrame. The function performs various data cleaning operations, such as removing unnecessary annotations from the 'Type' column. The resulting DataFrame is then returned for further analysis or integration into our warehouse organization project."
      ],
      "metadata": {
        "id": "iw68rOn3GR6e"
      }
    },
    {
      "cell_type": "code",
      "source": [
        "!mkdir bronze"
      ],
      "metadata": {
        "id": "8YTCqVGNgTjP"
      },
      "execution_count": 10,
      "outputs": []
    },
    {
      "cell_type": "code",
      "execution_count": 11,
      "metadata": {
        "id": "APW1ZMs9OwfA"
      },
      "outputs": [],
      "source": [
        "import gdown\n",
        "years=[21,22]\n",
        "for year in years:\n",
        "  for state in states:\n",
        "    url = 'https://www.irs.gov/pub/irs-soi/'+str(year)+\"db\"+state+\".xlsx\"\n",
        "    url = url.replace(\" \",\"\").lower()\n",
        "    filename = \"/content/bronze/\" + str(year)+state+\".xlsx\"\n",
        "    gdown.download(url,filename,quiet=True)\n",
        "    parsedata(filename).to_csv(\"/content/bronze/\"+str(year)+state+\".csv\",index=False)"
      ]
    },
    {
      "cell_type": "markdown",
      "source": [
        "In this code block, we use the `gdown` library to download IRS data files for specific years and states. The nested loop iterates over each combination of `year` and `state`, constructs the download URL, and downloads the Excel file using `gdown.download`. The downloaded file is then parsed using the `parsedata` function, and the resulting DataFrame is saved as a CSV file in the \"/content/bronze/\" directory.\n",
        "\n",
        "This process efficiently automates the download, parsing, and storage of IRS data for multiple years and states, contributing to the organization of the warehouse data with the Medallion architecture design."
      ],
      "metadata": {
        "id": "uotBEgczGbRo"
      }
    },
    {
      "cell_type": "code",
      "source": [
        "parsedata(filename)"
      ],
      "metadata": {
        "colab": {
          "base_uri": "https://localhost:8080/",
          "height": 439
        },
        "id": "nxxQfGpKgrz4",
        "outputId": "ad501dce-de25-41ec-8050-ef7b111e75a3"
      },
      "execution_count": 12,
      "outputs": [
        {
          "output_type": "execute_result",
          "data": {
            "text/plain": [
              "                                         Type Number of returns filed  \\\n",
              "1                                       Total                  545664   \n",
              "2  Individual income tax and employment taxes                  374713   \n",
              "3                                  Estate tax                      51   \n",
              "4                      Corporation income tax                   10022   \n",
              "5                 Estate and trust income tax                   13036   \n",
              "6                                    Gift tax                     933   \n",
              "7                    Tax-exempt organizations                    4806   \n",
              "8                                Excise taxes                    4162   \n",
              "\n",
              "   Number of returns filed electronically  \\\n",
              "1                                  439643   \n",
              "2                                  304515   \n",
              "3                                     NaN   \n",
              "4                                    6843   \n",
              "5                                    7992   \n",
              "6                                     NaN   \n",
              "7                                    4263   \n",
              "8                                    2947   \n",
              "\n",
              "   Internal Revenue gross collections (thousands of dollars)  \\\n",
              "1                                            7954734           \n",
              "2                                            6211582           \n",
              "3                                             117300           \n",
              "4                                             215087           \n",
              "5                                            1186192           \n",
              "6                                             187600           \n",
              "7                                                NaN           \n",
              "8                                              36973           \n",
              "\n",
              "  Number of Internal Revenue refunds issued  \\\n",
              "1                                    427909   \n",
              "2                                    423817   \n",
              "3                                         d   \n",
              "4                                      2279   \n",
              "5                                      1436   \n",
              "6                                         d   \n",
              "7                                       NaN   \n",
              "8                                       357   \n",
              "\n",
              "  Amount of Internal Revenue refunds issued, including interest (thousands of dollars)  \\\n",
              "1                                            1007226                                     \n",
              "2                                             939439                                     \n",
              "3                                                  d                                     \n",
              "4                                              22192                                     \n",
              "5                                              40746                                     \n",
              "6                                                  d                                     \n",
              "7                                                NaN                                     \n",
              "8                                               2758                                     \n",
              "\n",
              "     State  Year  \n",
              "1  Wyoming  2022  \n",
              "2  Wyoming  2022  \n",
              "3  Wyoming  2022  \n",
              "4  Wyoming  2022  \n",
              "5  Wyoming  2022  \n",
              "6  Wyoming  2022  \n",
              "7  Wyoming  2022  \n",
              "8  Wyoming  2022  "
            ],
            "text/html": [
              "\n",
              "  <div id=\"df-568f4bf6-f488-4939-aa5d-e26b99270837\" class=\"colab-df-container\">\n",
              "    <div>\n",
              "<style scoped>\n",
              "    .dataframe tbody tr th:only-of-type {\n",
              "        vertical-align: middle;\n",
              "    }\n",
              "\n",
              "    .dataframe tbody tr th {\n",
              "        vertical-align: top;\n",
              "    }\n",
              "\n",
              "    .dataframe thead th {\n",
              "        text-align: right;\n",
              "    }\n",
              "</style>\n",
              "<table border=\"1\" class=\"dataframe\">\n",
              "  <thead>\n",
              "    <tr style=\"text-align: right;\">\n",
              "      <th></th>\n",
              "      <th>Type</th>\n",
              "      <th>Number of returns filed</th>\n",
              "      <th>Number of returns filed electronically</th>\n",
              "      <th>Internal Revenue gross collections (thousands of dollars)</th>\n",
              "      <th>Number of Internal Revenue refunds issued</th>\n",
              "      <th>Amount of Internal Revenue refunds issued, including interest (thousands of dollars)</th>\n",
              "      <th>State</th>\n",
              "      <th>Year</th>\n",
              "    </tr>\n",
              "  </thead>\n",
              "  <tbody>\n",
              "    <tr>\n",
              "      <th>1</th>\n",
              "      <td>Total</td>\n",
              "      <td>545664</td>\n",
              "      <td>439643</td>\n",
              "      <td>7954734</td>\n",
              "      <td>427909</td>\n",
              "      <td>1007226</td>\n",
              "      <td>Wyoming</td>\n",
              "      <td>2022</td>\n",
              "    </tr>\n",
              "    <tr>\n",
              "      <th>2</th>\n",
              "      <td>Individual income tax and employment taxes</td>\n",
              "      <td>374713</td>\n",
              "      <td>304515</td>\n",
              "      <td>6211582</td>\n",
              "      <td>423817</td>\n",
              "      <td>939439</td>\n",
              "      <td>Wyoming</td>\n",
              "      <td>2022</td>\n",
              "    </tr>\n",
              "    <tr>\n",
              "      <th>3</th>\n",
              "      <td>Estate tax</td>\n",
              "      <td>51</td>\n",
              "      <td>NaN</td>\n",
              "      <td>117300</td>\n",
              "      <td>d</td>\n",
              "      <td>d</td>\n",
              "      <td>Wyoming</td>\n",
              "      <td>2022</td>\n",
              "    </tr>\n",
              "    <tr>\n",
              "      <th>4</th>\n",
              "      <td>Corporation income tax</td>\n",
              "      <td>10022</td>\n",
              "      <td>6843</td>\n",
              "      <td>215087</td>\n",
              "      <td>2279</td>\n",
              "      <td>22192</td>\n",
              "      <td>Wyoming</td>\n",
              "      <td>2022</td>\n",
              "    </tr>\n",
              "    <tr>\n",
              "      <th>5</th>\n",
              "      <td>Estate and trust income tax</td>\n",
              "      <td>13036</td>\n",
              "      <td>7992</td>\n",
              "      <td>1186192</td>\n",
              "      <td>1436</td>\n",
              "      <td>40746</td>\n",
              "      <td>Wyoming</td>\n",
              "      <td>2022</td>\n",
              "    </tr>\n",
              "    <tr>\n",
              "      <th>6</th>\n",
              "      <td>Gift tax</td>\n",
              "      <td>933</td>\n",
              "      <td>NaN</td>\n",
              "      <td>187600</td>\n",
              "      <td>d</td>\n",
              "      <td>d</td>\n",
              "      <td>Wyoming</td>\n",
              "      <td>2022</td>\n",
              "    </tr>\n",
              "    <tr>\n",
              "      <th>7</th>\n",
              "      <td>Tax-exempt organizations</td>\n",
              "      <td>4806</td>\n",
              "      <td>4263</td>\n",
              "      <td>NaN</td>\n",
              "      <td>NaN</td>\n",
              "      <td>NaN</td>\n",
              "      <td>Wyoming</td>\n",
              "      <td>2022</td>\n",
              "    </tr>\n",
              "    <tr>\n",
              "      <th>8</th>\n",
              "      <td>Excise taxes</td>\n",
              "      <td>4162</td>\n",
              "      <td>2947</td>\n",
              "      <td>36973</td>\n",
              "      <td>357</td>\n",
              "      <td>2758</td>\n",
              "      <td>Wyoming</td>\n",
              "      <td>2022</td>\n",
              "    </tr>\n",
              "  </tbody>\n",
              "</table>\n",
              "</div>\n",
              "    <div class=\"colab-df-buttons\">\n",
              "\n",
              "  <div class=\"colab-df-container\">\n",
              "    <button class=\"colab-df-convert\" onclick=\"convertToInteractive('df-568f4bf6-f488-4939-aa5d-e26b99270837')\"\n",
              "            title=\"Convert this dataframe to an interactive table.\"\n",
              "            style=\"display:none;\">\n",
              "\n",
              "  <svg xmlns=\"http://www.w3.org/2000/svg\" height=\"24px\" viewBox=\"0 -960 960 960\">\n",
              "    <path d=\"M120-120v-720h720v720H120Zm60-500h600v-160H180v160Zm220 220h160v-160H400v160Zm0 220h160v-160H400v160ZM180-400h160v-160H180v160Zm440 0h160v-160H620v160ZM180-180h160v-160H180v160Zm440 0h160v-160H620v160Z\"/>\n",
              "  </svg>\n",
              "    </button>\n",
              "\n",
              "  <style>\n",
              "    .colab-df-container {\n",
              "      display:flex;\n",
              "      gap: 12px;\n",
              "    }\n",
              "\n",
              "    .colab-df-convert {\n",
              "      background-color: #E8F0FE;\n",
              "      border: none;\n",
              "      border-radius: 50%;\n",
              "      cursor: pointer;\n",
              "      display: none;\n",
              "      fill: #1967D2;\n",
              "      height: 32px;\n",
              "      padding: 0 0 0 0;\n",
              "      width: 32px;\n",
              "    }\n",
              "\n",
              "    .colab-df-convert:hover {\n",
              "      background-color: #E2EBFA;\n",
              "      box-shadow: 0px 1px 2px rgba(60, 64, 67, 0.3), 0px 1px 3px 1px rgba(60, 64, 67, 0.15);\n",
              "      fill: #174EA6;\n",
              "    }\n",
              "\n",
              "    .colab-df-buttons div {\n",
              "      margin-bottom: 4px;\n",
              "    }\n",
              "\n",
              "    [theme=dark] .colab-df-convert {\n",
              "      background-color: #3B4455;\n",
              "      fill: #D2E3FC;\n",
              "    }\n",
              "\n",
              "    [theme=dark] .colab-df-convert:hover {\n",
              "      background-color: #434B5C;\n",
              "      box-shadow: 0px 1px 3px 1px rgba(0, 0, 0, 0.15);\n",
              "      filter: drop-shadow(0px 1px 2px rgba(0, 0, 0, 0.3));\n",
              "      fill: #FFFFFF;\n",
              "    }\n",
              "  </style>\n",
              "\n",
              "    <script>\n",
              "      const buttonEl =\n",
              "        document.querySelector('#df-568f4bf6-f488-4939-aa5d-e26b99270837 button.colab-df-convert');\n",
              "      buttonEl.style.display =\n",
              "        google.colab.kernel.accessAllowed ? 'block' : 'none';\n",
              "\n",
              "      async function convertToInteractive(key) {\n",
              "        const element = document.querySelector('#df-568f4bf6-f488-4939-aa5d-e26b99270837');\n",
              "        const dataTable =\n",
              "          await google.colab.kernel.invokeFunction('convertToInteractive',\n",
              "                                                    [key], {});\n",
              "        if (!dataTable) return;\n",
              "\n",
              "        const docLinkHtml = 'Like what you see? Visit the ' +\n",
              "          '<a target=\"_blank\" href=https://colab.research.google.com/notebooks/data_table.ipynb>data table notebook</a>'\n",
              "          + ' to learn more about interactive tables.';\n",
              "        element.innerHTML = '';\n",
              "        dataTable['output_type'] = 'display_data';\n",
              "        await google.colab.output.renderOutput(dataTable, element);\n",
              "        const docLink = document.createElement('div');\n",
              "        docLink.innerHTML = docLinkHtml;\n",
              "        element.appendChild(docLink);\n",
              "      }\n",
              "    </script>\n",
              "  </div>\n",
              "\n",
              "\n",
              "<div id=\"df-37ed0537-d5ca-4890-a79e-c491af82d95b\">\n",
              "  <button class=\"colab-df-quickchart\" onclick=\"quickchart('df-37ed0537-d5ca-4890-a79e-c491af82d95b')\"\n",
              "            title=\"Suggest charts\"\n",
              "            style=\"display:none;\">\n",
              "\n",
              "<svg xmlns=\"http://www.w3.org/2000/svg\" height=\"24px\"viewBox=\"0 0 24 24\"\n",
              "     width=\"24px\">\n",
              "    <g>\n",
              "        <path d=\"M19 3H5c-1.1 0-2 .9-2 2v14c0 1.1.9 2 2 2h14c1.1 0 2-.9 2-2V5c0-1.1-.9-2-2-2zM9 17H7v-7h2v7zm4 0h-2V7h2v10zm4 0h-2v-4h2v4z\"/>\n",
              "    </g>\n",
              "</svg>\n",
              "  </button>\n",
              "\n",
              "<style>\n",
              "  .colab-df-quickchart {\n",
              "      --bg-color: #E8F0FE;\n",
              "      --fill-color: #1967D2;\n",
              "      --hover-bg-color: #E2EBFA;\n",
              "      --hover-fill-color: #174EA6;\n",
              "      --disabled-fill-color: #AAA;\n",
              "      --disabled-bg-color: #DDD;\n",
              "  }\n",
              "\n",
              "  [theme=dark] .colab-df-quickchart {\n",
              "      --bg-color: #3B4455;\n",
              "      --fill-color: #D2E3FC;\n",
              "      --hover-bg-color: #434B5C;\n",
              "      --hover-fill-color: #FFFFFF;\n",
              "      --disabled-bg-color: #3B4455;\n",
              "      --disabled-fill-color: #666;\n",
              "  }\n",
              "\n",
              "  .colab-df-quickchart {\n",
              "    background-color: var(--bg-color);\n",
              "    border: none;\n",
              "    border-radius: 50%;\n",
              "    cursor: pointer;\n",
              "    display: none;\n",
              "    fill: var(--fill-color);\n",
              "    height: 32px;\n",
              "    padding: 0;\n",
              "    width: 32px;\n",
              "  }\n",
              "\n",
              "  .colab-df-quickchart:hover {\n",
              "    background-color: var(--hover-bg-color);\n",
              "    box-shadow: 0 1px 2px rgba(60, 64, 67, 0.3), 0 1px 3px 1px rgba(60, 64, 67, 0.15);\n",
              "    fill: var(--button-hover-fill-color);\n",
              "  }\n",
              "\n",
              "  .colab-df-quickchart-complete:disabled,\n",
              "  .colab-df-quickchart-complete:disabled:hover {\n",
              "    background-color: var(--disabled-bg-color);\n",
              "    fill: var(--disabled-fill-color);\n",
              "    box-shadow: none;\n",
              "  }\n",
              "\n",
              "  .colab-df-spinner {\n",
              "    border: 2px solid var(--fill-color);\n",
              "    border-color: transparent;\n",
              "    border-bottom-color: var(--fill-color);\n",
              "    animation:\n",
              "      spin 1s steps(1) infinite;\n",
              "  }\n",
              "\n",
              "  @keyframes spin {\n",
              "    0% {\n",
              "      border-color: transparent;\n",
              "      border-bottom-color: var(--fill-color);\n",
              "      border-left-color: var(--fill-color);\n",
              "    }\n",
              "    20% {\n",
              "      border-color: transparent;\n",
              "      border-left-color: var(--fill-color);\n",
              "      border-top-color: var(--fill-color);\n",
              "    }\n",
              "    30% {\n",
              "      border-color: transparent;\n",
              "      border-left-color: var(--fill-color);\n",
              "      border-top-color: var(--fill-color);\n",
              "      border-right-color: var(--fill-color);\n",
              "    }\n",
              "    40% {\n",
              "      border-color: transparent;\n",
              "      border-right-color: var(--fill-color);\n",
              "      border-top-color: var(--fill-color);\n",
              "    }\n",
              "    60% {\n",
              "      border-color: transparent;\n",
              "      border-right-color: var(--fill-color);\n",
              "    }\n",
              "    80% {\n",
              "      border-color: transparent;\n",
              "      border-right-color: var(--fill-color);\n",
              "      border-bottom-color: var(--fill-color);\n",
              "    }\n",
              "    90% {\n",
              "      border-color: transparent;\n",
              "      border-bottom-color: var(--fill-color);\n",
              "    }\n",
              "  }\n",
              "</style>\n",
              "\n",
              "  <script>\n",
              "    async function quickchart(key) {\n",
              "      const quickchartButtonEl =\n",
              "        document.querySelector('#' + key + ' button');\n",
              "      quickchartButtonEl.disabled = true;  // To prevent multiple clicks.\n",
              "      quickchartButtonEl.classList.add('colab-df-spinner');\n",
              "      try {\n",
              "        const charts = await google.colab.kernel.invokeFunction(\n",
              "            'suggestCharts', [key], {});\n",
              "      } catch (error) {\n",
              "        console.error('Error during call to suggestCharts:', error);\n",
              "      }\n",
              "      quickchartButtonEl.classList.remove('colab-df-spinner');\n",
              "      quickchartButtonEl.classList.add('colab-df-quickchart-complete');\n",
              "    }\n",
              "    (() => {\n",
              "      let quickchartButtonEl =\n",
              "        document.querySelector('#df-37ed0537-d5ca-4890-a79e-c491af82d95b button');\n",
              "      quickchartButtonEl.style.display =\n",
              "        google.colab.kernel.accessAllowed ? 'block' : 'none';\n",
              "    })();\n",
              "  </script>\n",
              "</div>\n",
              "\n",
              "    </div>\n",
              "  </div>\n"
            ]
          },
          "metadata": {},
          "execution_count": 12
        }
      ]
    },
    {
      "cell_type": "markdown",
      "source": [
        "#Silver"
      ],
      "metadata": {
        "id": "u6Px1LZtKVgK"
      }
    },
    {
      "cell_type": "code",
      "source": [
        " # Create the schema for the table\n",
        "orderSchema = StructType([\n",
        "     StructField(\"Type\", StringType()),\n",
        "     StructField(\"Numberofreturnsfiled\", IntegerType()),\n",
        "     StructField(\"Numberofreturnsfiledelectronically\", IntegerType()),\n",
        "     StructField(\"InternalRevenuegrosscollectionsthousandsofdollars\", IntegerType()),\n",
        "     StructField(\"NumberofInternalRevenuerefundsissued\", IntegerType()),\n",
        "     StructField(\"AmountofInternalRevenuerefundsissued\", IntegerType()),\n",
        "     StructField(\"State\", StringType()),\n",
        "     StructField(\"Date\", DateType())\n",
        "     ])\n",
        "\n",
        "# Import all files from bronze folder\n",
        "df = spark.read.format(\"csv\").option(\"header\", \"true\").schema(orderSchema).load(\"/content/bronze/*.csv\")\n",
        "df.show(truncate=False)"
      ],
      "metadata": {
        "id": "qDJKaRkZWl-u",
        "colab": {
          "base_uri": "https://localhost:8080/"
        },
        "outputId": "4d27b60d-f021-4047-cb13-a7b8709cf187"
      },
      "execution_count": 13,
      "outputs": [
        {
          "output_type": "stream",
          "name": "stdout",
          "text": [
            "+------------------------------------------+--------------------+----------------------------------+-------------------------------------------------+------------------------------------+------------------------------------+--------------------+----------+\n",
            "|Type                                      |Numberofreturnsfiled|Numberofreturnsfiledelectronically|InternalRevenuegrosscollectionsthousandsofdollars|NumberofInternalRevenuerefundsissued|AmountofInternalRevenuerefundsissued|State               |Date      |\n",
            "+------------------------------------------+--------------------+----------------------------------+-------------------------------------------------+------------------------------------+------------------------------------+--------------------+----------+\n",
            "|Total                                     |629922              |475172                            |34603494                                         |1152914                             |2152594                             |District of Columbia|2021-01-01|\n",
            "|Individual income tax and employment taxes|495609              |382938                            |24589114                                         |1149179                             |1846080                             |District of Columbia|2021-01-01|\n",
            "|Estate tax                                |96                  |NULL                              |116071                                           |NULL                                |NULL                                |District of Columbia|2021-01-01|\n",
            "|Corporation income tax                    |11974               |3649                              |9681512                                          |2018                                |290892                              |District of Columbia|2021-01-01|\n",
            "|Estate and trust income tax               |9789                |5611                              |170024                                           |1400                                |9586                                |District of Columbia|2021-01-01|\n",
            "|Gift tax                                  |1039                |NULL                              |3440                                             |NULL                                |NULL                                |District of Columbia|2021-01-01|\n",
            "|Tax-exempt organizations                  |13428               |10660                             |NULL                                             |NULL                                |NULL                                |District of Columbia|2021-01-01|\n",
            "|Excise taxes                              |603                 |111                               |43333                                            |305                                 |4144                                |District of Columbia|2021-01-01|\n",
            "|Total                                     |637858              |499635                            |37711367                                         |472631                              |1240356                             |District of Columbia|2022-01-01|\n",
            "|Individual income tax and employment taxes|474112              |388378                            |32719365                                         |468913                              |1149807                             |District of Columbia|2022-01-01|\n",
            "|Estate tax                                |58                  |NULL                              |259188                                           |NULL                                |NULL                                |District of Columbia|2022-01-01|\n",
            "|Corporation income tax                    |13390               |3780                              |4473417                                          |2239                                |81936                               |District of Columbia|2022-01-01|\n",
            "|Estate and trust income tax               |9329                |NULL                              |206437                                           |1128                                |7118                                |District of Columbia|2022-01-01|\n",
            "|Gift tax                                  |1092                |NULL                              |2256                                             |NULL                                |NULL                                |District of Columbia|2022-01-01|\n",
            "|Tax-exempt organizations                  |13426               |11640                             |NULL                                             |NULL                                |NULL                                |District of Columbia|2022-01-01|\n",
            "|Excise taxes                              |488                 |NULL                              |50703                                            |336                                 |-462                                |District of Columbia|2022-01-01|\n",
            "|Total                                     |6013221             |4663965                           |144305270                                        |11894472                            |21523926                            |Massachusetts       |2021-01-01|\n",
            "|Individual income tax and employment taxes|5022609             |3892661                           |130386176                                        |11865498                            |20027846                            |Massachusetts       |2021-01-01|\n",
            "|Estate tax                                |1357                |NULL                              |547714                                           |87                                  |6008                                |Massachusetts       |2021-01-01|\n",
            "|Corporation income tax                    |55959               |35556                             |10495896                                         |9131                                |1336189                             |Massachusetts       |2021-01-01|\n",
            "+------------------------------------------+--------------------+----------------------------------+-------------------------------------------------+------------------------------------+------------------------------------+--------------------+----------+\n",
            "only showing top 20 rows\n",
            "\n"
          ]
        }
      ]
    },
    {
      "cell_type": "markdown",
      "source": [
        "In this code block:\n",
        "\n",
        "1. We define a schema (`orderSchema`) for the DataFrame using the `StructType` and `StructField` classes from the `pyspark.sql.types` module. This schema includes fields with specified data types for the columns.\n",
        "\n",
        "2. We create a Spark session using `SparkSession.builder.appName(\"app\").getOrCreate()`.\n",
        "\n",
        "3. We read CSV files from the \"/content/bronze/\" directory using `spark.read.format(\"csv\").option(\"header\", \"true\").schema(orderSchema).load(\"/content/bronze/*.csv\")`. This ensures that the DataFrame is created with the predefined schema.\n",
        "\n",
        "4. We display the DataFrame using `df.show(truncate=False)`.\n",
        "\n",
        "The specified schema ensures that the data types for each column in the DataFrame match the expected types, providing a structured and organized representation of the IRS data within the Medallion architecture design of the warehouse."
      ],
      "metadata": {
        "id": "2pqIEDq1GqBj"
      }
    },
    {
      "cell_type": "code",
      "source": [
        "df = df.withColumn(\"FileName\", input_file_name()).withColumn(\"IsFlagged\", when(col(\"State\") == 'California',True).otherwise(False)) \\\n",
        "     .withColumn(\"CreatedTS\", current_timestamp()).withColumn(\"ModifiedTS\", current_timestamp())\n",
        "\n",
        "df = df.na.fill(0)\n",
        "df.show(truncate=False)\n"
      ],
      "metadata": {
        "colab": {
          "base_uri": "https://localhost:8080/"
        },
        "id": "eoLO3mhujf1L",
        "outputId": "67d8a708-710f-46cf-a2b3-5d014a12c8fe"
      },
      "execution_count": 14,
      "outputs": [
        {
          "output_type": "stream",
          "name": "stdout",
          "text": [
            "+------------------------------------------+--------------------+----------------------------------+-------------------------------------------------+------------------------------------+------------------------------------+--------------------+----------+-----------------------------------------------------+---------+--------------------------+--------------------------+\n",
            "|Type                                      |Numberofreturnsfiled|Numberofreturnsfiledelectronically|InternalRevenuegrosscollectionsthousandsofdollars|NumberofInternalRevenuerefundsissued|AmountofInternalRevenuerefundsissued|State               |Date      |FileName                                             |IsFlagged|CreatedTS                 |ModifiedTS                |\n",
            "+------------------------------------------+--------------------+----------------------------------+-------------------------------------------------+------------------------------------+------------------------------------+--------------------+----------+-----------------------------------------------------+---------+--------------------------+--------------------------+\n",
            "|Total                                     |629922              |475172                            |34603494                                         |1152914                             |2152594                             |District of Columbia|2021-01-01|file:///content/bronze/21District%20Of%20Columbia.csv|false    |2024-02-07 20:10:52.637454|2024-02-07 20:10:52.637454|\n",
            "|Individual income tax and employment taxes|495609              |382938                            |24589114                                         |1149179                             |1846080                             |District of Columbia|2021-01-01|file:///content/bronze/21District%20Of%20Columbia.csv|false    |2024-02-07 20:10:52.637454|2024-02-07 20:10:52.637454|\n",
            "|Estate tax                                |96                  |0                                 |116071                                           |0                                   |0                                   |District of Columbia|2021-01-01|file:///content/bronze/21District%20Of%20Columbia.csv|false    |2024-02-07 20:10:52.637454|2024-02-07 20:10:52.637454|\n",
            "|Corporation income tax                    |11974               |3649                              |9681512                                          |2018                                |290892                              |District of Columbia|2021-01-01|file:///content/bronze/21District%20Of%20Columbia.csv|false    |2024-02-07 20:10:52.637454|2024-02-07 20:10:52.637454|\n",
            "|Estate and trust income tax               |9789                |5611                              |170024                                           |1400                                |9586                                |District of Columbia|2021-01-01|file:///content/bronze/21District%20Of%20Columbia.csv|false    |2024-02-07 20:10:52.637454|2024-02-07 20:10:52.637454|\n",
            "|Gift tax                                  |1039                |0                                 |3440                                             |0                                   |0                                   |District of Columbia|2021-01-01|file:///content/bronze/21District%20Of%20Columbia.csv|false    |2024-02-07 20:10:52.637454|2024-02-07 20:10:52.637454|\n",
            "|Tax-exempt organizations                  |13428               |10660                             |0                                                |0                                   |0                                   |District of Columbia|2021-01-01|file:///content/bronze/21District%20Of%20Columbia.csv|false    |2024-02-07 20:10:52.637454|2024-02-07 20:10:52.637454|\n",
            "|Excise taxes                              |603                 |111                               |43333                                            |305                                 |4144                                |District of Columbia|2021-01-01|file:///content/bronze/21District%20Of%20Columbia.csv|false    |2024-02-07 20:10:52.637454|2024-02-07 20:10:52.637454|\n",
            "|Total                                     |637858              |499635                            |37711367                                         |472631                              |1240356                             |District of Columbia|2022-01-01|file:///content/bronze/22District%20Of%20Columbia.csv|false    |2024-02-07 20:10:52.637454|2024-02-07 20:10:52.637454|\n",
            "|Individual income tax and employment taxes|474112              |388378                            |32719365                                         |468913                              |1149807                             |District of Columbia|2022-01-01|file:///content/bronze/22District%20Of%20Columbia.csv|false    |2024-02-07 20:10:52.637454|2024-02-07 20:10:52.637454|\n",
            "|Estate tax                                |58                  |0                                 |259188                                           |0                                   |0                                   |District of Columbia|2022-01-01|file:///content/bronze/22District%20Of%20Columbia.csv|false    |2024-02-07 20:10:52.637454|2024-02-07 20:10:52.637454|\n",
            "|Corporation income tax                    |13390               |3780                              |4473417                                          |2239                                |81936                               |District of Columbia|2022-01-01|file:///content/bronze/22District%20Of%20Columbia.csv|false    |2024-02-07 20:10:52.637454|2024-02-07 20:10:52.637454|\n",
            "|Estate and trust income tax               |9329                |0                                 |206437                                           |1128                                |7118                                |District of Columbia|2022-01-01|file:///content/bronze/22District%20Of%20Columbia.csv|false    |2024-02-07 20:10:52.637454|2024-02-07 20:10:52.637454|\n",
            "|Gift tax                                  |1092                |0                                 |2256                                             |0                                   |0                                   |District of Columbia|2022-01-01|file:///content/bronze/22District%20Of%20Columbia.csv|false    |2024-02-07 20:10:52.637454|2024-02-07 20:10:52.637454|\n",
            "|Tax-exempt organizations                  |13426               |11640                             |0                                                |0                                   |0                                   |District of Columbia|2022-01-01|file:///content/bronze/22District%20Of%20Columbia.csv|false    |2024-02-07 20:10:52.637454|2024-02-07 20:10:52.637454|\n",
            "|Excise taxes                              |488                 |0                                 |50703                                            |336                                 |-462                                |District of Columbia|2022-01-01|file:///content/bronze/22District%20Of%20Columbia.csv|false    |2024-02-07 20:10:52.637454|2024-02-07 20:10:52.637454|\n",
            "|Total                                     |6013221             |4663965                           |144305270                                        |11894472                            |21523926                            |Massachusetts       |2021-01-01|file:///content/bronze/21Massachusetts.csv           |false    |2024-02-07 20:10:52.637454|2024-02-07 20:10:52.637454|\n",
            "|Individual income tax and employment taxes|5022609             |3892661                           |130386176                                        |11865498                            |20027846                            |Massachusetts       |2021-01-01|file:///content/bronze/21Massachusetts.csv           |false    |2024-02-07 20:10:52.637454|2024-02-07 20:10:52.637454|\n",
            "|Estate tax                                |1357                |0                                 |547714                                           |87                                  |6008                                |Massachusetts       |2021-01-01|file:///content/bronze/21Massachusetts.csv           |false    |2024-02-07 20:10:52.637454|2024-02-07 20:10:52.637454|\n",
            "|Corporation income tax                    |55959               |35556                             |10495896                                         |9131                                |1336189                             |Massachusetts       |2021-01-01|file:///content/bronze/21Massachusetts.csv           |false    |2024-02-07 20:10:52.637454|2024-02-07 20:10:52.637454|\n",
            "+------------------------------------------+--------------------+----------------------------------+-------------------------------------------------+------------------------------------+------------------------------------+--------------------+----------+-----------------------------------------------------+---------+--------------------------+--------------------------+\n",
            "only showing top 20 rows\n",
            "\n"
          ]
        }
      ]
    },
    {
      "cell_type": "markdown",
      "source": [
        "In this code block:\n",
        "\n",
        "1. We use `withColumn` to add four additional columns to the DataFrame:\n",
        "   - \"FileName\": Represents the input file name for each row using the `input_file_name()` function.\n",
        "   - \"IsFlagged\": Represents a boolean column indicating whether the state is 'California'. If true, the row is flagged; otherwise, it is not flagged.\n",
        "   - \"CreatedTS\": Represents the timestamp indicating when the row was created, using `current_timestamp()`.\n",
        "   - \"ModifiedTS\": Represents the timestamp indicating when the row was last modified, using `current_timestamp()`.\n",
        "\n",
        "2. We use `na.fill(0)` to fill any missing values in the DataFrame with zeros.\n",
        "\n",
        "3. Finally, we display the updated DataFrame using `df.show(truncate=False)`.\n",
        "\n",
        "These transformations enhance the DataFrame with additional metadata and flags, providing valuable information for tracking and analyzing the data within the warehouse organized using the Medallion architecture design."
      ],
      "metadata": {
        "id": "N2Y6j2d0HNFe"
      }
    },
    {
      "cell_type": "code",
      "source": [
        "DeltaTable.createIfNotExists(spark) \\\n",
        "     .tableName(\"table_silver\") \\\n",
        "     .addColumn(\"Type\", StringType())\\\n",
        "     .addColumn(\"Numberofreturnsfiled\", IntegerType())\\\n",
        "     .addColumn(\"Numberofreturnsfiledelectronically\", IntegerType())\\\n",
        "     .addColumn(\"InternalRevenuegrosscollectionsthousandsofdollars\", IntegerType())\\\n",
        "     .addColumn(\"NumberofInternalRevenuerefundsissued\", IntegerType())\\\n",
        "     .addColumn(\"AmountofInternalRevenuerefundsissued\", IntegerType())\\\n",
        "     .addColumn(\"State\", StringType())\\\n",
        "     .addColumn(\"Date\", DateType())\\\n",
        "     .addColumn(\"FileName\", StringType()) \\\n",
        "     .addColumn(\"IsFlagged\", BooleanType()) \\\n",
        "     .addColumn(\"CreatedTS\", DateType()) \\\n",
        "     .addColumn(\"ModifiedTS\", DateType()) \\\n",
        "     .execute()"
      ],
      "metadata": {
        "colab": {
          "base_uri": "https://localhost:8080/"
        },
        "id": "2HGCS0f5OEP4",
        "outputId": "ccdf8fad-893c-4f4e-8639-eab515e787ab"
      },
      "execution_count": 15,
      "outputs": [
        {
          "output_type": "execute_result",
          "data": {
            "text/plain": [
              "<delta.tables.DeltaTable at 0x7dd0d70cac50>"
            ]
          },
          "metadata": {},
          "execution_count": 15
        }
      ]
    },
    {
      "cell_type": "markdown",
      "source": [
        "In this code block:\n",
        "\n",
        "1. We use the `DeltaTable.createIfNotExists` method to create or update a Delta table named 'table_silver'.\n",
        "\n",
        "2. We define the schema of the Delta table with specified columns and their corresponding data types, such as `StringType`, `IntegerType`, `DateType`, and `BooleanType`.\n",
        "\n",
        "3. The columns added to the Delta table include the ones present in the DataFrame (`df`) along with the additional metadata columns like \"FileName,\" \"IsFlagged,\" \"CreatedTS,\" and \"ModifiedTS.\"\n",
        "\n",
        "4. The `execute()` method is called to execute the creation or update of the Delta table with the specified schema.\n",
        "\n",
        "This Delta table is designed to store the structured data with additional metadata, allowing for efficient data management and querying within the Medallion architecture design of the warehouse. The Delta Lake features provide ACID transactions and versioning, enhancing data reliability and traceability."
      ],
      "metadata": {
        "id": "8By9nYObHcRq"
      }
    },
    {
      "cell_type": "code",
      "source": [
        "# Update existing records and insert new ones based on a condition\n",
        "\n",
        "deltaTable = DeltaTable.forPath(spark, '/content/spark-warehouse/table_silver')\n",
        "\n",
        "dfUpdates = df\n",
        "\n",
        "deltaTable.alias('silver') \\\n",
        "  .merge(\n",
        "    dfUpdates.alias('updates'),\n",
        "    'silver.Type = updates.Type and silver.State = updates.State and silver.Date = updates.Date'\n",
        "  ) \\\n",
        "   .whenMatchedUpdate(set =\n",
        "    {\n",
        "\n",
        "    }\n",
        "  ) \\\n",
        " .whenNotMatchedInsert(values =\n",
        "    {\n",
        "      \"Type\": \"updates.Type\",\n",
        "      \"Numberofreturnsfiled\": \"updates.Numberofreturnsfiled\",\n",
        "      \"Numberofreturnsfiledelectronically\": \"updates.Numberofreturnsfiledelectronically\",\n",
        "      \"InternalRevenuegrosscollectionsthousandsofdollars\": \"updates.InternalRevenuegrosscollectionsthousandsofdollars\",\n",
        "      \"NumberofInternalRevenuerefundsissued\": \"updates.NumberofInternalRevenuerefundsissued\",\n",
        "      \"AmountofInternalRevenuerefundsissued\": \"updates.AmountofInternalRevenuerefundsissued\",\n",
        "      \"State\": \"updates.State\",\n",
        "      \"Date\": \"updates.Date\",\n",
        "      \"FileName\": \"updates.FileName\",\n",
        "      \"IsFlagged\": \"updates.IsFlagged\",\n",
        "      \"CreatedTS\": \"updates.CreatedTS\",\n",
        "      \"ModifiedTS\": \"updates.ModifiedTS\"\n",
        "    }\n",
        "  ) \\\n",
        "  .execute()"
      ],
      "metadata": {
        "id": "vs8376vKOEMw"
      },
      "execution_count": 16,
      "outputs": []
    },
    {
      "cell_type": "markdown",
      "source": [
        "In this code block:\n",
        "\n",
        "1. We use the `DeltaTable.forPath` method to load the Delta table from the specified path (\"/content/spark-warehouse/table_silver\").\n",
        "\n",
        "2. We create a copy of the DataFrame (`dfUpdates`) for updates.\n",
        "\n",
        "3. We use the `DeltaTable.merge` operation to perform a merge operation on the Delta table and DataFrame updates. The merge condition is specified using the columns \"Type,\" \"State,\" and \"Date.\"\n",
        "\n",
        "4. Within the `whenMatchedUpdate` clause, an empty `set` is specified, indicating that no updates are performed for matched records.\n",
        "\n",
        "5. Within the `whenNotMatchedInsert` clause, values from the \"updates\" DataFrame are used to insert new records into the Delta table.\n",
        "\n",
        "6. The `execute()` method is called to execute the merge operation on the Delta table.\n",
        "\n",
        "This merge operation efficiently handles updates and inserts, maintaining data integrity within the Delta table as part of the warehouse organization with the Medallion architecture design."
      ],
      "metadata": {
        "id": "ustHY-CEHmkw"
      }
    },
    {
      "cell_type": "code",
      "source": [
        "spark.sql(\"SELECT * FROM table_silver WHERE Date = '2022'\").show(truncate=False)"
      ],
      "metadata": {
        "colab": {
          "base_uri": "https://localhost:8080/"
        },
        "id": "RKpdBG_DVra1",
        "outputId": "379e4d23-0bb0-4be7-efda-fd741a82ed3e"
      },
      "execution_count": 17,
      "outputs": [
        {
          "output_type": "stream",
          "name": "stdout",
          "text": [
            "+------------------------------------------+--------------------+----------------------------------+-------------------------------------------------+------------------------------------+------------------------------------+--------------------+----------+-----------------------------------------------------+---------+----------+----------+\n",
            "|Type                                      |Numberofreturnsfiled|Numberofreturnsfiledelectronically|InternalRevenuegrosscollectionsthousandsofdollars|NumberofInternalRevenuerefundsissued|AmountofInternalRevenuerefundsissued|State               |Date      |FileName                                             |IsFlagged|CreatedTS |ModifiedTS|\n",
            "+------------------------------------------+--------------------+----------------------------------+-------------------------------------------------+------------------------------------+------------------------------------+--------------------+----------+-----------------------------------------------------+---------+----------+----------+\n",
            "|Total                                     |637858              |499635                            |37711367                                         |472631                              |1240356                             |District of Columbia|2022-01-01|file:///content/bronze/22District%20Of%20Columbia.csv|false    |2024-02-07|2024-02-07|\n",
            "|Individual income tax and employment taxes|474112              |388378                            |32719365                                         |468913                              |1149807                             |District of Columbia|2022-01-01|file:///content/bronze/22District%20Of%20Columbia.csv|false    |2024-02-07|2024-02-07|\n",
            "|Estate tax                                |58                  |0                                 |259188                                           |0                                   |0                                   |District of Columbia|2022-01-01|file:///content/bronze/22District%20Of%20Columbia.csv|false    |2024-02-07|2024-02-07|\n",
            "|Corporation income tax                    |13390               |3780                              |4473417                                          |2239                                |81936                               |District of Columbia|2022-01-01|file:///content/bronze/22District%20Of%20Columbia.csv|false    |2024-02-07|2024-02-07|\n",
            "|Estate and trust income tax               |9329                |0                                 |206437                                           |1128                                |7118                                |District of Columbia|2022-01-01|file:///content/bronze/22District%20Of%20Columbia.csv|false    |2024-02-07|2024-02-07|\n",
            "|Gift tax                                  |1092                |0                                 |2256                                             |0                                   |0                                   |District of Columbia|2022-01-01|file:///content/bronze/22District%20Of%20Columbia.csv|false    |2024-02-07|2024-02-07|\n",
            "|Tax-exempt organizations                  |13426               |11640                             |0                                                |0                                   |0                                   |District of Columbia|2022-01-01|file:///content/bronze/22District%20Of%20Columbia.csv|false    |2024-02-07|2024-02-07|\n",
            "|Excise taxes                              |488                 |0                                 |50703                                            |336                                 |-462                                |District of Columbia|2022-01-01|file:///content/bronze/22District%20Of%20Columbia.csv|false    |2024-02-07|2024-02-07|\n",
            "|Total                                     |6047370             |4832549                           |169850426                                        |4904027                             |11841436                            |Massachusetts       |2022-01-01|file:///content/bronze/22Massachusetts.csv           |false    |2024-02-07|2024-02-07|\n",
            "|Individual income tax and employment taxes|4810544             |3914811                           |149845979                                        |4879110                             |10450213                            |Massachusetts       |2022-01-01|file:///content/bronze/22Massachusetts.csv           |false    |2024-02-07|2024-02-07|\n",
            "|Estate tax                                |1239                |0                                 |574432                                           |87                                  |19329                               |Massachusetts       |2022-01-01|file:///content/bronze/22Massachusetts.csv           |false    |2024-02-07|2024-02-07|\n",
            "|Corporation income tax                    |54252               |34650                             |15832589                                         |14469                               |1200703                             |Massachusetts       |2022-01-01|file:///content/bronze/22Massachusetts.csv           |false    |2024-02-07|2024-02-07|\n",
            "|Estate and trust income tax               |164131              |121757                            |2365048                                          |7642                                |81214                               |Massachusetts       |2022-01-01|file:///content/bronze/22Massachusetts.csv           |false    |2024-02-07|2024-02-07|\n",
            "|Gift tax                                  |10709               |0                                 |137514                                           |41                                  |3997                                |Massachusetts       |2022-01-01|file:///content/bronze/22Massachusetts.csv           |false    |2024-02-07|2024-02-07|\n",
            "|Tax-exempt organizations                  |44675               |33071                             |0                                                |0                                   |0                                   |Massachusetts       |2022-01-01|file:///content/bronze/22Massachusetts.csv           |false    |2024-02-07|2024-02-07|\n",
            "|Excise taxes                              |13396               |8627                              |1094864                                          |2678                                |85979                               |Massachusetts       |2022-01-01|file:///content/bronze/22Massachusetts.csv           |false    |2024-02-07|2024-02-07|\n",
            "|Total                                     |30949863            |26238422                          |696826462                                        |27808366                            |62402488                            |California          |2022-01-01|file:///content/bronze/22California.csv              |true     |2024-02-07|2024-02-07|\n",
            "|Individual income tax and employment taxes|23209479            |20521329                          |602585196                                        |27651906                            |57215118                            |California          |2022-01-01|file:///content/bronze/22California.csv              |true     |2024-02-07|2024-02-07|\n",
            "|Estate tax                                |4343                |0                                 |5778261                                          |538                                 |126817                              |California          |2022-01-01|file:///content/bronze/22California.csv              |true     |2024-02-07|2024-02-07|\n",
            "|Corporation income tax                    |354434              |252121                            |77361863                                         |104849                              |4601424                             |California          |2022-01-01|file:///content/bronze/22California.csv              |true     |2024-02-07|2024-02-07|\n",
            "+------------------------------------------+--------------------+----------------------------------+-------------------------------------------------+------------------------------------+------------------------------------+--------------------+----------+-----------------------------------------------------+---------+----------+----------+\n",
            "only showing top 20 rows\n",
            "\n"
          ]
        }
      ]
    },
    {
      "cell_type": "markdown",
      "source": [
        "The provided Spark SQL query aims to select all columns from the \"table_silver\" Delta table where the \"Date\" column is equal to the year 2022. However, it's important to note that the \"Date\" column is of type `DateType`, which typically includes both the date and the time components.\n",
        "\n",
        "This query uses the `year()` function to extract the year from the \"Date\" column and filters the records where the year is equal to 2022. Adjustments like this ensure that the date filtering is done accurately based on the specified criteria."
      ],
      "metadata": {
        "id": "XsT8kJOaHu22"
      }
    },
    {
      "cell_type": "markdown",
      "source": [
        "#Gold"
      ],
      "metadata": {
        "id": "KrE7zOAgKvhz"
      }
    },
    {
      "cell_type": "code",
      "source": [
        "dfgold = spark.read.table(\"table_silver\")\n",
        "dfgold.show(truncate=False)"
      ],
      "metadata": {
        "colab": {
          "base_uri": "https://localhost:8080/"
        },
        "id": "v9A9iA7qVwcw",
        "outputId": "1de68b88-3dbf-49ac-a706-d97607e24cb5"
      },
      "execution_count": 18,
      "outputs": [
        {
          "output_type": "stream",
          "name": "stdout",
          "text": [
            "+------------------------------------------+--------------------+----------------------------------+-------------------------------------------------+------------------------------------+------------------------------------+-------------+----------+--------------------------------------------+---------+----------+----------+\n",
            "|Type                                      |Numberofreturnsfiled|Numberofreturnsfiledelectronically|InternalRevenuegrosscollectionsthousandsofdollars|NumberofInternalRevenuerefundsissued|AmountofInternalRevenuerefundsissued|State        |Date      |FileName                                    |IsFlagged|CreatedTS |ModifiedTS|\n",
            "+------------------------------------------+--------------------+----------------------------------+-------------------------------------------------+------------------------------------+------------------------------------+-------------+----------+--------------------------------------------+---------+----------+----------+\n",
            "|Total                                     |7224974             |5961151                           |94064899                                         |18506270                            |32364030                            |Michigan     |2021-01-01|file:///content/bronze/21Michigan.csv       |false    |2024-02-07|2024-02-07|\n",
            "|Individual income tax and employment taxes|6147165             |5097296                           |84285693                                         |18476584                            |30953647                            |Michigan     |2021-01-01|file:///content/bronze/21Michigan.csv       |false    |2024-02-07|2024-02-07|\n",
            "|Estate tax                                |438                 |0                                 |628546                                           |60                                  |14510                               |Michigan     |2021-01-01|file:///content/bronze/21Michigan.csv       |false    |2024-02-07|2024-02-07|\n",
            "|Corporation income tax                    |49087               |34384                             |7851833                                          |12812                               |1291810                             |Michigan     |2021-01-01|file:///content/bronze/21Michigan.csv       |false    |2024-02-07|2024-02-07|\n",
            "|Estate and trust income tax               |95364               |66981                             |916716                                           |13333                               |76847                               |Michigan     |2021-01-01|file:///content/bronze/21Michigan.csv       |false    |2024-02-07|2024-02-07|\n",
            "|Gift tax                                  |6256                |0                                 |67985                                            |16                                  |-1282                               |Michigan     |2021-01-01|file:///content/bronze/21Michigan.csv       |false    |2024-02-07|2024-02-07|\n",
            "|Tax-exempt organizations                  |45937               |37263                             |0                                                |0                                   |0                                   |Michigan     |2021-01-01|file:///content/bronze/21Michigan.csv       |false    |2024-02-07|2024-02-07|\n",
            "|Excise taxes                              |34143               |19701                             |314124                                           |3465                                |28499                               |Michigan     |2021-01-01|file:///content/bronze/21Michigan.csv       |false    |2024-02-07|2024-02-07|\n",
            "|Total                                     |927273              |725118                            |16491561                                         |2060503                             |3365017                             |Rhode Island |2021-01-01|file:///content/bronze/21Rhode%20Island.csv |false    |2024-02-07|2024-02-07|\n",
            "|Individual income tax and employment taxes|783381              |616873                            |12369428                                         |2055411                             |3300299                             |Rhode Island |2021-01-01|file:///content/bronze/21Rhode%20Island.csv |false    |2024-02-07|2024-02-07|\n",
            "|Estate tax                                |207                 |0                                 |22445                                            |0                                   |0                                   |Rhode Island |2021-01-01|file:///content/bronze/21Rhode%20Island.csv |false    |2024-02-07|2024-02-07|\n",
            "|Corporation income tax                    |5395                |3575                              |3807910                                          |1171                                |45718                               |Rhode Island |2021-01-01|file:///content/bronze/21Rhode%20Island.csv |false    |2024-02-07|2024-02-07|\n",
            "|Estate and trust income tax               |26736               |20833                             |180900                                           |3263                                |13256                               |Rhode Island |2021-01-01|file:///content/bronze/21Rhode%20Island.csv |false    |2024-02-07|2024-02-07|\n",
            "|Gift tax                                  |1013                |0                                 |6776                                             |0                                   |0                                   |Rhode Island |2021-01-01|file:///content/bronze/21Rhode%20Island.csv |false    |2024-02-07|2024-02-07|\n",
            "|Tax-exempt organizations                  |9881                |7016                              |0                                                |0                                   |0                                   |Rhode Island |2021-01-01|file:///content/bronze/21Rhode%20Island.csv |false    |2024-02-07|2024-02-07|\n",
            "|Excise taxes                              |2723                |1403                              |104101                                           |638                                 |4009                                |Rhode Island |2021-01-01|file:///content/bronze/21Rhode%20Island.csv |false    |2024-02-07|2024-02-07|\n",
            "|Total                                     |1171177             |902667                            |8434626                                          |1231846                             |2363602                             |West Virginia|2022-01-01|file:///content/bronze/22West%20Virginia.csv|false    |2024-02-07|2024-02-07|\n",
            "|Individual income tax and employment taxes|989701              |783033                            |7973814                                          |1228508                             |2302553                             |West Virginia|2022-01-01|file:///content/bronze/22West%20Virginia.csv|false    |2024-02-07|2024-02-07|\n",
            "|Estate tax                                |51                  |0                                 |3674                                             |0                                   |0                                   |West Virginia|2022-01-01|file:///content/bronze/22West%20Virginia.csv|false    |2024-02-07|2024-02-07|\n",
            "|Corporation income tax                    |5180                |3797                              |352395                                           |1563                                |34065                               |West Virginia|2022-01-01|file:///content/bronze/22West%20Virginia.csv|false    |2024-02-07|2024-02-07|\n",
            "+------------------------------------------+--------------------+----------------------------------+-------------------------------------------------+------------------------------------+------------------------------------+-------------+----------+--------------------------------------------+---------+----------+----------+\n",
            "only showing top 20 rows\n",
            "\n"
          ]
        }
      ]
    },
    {
      "cell_type": "markdown",
      "source": [
        "The provided code uses Spark SQL to read the \"table_silver\" Delta table into a Spark DataFrame named `dfgold` and displays its content using the `show` method.\n",
        "\n",
        "In this code block:\n",
        "\n",
        "1. `spark.read.table(\"table_silver\")`: Reads the \"table_silver\" Delta table into a Spark DataFrame named `dfgold`. The `read.table` method is specifically used for reading Delta tables.\n",
        "\n",
        "2. `dfgold.show(truncate=False)`: Displays the content of the DataFrame `dfgold`. The `truncate=False` parameter ensures that the contents of the columns are not truncated, providing a more detailed view of the data.\n",
        "\n",
        "This code is useful for retrieving and inspecting the data stored in the \"table_silver\" Delta table, facilitating exploration and analysis within the Medallion architecture of the warehouse."
      ],
      "metadata": {
        "id": "SFjnbTwJH6Gg"
      }
    },
    {
      "cell_type": "code",
      "source": [
        "# Define the schema for the dimdate_gold table\n",
        "DeltaTable.createIfNotExists(spark) \\\n",
        "  .tableName(\"dimdate_gold\") \\\n",
        "  .addColumn(\"Date\", DateType()) \\\n",
        "  .addColumn(\"Day\", IntegerType()) \\\n",
        "  .addColumn(\"Month\", IntegerType()) \\\n",
        "  .addColumn(\"Year\", IntegerType()) \\\n",
        "  .addColumn(\"mmmyyyy\", StringType()) \\\n",
        "  .addColumn(\"yyyymm\", StringType()) \\\n",
        "  .execute()"
      ],
      "metadata": {
        "colab": {
          "base_uri": "https://localhost:8080/"
        },
        "id": "Tb-OhTjkWRvL",
        "outputId": "10579e9a-2cae-459e-da8c-3930090e7f46"
      },
      "execution_count": 19,
      "outputs": [
        {
          "output_type": "execute_result",
          "data": {
            "text/plain": [
              "<delta.tables.DeltaTable at 0x7dd0d70ca2c0>"
            ]
          },
          "metadata": {},
          "execution_count": 19
        }
      ]
    },
    {
      "cell_type": "markdown",
      "source": [
        "The provided Python code uses the DeltaTable API to create a Delta table named \"dimdate_gold\" with a specified schema.\n",
        "\n",
        "In this code block:\n",
        "\n",
        "1. `DeltaTable.createIfNotExists(spark)`: Initiates the creation or update of a Delta table.\n",
        "\n",
        "2. `.tableName(\"dimdate_gold\")`: Specifies the name of the Delta table as \"dimdate_gold.\"\n",
        "\n",
        "3. `.addColumn(...)`: Adds columns to the Delta table with their respective data types. The columns include \"Date\" of type `DateType`, \"Day,\" \"Month,\" and \"Year\" of type `IntegerType`, and \"mmmyyyy\" and \"yyyymm\" of type `StringType`.\n",
        "\n",
        "4. `.execute()`: Executes the creation or update of the Delta table with the specified schema.\n",
        "\n",
        "This code is useful for defining and creating a Delta table that represents a dimension table for date-related information (\"dimdate_gold\"). The table includes columns for date components such as day, month, and year, as well as formatted strings representing month-year and year-month. This dimension table can be used for enriching and organizing date-related information in the Medallion architecture of the warehouse."
      ],
      "metadata": {
        "id": "eoUd-wGWIHiY"
      }
    },
    {
      "cell_type": "code",
      "source": [
        " # Create dataframe for dimDate_gold\n",
        "\n",
        "dfdimDate_gold = dfgold.dropDuplicates([\"Date\"]).select(col(\"Date\"), \\\n",
        "         dayofmonth(\"Date\").alias(\"Day\"), \\\n",
        "         month(\"Date\").alias(\"Month\"), \\\n",
        "         pyspark.sql.functions.year(\"Date\").alias(\"Year\"), \\\n",
        "         date_format(col(\"Date\"), \"MMM-yyyy\").alias(\"mmmyyyy\"), \\\n",
        "         date_format(col(\"Date\"), \"yyyyMM\").alias(\"yyyymm\") \\\n",
        "         ).orderBy(\"Date\")\n",
        "\n",
        "\n",
        "\n",
        "dfdimDate_gold.show(truncate=False)"
      ],
      "metadata": {
        "colab": {
          "base_uri": "https://localhost:8080/"
        },
        "id": "5G2biJydXSyI",
        "outputId": "6839f00b-e7ab-4243-f90c-c05e17a2ef65"
      },
      "execution_count": 23,
      "outputs": [
        {
          "output_type": "stream",
          "name": "stdout",
          "text": [
            "+----------+---+-----+----+--------+------+\n",
            "|Date      |Day|Month|Year|mmmyyyy |yyyymm|\n",
            "+----------+---+-----+----+--------+------+\n",
            "|2021-01-01|1  |1    |2021|Jan-2021|202101|\n",
            "|2022-01-01|1  |1    |2022|Jan-2022|202201|\n",
            "+----------+---+-----+----+--------+------+\n",
            "\n"
          ]
        }
      ]
    },
    {
      "cell_type": "markdown",
      "source": [
        "The provided Python code block uses PySpark DataFrame operations to transform the \"dfgold\" DataFrame (presumably representing a gold table) into a new DataFrame named \"dfdimDate_gold,\" which is a dimension table specifically for date-related information. The code performs operations such as dropping duplicates based on the \"Date\" column, extracting day, month, and year components, and formatting date-related strings.\n",
        "\n",
        "In this code block:\n",
        "\n",
        "1. `dfgold.dropDuplicates([\"Date\"])`: Drops duplicate records based on the \"Date\" column in the \"dfgold\" DataFrame.\n",
        "\n",
        "2. `.select(...)`: Selects and transforms columns to create the \"dfdimDate_gold\" DataFrame. The transformation includes extracting day, month, and year components and formatting date-related strings.\n",
        "\n",
        "3. `.orderBy(\"Date\")`: Orders the resulting DataFrame by the \"Date\" column in ascending order.\n",
        "\n",
        "4. `dfdimDate_gold.show(truncate=False)`: Displays the transformed dimension table.\n",
        "\n",
        "The resulting \"dfdimDate_gold\" DataFrame represents a dimension table with unique date entries and additional date-related information. This kind of dimension table is often used for time-related analysis and reporting within a data warehouse organized with a Medallion architecture."
      ],
      "metadata": {
        "id": "pPV9cN1hISwj"
      }
    },
    {
      "cell_type": "code",
      "source": [
        "deltaTable = DeltaTable.forPath(spark, '/content/spark-warehouse/dimdate_gold')\n",
        "\n",
        "dfUpdates = dfdimDate_gold\n",
        "\n",
        "deltaTable.alias('silver') \\\n",
        "   .merge(\n",
        "     dfUpdates.alias('updates'),\n",
        "     'silver.Date = updates.Date') \\\n",
        "    .whenMatchedUpdate(set =\n",
        "     {\n",
        "\n",
        "     }\n",
        "   ) \\\n",
        "  .whenNotMatchedInsert(values =\n",
        "     {\n",
        "       \"Date\": \"updates.Date\",\n",
        "       \"Day\": \"updates.Day\",\n",
        "       \"Month\": \"updates.Month\",\n",
        "       \"Year\": \"updates.Year\",\n",
        "       \"mmmyyyy\": \"updates.mmmyyyy\",\n",
        "       \"yyyymm\": \"updates.yyyymm\"\n",
        "     }\n",
        "   ) \\\n",
        "   .execute()"
      ],
      "metadata": {
        "id": "K4Q1r83mZWI0"
      },
      "execution_count": 24,
      "outputs": []
    },
    {
      "cell_type": "markdown",
      "source": [
        "The provided Python code block uses the DeltaTable API to perform a merge operation on the \"dimdate_gold\" Delta table. It aims to update existing records based on the \"Date\" column and insert new records from the \"dfdimDate_gold\" DataFrame.\n",
        "\n",
        "In this code block:\n",
        "\n",
        "1. `DeltaTable.forPath(spark, '/content/spark-warehouse/dimdate_gold')`: Loads the \"dimdate_gold\" Delta table from the specified path.\n",
        "\n",
        "2. `dfUpdates = dfdimDate_gold`: Creates a copy of the \"dfdimDate_gold\" DataFrame for updates.\n",
        "\n",
        "3. `deltaTable.alias('silver')`: Creates an alias for the Delta table as 'silver' to simplify referencing.\n",
        "\n",
        "4. `deltaTable.merge(...)`: Performs a merge operation between the Delta table and the \"dfUpdates\" DataFrame based on matching records on the \"Date\" column.\n",
        "\n",
        "5. `.whenMatchedUpdate(set={})`: Specifies that no updates are performed for matched records.\n",
        "\n",
        "6. `.whenNotMatchedInsert(values={...})`: Specifies the values to be inserted for records that do not have a match in the Delta table.\n",
        "\n",
        "7. `.execute()`: Executes the merge operation on the Delta table.\n",
        "\n",
        "This merge operation efficiently handles updates and inserts, maintaining data integrity within the \"dimdate_gold\" Delta table in the context of the warehouse organized with the Medallion architecture design."
      ],
      "metadata": {
        "id": "UhX91cprIdlc"
      }
    },
    {
      "cell_type": "code",
      "source": [
        "dfgolddate = spark.read.table(\"dimdate_gold\")\n",
        "dfgolddate.show(truncate=False)"
      ],
      "metadata": {
        "colab": {
          "base_uri": "https://localhost:8080/"
        },
        "id": "2N0f8wt8eZsr",
        "outputId": "d69bee4a-14cc-428c-9a8a-44cf10c3fe4c"
      },
      "execution_count": 25,
      "outputs": [
        {
          "output_type": "stream",
          "name": "stdout",
          "text": [
            "+----------+---+-----+----+--------+------+\n",
            "|Date      |Day|Month|Year|mmmyyyy |yyyymm|\n",
            "+----------+---+-----+----+--------+------+\n",
            "|2021-01-01|1  |1    |2021|Jan-2021|202101|\n",
            "|2022-01-01|1  |1    |2022|Jan-2022|202201|\n",
            "+----------+---+-----+----+--------+------+\n",
            "\n"
          ]
        }
      ]
    },
    {
      "cell_type": "code",
      "source": [
        "# Create gold dimension delta table\n",
        "DeltaTable.createIfNotExists(spark) \\\n",
        "     .tableName(\"dimstate_gold\") \\\n",
        "     .addColumn(\"State\", StringType()) \\\n",
        "     .addColumn(\"StateID\", LongType()) \\\n",
        "     .execute()"
      ],
      "metadata": {
        "colab": {
          "base_uri": "https://localhost:8080/"
        },
        "id": "Zw5dgnfF_Ny3",
        "outputId": "5103fd98-e27a-44ad-ec94-e05c6a6dcd92"
      },
      "execution_count": 26,
      "outputs": [
        {
          "output_type": "execute_result",
          "data": {
            "text/plain": [
              "<delta.tables.DeltaTable at 0x7dd0d705fb50>"
            ]
          },
          "metadata": {},
          "execution_count": 26
        }
      ]
    },
    {
      "cell_type": "markdown",
      "source": [
        "The provided Python code block uses the DeltaTable API to create or update a Delta table named \"dimstate_gold\" with specified columns and data types.\n",
        "\n",
        "In this code block:\n",
        "\n",
        "1. `DeltaTable.createIfNotExists(spark)`: Initiates the creation or update of a Delta table.\n",
        "\n",
        "2. `.tableName(\"dimstate_gold\")`: Specifies the name of the Delta table as \"dimstate_gold.\"\n",
        "\n",
        "3. `.addColumn(...)`: Adds columns to the Delta table with their respective data types. The columns include \"State\" of type `StringType` and \"StateID\" of type `LongType`.\n",
        "\n",
        "4. `.execute()`: Executes the creation or update of the Delta table with the specified schema.\n",
        "\n",
        "This code is useful for defining and creating a Delta table that represents a dimension table for state-related information (\"dimstate_gold\"). The table includes columns for state names and state IDs. This dimension table can be used for enriching and organizing state-related information in the Medallion architecture of the warehouse."
      ],
      "metadata": {
        "id": "njRU9aqkIpiY"
      }
    },
    {
      "cell_type": "code",
      "source": [
        "# Create dimension delta table\n",
        "DeltaTable.createIfNotExists(spark) \\\n",
        "     .tableName(\"dimtype_gold\") \\\n",
        "     .addColumn(\"Type\", StringType()) \\\n",
        "     .addColumn(\"TypeID\", LongType()) \\\n",
        "     .execute()"
      ],
      "metadata": {
        "colab": {
          "base_uri": "https://localhost:8080/"
        },
        "id": "YtbOeSjNL1eT",
        "outputId": "6498723a-55cc-457b-ab2e-8949780519e5"
      },
      "execution_count": 27,
      "outputs": [
        {
          "output_type": "execute_result",
          "data": {
            "text/plain": [
              "<delta.tables.DeltaTable at 0x7dd0d705d150>"
            ]
          },
          "metadata": {},
          "execution_count": 27
        }
      ]
    },
    {
      "cell_type": "markdown",
      "source": [
        "The provided Python code block uses the DeltaTable API to create or update a Delta table named \"dimtype_gold\" with specified columns and data types.\n",
        "\n",
        "In this code block:\n",
        "\n",
        "1. `DeltaTable.createIfNotExists(spark)`: Initiates the creation or update of a Delta table.\n",
        "\n",
        "2. `.tableName(\"dimtype_gold\")`: Specifies the name of the Delta table as \"dimtype_gold.\"\n",
        "\n",
        "3. `.addColumn(...)`: Adds columns to the Delta table with their respective data types. The columns include \"Type\" of type `StringType` and \"TypeID\" of type `LongType`.\n",
        "\n",
        "4. `.execute()`: Executes the creation or update of the Delta table with the specified schema.\n",
        "\n",
        "This code is useful for defining and creating a Delta table that represents a dimension table for type-related information (\"dimtype_gold\"). The table includes columns for type names and type IDs. This dimension table can be used for enriching and organizing type-related information in the Medallion architecture of the warehouse."
      ],
      "metadata": {
        "id": "yQcAVtOEI1aX"
      }
    },
    {
      "cell_type": "code",
      "source": [
        "# Create silver dataframes\n",
        "dfdimState_silver = df.dropDuplicates([\"State\"]).select(col(\"State\"))\n",
        "dfdimType_silver = df.dropDuplicates([\"Type\"]).select(col(\"Type\"))\n",
        "\n",
        "dfdimState_silver.show(truncate=False)\n",
        "dfdimType_silver.show(truncate=False)"
      ],
      "metadata": {
        "colab": {
          "base_uri": "https://localhost:8080/"
        },
        "id": "q6X0oPdH_dLV",
        "outputId": "954fc9d4-e433-47ec-b27c-3039c0c35726"
      },
      "execution_count": 28,
      "outputs": [
        {
          "output_type": "stream",
          "name": "stdout",
          "text": [
            "+--------------------+\n",
            "|State               |\n",
            "+--------------------+\n",
            "|Minnesota           |\n",
            "|Pennsylvania        |\n",
            "|Connecticut         |\n",
            "|Washington          |\n",
            "|Illinois            |\n",
            "|District of Columbia|\n",
            "|West Virginia       |\n",
            "|North Carolina      |\n",
            "|New Jersey          |\n",
            "|Massachusetts       |\n",
            "|New Hampshire       |\n",
            "|Tennessee           |\n",
            "|Florida             |\n",
            "|South Carolina      |\n",
            "|South Dakota        |\n",
            "|California          |\n",
            "|New York            |\n",
            "|Texas               |\n",
            "|North Dakota        |\n",
            "|Oklahoma            |\n",
            "+--------------------+\n",
            "only showing top 20 rows\n",
            "\n",
            "+------------------------------------------+\n",
            "|Type                                      |\n",
            "+------------------------------------------+\n",
            "|Total                                     |\n",
            "|Corporation income tax                    |\n",
            "|Estate and trust income tax               |\n",
            "|Excise taxes                              |\n",
            "|Individual income tax and employment taxes|\n",
            "|Tax-exempt organizations                  |\n",
            "|Estate tax                                |\n",
            "|Gift tax                                  |\n",
            "+------------------------------------------+\n",
            "\n"
          ]
        }
      ]
    },
    {
      "cell_type": "markdown",
      "source": [
        "The provided Python code block uses PySpark DataFrame operations to create dimension tables for states (\"dfdimState_silver\") and types (\"dfdimType_silver\") from the main DataFrame \"df\" by selecting unique values for the respective columns.\n",
        "\n",
        "In this code block:\n",
        "\n",
        "1. `df.dropDuplicates([\"State\"]).select(col(\"State\"))`: Creates a dimension table for states by dropping duplicate records based on the \"State\" column and selecting only the \"State\" column.\n",
        "\n",
        "2. `df.dropDuplicates([\"Type\"]).select(col(\"Type\"))`: Creates a dimension table for types by dropping duplicate records based on the \"Type\" column and selecting only the \"Type\" column.\n",
        "\n",
        "3. `dfdimState_silver.show(truncate=False)`: Displays the content of the dimension table for states.\n",
        "\n",
        "4. `dfdimType_silver.show(truncate=False)`: Displays the content of the dimension table for types.\n",
        "\n",
        "These dimension tables can be used for enriching and organizing state-related and type-related information in the Medallion architecture of the warehouse. They provide unique values for the respective columns, facilitating efficient querying and analysis."
      ],
      "metadata": {
        "id": "Tq2aiQh_I-lc"
      }
    },
    {
      "cell_type": "code",
      "source": [
        "dfdimState_temp = spark.read.table(\"dimstate_gold\")\n",
        "dfdimType_temp = spark.read.table(\"dimtype_gold\")\n",
        "MAXStateID = dfdimState_temp.select(coalesce(max(col(\"StateID\")),lit(0)).alias(\"MAXStateID\")).first()[0]\n",
        "MAXTypeID = dfdimType_temp.select(coalesce(max(col(\"TypeID\")),lit(0)).alias(\"MAXTypeID\")).first()[0]\n",
        "\n",
        "dfdimState_gold = dfdimState_silver.join(dfdimState_temp,(dfdimState_silver.State == dfdimState_temp.State) , \"left_anti\")\n",
        "dfdimState_gold = dfdimState_gold.withColumn(\"StateID\",monotonically_increasing_id() + MAXStateID + 1)\n",
        "\n",
        "dfdimType_gold = dfdimType_silver.join(dfdimType_temp,(dfdimType_silver.Type == dfdimType_temp.Type) , \"left_anti\")\n",
        "dfdimType_gold = dfdimType_gold.withColumn(\"TypeID\",monotonically_increasing_id() + MAXTypeID + 1)\n",
        "\n",
        "\n",
        "dfdimState_gold.show(truncate=False)\n",
        "\n",
        "dfdimType_gold.show(truncate=False)"
      ],
      "metadata": {
        "colab": {
          "base_uri": "https://localhost:8080/"
        },
        "id": "EwuwocISAhi6",
        "outputId": "6556473c-b0b4-4bee-f786-9d52d883ac5b"
      },
      "execution_count": 29,
      "outputs": [
        {
          "output_type": "stream",
          "name": "stdout",
          "text": [
            "+--------------------+-------+\n",
            "|State               |StateID|\n",
            "+--------------------+-------+\n",
            "|Minnesota           |1      |\n",
            "|Pennsylvania        |2      |\n",
            "|Connecticut         |3      |\n",
            "|Washington          |4      |\n",
            "|Illinois            |5      |\n",
            "|District of Columbia|6      |\n",
            "|West Virginia       |7      |\n",
            "|North Carolina      |8      |\n",
            "|New Jersey          |9      |\n",
            "|Massachusetts       |10     |\n",
            "|New Hampshire       |11     |\n",
            "|Tennessee           |12     |\n",
            "|Florida             |13     |\n",
            "|South Carolina      |14     |\n",
            "|South Dakota        |15     |\n",
            "|California          |16     |\n",
            "|New York            |17     |\n",
            "|Texas               |18     |\n",
            "|North Dakota        |19     |\n",
            "|Oklahoma            |20     |\n",
            "+--------------------+-------+\n",
            "only showing top 20 rows\n",
            "\n",
            "+------------------------------------------+------+\n",
            "|Type                                      |TypeID|\n",
            "+------------------------------------------+------+\n",
            "|Total                                     |1     |\n",
            "|Corporation income tax                    |2     |\n",
            "|Estate and trust income tax               |3     |\n",
            "|Excise taxes                              |4     |\n",
            "|Individual income tax and employment taxes|5     |\n",
            "|Tax-exempt organizations                  |6     |\n",
            "|Estate tax                                |7     |\n",
            "|Gift tax                                  |8     |\n",
            "+------------------------------------------+------+\n",
            "\n"
          ]
        }
      ]
    },
    {
      "cell_type": "markdown",
      "source": [
        "The provided Python code block uses Spark SQL and DataFrame operations to create dimension tables for states (\"dfdimState_gold\") and types (\"dfdimType_gold\") from the temporary dimension tables (\"dfdimState_temp\" and \"dfdimType_temp\") and the newly generated silver dimension tables (\"dfdimState_silver\" and \"dfdimType_silver\"). The code also calculates the maximum IDs for states and types and increments them accordingly.\n",
        "\n",
        "In this code block:\n",
        "\n",
        "1. `coalesce(max(col(\"StateID\")), lit(0)).alias(\"MAXStateID\")`: Calculates the maximum StateID from the temporary state dimension table, handling the case when there are no existing records.\n",
        "\n",
        "2. `coalesce(max(col(\"TypeID\")), lit(0)).alias(\"MAXTypeID\")`: Calculates the maximum TypeID from the temporary type dimension table, handling the case when there are no existing records.\n",
        "\n",
        "3. The code then joins the newly generated silver dimension tables with the corresponding temporary dimension tables using a left anti-join to identify records that are not present in the temporary tables.\n",
        "\n",
        "4. `withColumn(\"StateID\", monotonically_increasing_id() + MAXStateID + 1)`: Adds a new column \"StateID\" to the state dimension table, incrementing the IDs based on the maximum StateID.\n",
        "\n",
        "5. `withColumn(\"TypeID\", monotonically_increasing_id() + MAXTypeID + 1)`: Adds a new column \"TypeID\" to the type dimension table, incrementing the IDs based on the maximum TypeID.\n",
        "\n",
        "6. `dfdimState_gold.show(truncate=False)` and `dfdimType_gold.show(truncate=False)`: Displays the updated dimension tables for states and types, respectively.\n",
        "\n",
        "This code effectively creates updated dimension tables with unique IDs for states and types, facilitating the enrichment and organization of information within the Medallion architecture of the warehouse."
      ],
      "metadata": {
        "id": "iaPgntzKJML0"
      }
    },
    {
      "cell_type": "code",
      "source": [
        "deltaTable = DeltaTable.forPath(spark, '/content/spark-warehouse/dimstate_gold')\n",
        "\n",
        "dfUpdates = dfdimState_gold\n",
        "\n",
        "deltaTable.alias('silver') \\\n",
        "  .merge(\n",
        "    dfUpdates.alias('updates'),\n",
        "    'silver.State = updates.State'\n",
        "  ) \\\n",
        "   .whenMatchedUpdate(set =\n",
        "    {\n",
        "\n",
        "    }\n",
        "  ) \\\n",
        " .whenNotMatchedInsert(values =\n",
        "    {\n",
        "      \"State\": \"updates.State\",\n",
        "      \"StateID\": \"updates.StateID\"\n",
        "    }\n",
        "  ) \\\n",
        "  .execute()"
      ],
      "metadata": {
        "id": "BCLdDy6aCGqA"
      },
      "execution_count": 30,
      "outputs": []
    },
    {
      "cell_type": "markdown",
      "source": [
        "The provided Python code block uses the DeltaTable API to perform a merge operation on the \"dimstate_gold\" Delta table. It aims to update existing records based on the \"State\" column and insert new records from the \"dfdimState_gold\" DataFrame.\n",
        "\n",
        "In this code block:\n",
        "\n",
        "1. `DeltaTable.forPath(spark, '/content/spark-warehouse/dimstate_gold')`: Loads the \"dimstate_gold\" Delta table from the specified path.\n",
        "\n",
        "2. `dfUpdates = dfdimState_gold`: Creates a copy of the \"dfdimState_gold\" DataFrame for updates.\n",
        "\n",
        "3. `deltaTable.alias('silver')`: Creates an alias for the Delta table as 'silver' to simplify referencing.\n",
        "\n",
        "4. `deltaTable.merge(...)`: Performs a merge operation between the Delta table and the \"dfUpdates\" DataFrame based on matching records on the \"State\" column.\n",
        "\n",
        "5. `.whenMatchedUpdate(set={})`: Specifies that no updates are performed for matched records.\n",
        "\n",
        "6. `.whenNotMatchedInsert(values={...})`: Specifies the values to be inserted for records that do not have a match in the Delta table.\n",
        "\n",
        "7. `.execute()`: Executes the merge operation on the Delta table.\n",
        "\n",
        "This merge operation efficiently handles updates and inserts, maintaining data integrity within the \"dimstate_gold\" Delta table in the context of the warehouse organized with the Medallion architecture design."
      ],
      "metadata": {
        "id": "InXgX4KMJXR8"
      }
    },
    {
      "cell_type": "code",
      "source": [
        "deltaTable = DeltaTable.forPath(spark, '/content/spark-warehouse/dimtype_gold')\n",
        "\n",
        "dfUpdates = dfdimType_gold\n",
        "\n",
        "deltaTable.alias('silver') \\\n",
        "  .merge(\n",
        "    dfUpdates.alias('updates'),\n",
        "    'silver.Type = updates.Type'\n",
        "  ) \\\n",
        "   .whenMatchedUpdate(set =\n",
        "    {\n",
        "\n",
        "    }\n",
        "  ) \\\n",
        " .whenNotMatchedInsert(values =\n",
        "    {\n",
        "      \"Type\": \"updates.Type\",\n",
        "      \"TypeID\": \"updates.TypeID\"\n",
        "    }\n",
        "  ) \\\n",
        "  .execute()"
      ],
      "metadata": {
        "id": "PVGZljLUMLq2"
      },
      "execution_count": 31,
      "outputs": []
    },
    {
      "cell_type": "markdown",
      "source": [
        "The provided Python code block uses the DeltaTable API to perform a merge operation on the \"dimtype_gold\" Delta table. It aims to update existing records based on the \"Type\" column and insert new records from the \"dfdimType_gold\" DataFrame.\n",
        "\n",
        "In this code block:\n",
        "\n",
        "1. `DeltaTable.forPath(spark, '/content/spark-warehouse/dimtype_gold')`: Loads the \"dimtype_gold\" Delta table from the specified path.\n",
        "\n",
        "2. `dfUpdates = dfdimType_gold`: Creates a copy of the \"dfdimType_gold\" DataFrame for updates.\n",
        "\n",
        "3. `deltaTable.alias('silver')`: Creates an alias for the Delta table as 'silver' to simplify referencing.\n",
        "\n",
        "4. `deltaTable.merge(...)`: Performs a merge operation between the Delta table and the \"dfUpdates\" DataFrame based on matching records on the \"Type\" column.\n",
        "\n",
        "5. `.whenMatchedUpdate(set={})`: Specifies that no updates are performed for matched records.\n",
        "\n",
        "6. `.whenNotMatchedInsert(values={...})`: Specifies the values to be inserted for records that do not have a match in the Delta table.\n",
        "\n",
        "7. `.execute()`: Executes the merge operation on the Delta table.\n",
        "\n",
        "This merge operation efficiently handles updates and inserts, maintaining data integrity within the \"dimtype_gold\" Delta table in the context of the warehouse organized with the Medallion architecture design."
      ],
      "metadata": {
        "id": "0MtQsIurJioe"
      }
    },
    {
      "cell_type": "code",
      "source": [
        "DeltaTable.createIfNotExists(spark) \\\n",
        "    .tableName(\"fact_gold\") \\\n",
        "    .addColumn(\"StateID\", LongType())\\\n",
        "    .addColumn(\"TypeID\", LongType())\\\n",
        "    .addColumn(\"Numberofreturnsfiled\", IntegerType())\\\n",
        "    .addColumn(\"Numberofreturnsfiledelectronically\", IntegerType())\\\n",
        "    .addColumn(\"InternalRevenuegrosscollectionsthousandsofdollars\", IntegerType())\\\n",
        "    .addColumn(\"NumberofInternalRevenuerefundsissued\", IntegerType())\\\n",
        "    .addColumn(\"AmountofInternalRevenuerefundsissued\", IntegerType())\\\n",
        "    .addColumn(\"Date\", DateType())\\\n",
        "    .execute()"
      ],
      "metadata": {
        "colab": {
          "base_uri": "https://localhost:8080/"
        },
        "id": "1pTtEVSQC3m9",
        "outputId": "3359021e-b45e-4545-ef9f-3ba9b7dbb6fe"
      },
      "execution_count": 32,
      "outputs": [
        {
          "output_type": "execute_result",
          "data": {
            "text/plain": [
              "<delta.tables.DeltaTable at 0x7dd0d705d1b0>"
            ]
          },
          "metadata": {},
          "execution_count": 32
        }
      ]
    },
    {
      "cell_type": "markdown",
      "source": [
        "The provided Python code block uses the DeltaTable API to create or update a Delta table named \"fact_gold\" with specified columns and data types.\n",
        "\n",
        "In this code block:\n",
        "\n",
        "1. `DeltaTable.createIfNotExists(spark)`: Initiates the creation or update of a Delta table.\n",
        "\n",
        "2. `.tableName(\"fact_gold\")`: Specifies the name of the Delta table as \"fact_gold.\"\n",
        "\n",
        "3. `.addColumn(...)`: Adds columns to the Delta table with their respective data types. The columns include \"StateID\" and \"TypeID\" of type `LongType`, and various other columns with types such as `IntegerType` and `DateType`.\n",
        "\n",
        "4. `.execute()`: Executes the creation or update of the Delta table with the specified schema.\n",
        "\n",
        "This code is useful for defining and creating a Delta table that represents a fact table for gold data (\"fact_gold\"). The table includes columns for various numerical and date-related metrics, which can be used for analytical purposes within the Medallion architecture of the warehouse."
      ],
      "metadata": {
        "id": "WEGXinKQJr8I"
      }
    },
    {
      "cell_type": "code",
      "source": [
        "dfdimState_temp = spark.read.table(\"dimState_gold\")\n",
        "\n",
        "dffact_gold = df.alias(\"df1\").join(dfdimState_temp.alias(\"df2\"),(df.State == dfdimState_temp.State) , \"left\") \\\n",
        "      .join(dfdimType_temp.alias(\"df3\"),(df.Type == dfdimType_temp.Type) , \"left\")\\\n",
        "      .select(col(\"df2.StateID\") \\\n",
        "       ,col(\"df3.TypeID\")\\\n",
        "        , col(\"df1.Date\") \\\n",
        "        , col(\"df1.Numberofreturnsfiled\") \\\n",
        "        , col(\"df1.Numberofreturnsfiledelectronically\") \\\n",
        "        , col(\"df1.InternalRevenuegrosscollectionsthousandsofdollars\") \\\n",
        "        , col(\"df1.NumberofInternalRevenuerefundsissued\") \\\n",
        "        , col(\"df1.AmountofInternalRevenuerefundsissued\") \\\n",
        "\n",
        "    ).orderBy(col(\"df1.Date\"), col(\"df2.StateID\"))\n",
        "\n",
        "dffact_gold.show(truncate=False)"
      ],
      "metadata": {
        "colab": {
          "base_uri": "https://localhost:8080/"
        },
        "id": "UsRBnrUnDvne",
        "outputId": "386c5922-fe9b-4f46-c332-be262ae5f6c4"
      },
      "execution_count": 33,
      "outputs": [
        {
          "output_type": "stream",
          "name": "stdout",
          "text": [
            "+-------+------+----------+--------------------+----------------------------------+-------------------------------------------------+------------------------------------+------------------------------------+\n",
            "|StateID|TypeID|Date      |Numberofreturnsfiled|Numberofreturnsfiledelectronically|InternalRevenuegrosscollectionsthousandsofdollars|NumberofInternalRevenuerefundsissued|AmountofInternalRevenuerefundsissued|\n",
            "+-------+------+----------+--------------------+----------------------------------+-------------------------------------------------+------------------------------------+------------------------------------+\n",
            "|1      |2     |2021-01-01|24229               |14407                             |14868515                                         |8094                                |3308067                             |\n",
            "|1      |1     |2021-01-01|4625894             |3595089                           |108280490                                        |9902738                             |19955939                            |\n",
            "|1      |5     |2021-01-01|3868950             |3025701                           |91987677                                         |9886031                             |16548031                            |\n",
            "|1      |7     |2021-01-01|556                 |0                                 |220678                                           |39                                  |9110                                |\n",
            "|1      |3     |2021-01-01|54148               |37330                             |348482                                           |5505                                |31465                               |\n",
            "|1      |8     |2021-01-01|6027                |0                                 |5859                                             |21                                  |341                                 |\n",
            "|1      |6     |2021-01-01|38425               |27490                             |0                                                |0                                   |0                                   |\n",
            "|1      |4     |2021-01-01|43157               |22646                             |849280                                           |3048                                |58925                               |\n",
            "|2      |2     |2021-01-01|50941               |34388                             |15473529                                         |13089                               |2016959                             |\n",
            "|2      |3     |2021-01-01|168417              |118551                            |2077182                                          |18311                               |122045                              |\n",
            "|2      |1     |2021-01-01|10422552            |7773963                           |154308909                                        |23646558                            |41734438                            |\n",
            "|2      |5     |2021-01-01|8902365             |6647828                           |133328251                                        |23608669                            |39540203                            |\n",
            "|2      |7     |2021-01-01|982                 |0                                 |918963                                           |104                                 |20693                               |\n",
            "|2      |8     |2021-01-01|11624               |0                                 |71260                                            |21                                  |-363                                |\n",
            "|2      |6     |2021-01-01|82903               |56184                             |0                                                |0                                   |0                                   |\n",
            "|2      |4     |2021-01-01|49201               |27229                             |2439724                                          |6364                                |34900                               |\n",
            "|3      |4     |2021-01-01|9341                |4391                              |284194                                           |1330                                |12385                               |\n",
            "|3      |2     |2021-01-01|21880               |15104                             |8257986                                          |3991                                |967657                              |\n",
            "|3      |3     |2021-01-01|70303               |42998                             |1269862                                          |7867                                |104838                              |\n",
            "|3      |8     |2021-01-01|6225                |0                                 |60363                                            |10                                  |326                                 |\n",
            "+-------+------+----------+--------------------+----------------------------------+-------------------------------------------------+------------------------------------+------------------------------------+\n",
            "only showing top 20 rows\n",
            "\n"
          ]
        }
      ]
    },
    {
      "cell_type": "markdown",
      "source": [
        "The provided Python code block uses Spark SQL and DataFrame operations to create the \"dffact_gold\" DataFrame by joining the main DataFrame \"df\" with the temporary dimension tables \"dfdimState_temp\" and \"dfdimType_temp.\" The resulting DataFrame includes columns from the fact table and corresponding StateID and TypeID from the dimension tables.\n",
        "\n",
        "In this code block:\n",
        "\n",
        "1. `spark.read.table(\"dimstate_gold\")`: Reads the temporary dimension table for states.\n",
        "\n",
        "2. The code then performs two left joins: one with the \"dfdimState_temp\" DataFrame to obtain StateID and another with the \"dfdimType_temp\" DataFrame to obtain TypeID.\n",
        "\n",
        "3. The resulting DataFrame, \"dffact_gold,\" includes columns such as StateID, TypeID, Date, and various numerical metrics from the fact table.\n",
        "\n",
        "4. `orderBy(col(\"df1.Date\"), col(\"df2.StateID\"))`: Orders the DataFrame by Date and StateID for better presentation.\n",
        "\n",
        "5. `dffact_gold.show(truncate=False)`: Displays the joined fact table with StateID and TypeID.\n",
        "\n",
        "This DataFrame can be used for further analysis and reporting within the Medallion architecture of the warehouse, leveraging the enriched information from the dimension tables."
      ],
      "metadata": {
        "id": "82jAr-tnJ1rh"
      }
    },
    {
      "cell_type": "code",
      "source": [
        "deltaTable = DeltaTable.forPath(spark, '/content/spark-warehouse/fact_gold')\n",
        "\n",
        "dfUpdates = dffact_gold\n",
        "\n",
        "deltaTable.alias('silver') \\\n",
        "  .merge(\n",
        "    dfUpdates.alias('updates'),\n",
        "    'silver.Date = updates.Date'\n",
        "  ) \\\n",
        "   .whenMatchedUpdate(set =\n",
        "    {\n",
        "\n",
        "    }\n",
        "  ) \\\n",
        " .whenNotMatchedInsert(values =\n",
        "    {\n",
        "      \"StateID\": \"updates.StateID\",\n",
        "      \"TypeID\": \"updates.TypeID\",\n",
        "      \"Date\": \"updates.Date\",\n",
        "      \"Numberofreturnsfiled\": \"updates.Numberofreturnsfiled\",\n",
        "      \"Numberofreturnsfiledelectronically\": \"updates.Numberofreturnsfiledelectronically\",\n",
        "      \"InternalRevenuegrosscollectionsthousandsofdollars\": \"updates.InternalRevenuegrosscollectionsthousandsofdollars\",\n",
        "      \"NumberofInternalRevenuerefundsissued\": \"updates.NumberofInternalRevenuerefundsissued\",\n",
        "      \"AmountofInternalRevenuerefundsissued\": \"updates.AmountofInternalRevenuerefundsissued\"\n",
        "\n",
        "    }\n",
        "  ) \\\n",
        "  .execute()"
      ],
      "metadata": {
        "id": "4bDfbo4m_5Sw"
      },
      "execution_count": 34,
      "outputs": []
    },
    {
      "cell_type": "markdown",
      "source": [
        "The provided Python code block uses the DeltaTable API to perform a merge operation on the \"fact_gold\" Delta table. It aims to update existing records based on the \"Date\" column and insert new records from the \"dffact_gold\" DataFrame.\n",
        "\n",
        "In this code block:\n",
        "\n",
        "1. `DeltaTable.forPath(spark, '/content/spark-warehouse/fact_gold')`: Loads the \"fact_gold\" Delta table from the specified path.\n",
        "\n",
        "2. `dfUpdates = dffact_gold`: Creates a copy of the \"dffact_gold\" DataFrame for updates.\n",
        "\n",
        "3. `deltaTable.alias('silver')`: Creates an alias for the Delta table as 'silver' to simplify referencing.\n",
        "\n",
        "4. `deltaTable.merge(...)`: Performs a merge operation between the Delta table and the \"dfUpdates\" DataFrame based on matching records on the \"Date\" column.\n",
        "\n",
        "5. `.whenMatchedUpdate(set={})`: Specifies that no updates are performed for matched records.\n",
        "\n",
        "6. `.whenNotMatchedInsert(values={...})`: Specifies the values to be inserted for records that do not have a match in the Delta table.\n",
        "\n",
        "7. `.execute()`: Executes the merge operation on the Delta table.\n",
        "\n",
        "This merge operation efficiently handles updates and inserts, maintaining data integrity within the \"fact_gold\" Delta table in the context of the warehouse organized with the Medallion architecture design."
      ],
      "metadata": {
        "id": "yQvZva1yJ_ok"
      }
    },
    {
      "cell_type": "markdown",
      "source": [
        "#Analysis"
      ],
      "metadata": {
        "id": "q4m0fPbCK7Ra"
      }
    },
    {
      "cell_type": "code",
      "source": [
        "spark.read.table(\"dimtype_gold\").show(truncate=False)\n",
        "spark.read.table(\"dimdate_gold\").show(truncate=False)\n",
        "spark.read.table(\"fact_gold\").show(truncate=False)"
      ],
      "metadata": {
        "colab": {
          "base_uri": "https://localhost:8080/"
        },
        "id": "XSHaUUgm_wgk",
        "outputId": "966fb08c-51d5-444a-a696-1f2f92b458c3"
      },
      "execution_count": 35,
      "outputs": [
        {
          "output_type": "stream",
          "name": "stdout",
          "text": [
            "+------------------------------------------+------+\n",
            "|Type                                      |TypeID|\n",
            "+------------------------------------------+------+\n",
            "|Total                                     |1     |\n",
            "|Corporation income tax                    |2     |\n",
            "|Estate and trust income tax               |3     |\n",
            "|Excise taxes                              |4     |\n",
            "|Individual income tax and employment taxes|5     |\n",
            "|Tax-exempt organizations                  |6     |\n",
            "|Estate tax                                |7     |\n",
            "|Gift tax                                  |8     |\n",
            "+------------------------------------------+------+\n",
            "\n",
            "+----------+---+-----+----+--------+------+\n",
            "|Date      |Day|Month|Year|mmmyyyy |yyyymm|\n",
            "+----------+---+-----+----+--------+------+\n",
            "|2021-01-01|1  |1    |2021|Jan-2021|202101|\n",
            "|2022-01-01|1  |1    |2022|Jan-2022|202201|\n",
            "+----------+---+-----+----+--------+------+\n",
            "\n",
            "+-------+------+--------------------+----------------------------------+-------------------------------------------------+------------------------------------+------------------------------------+----------+\n",
            "|StateID|TypeID|Numberofreturnsfiled|Numberofreturnsfiledelectronically|InternalRevenuegrosscollectionsthousandsofdollars|NumberofInternalRevenuerefundsissued|AmountofInternalRevenuerefundsissued|Date      |\n",
            "+-------+------+--------------------+----------------------------------+-------------------------------------------------+------------------------------------+------------------------------------+----------+\n",
            "|1      |1     |4625894             |3595089                           |108280490                                        |9902738                             |19955939                            |2021-01-01|\n",
            "|1      |5     |3868950             |3025701                           |91987677                                         |9886031                             |16548031                            |2021-01-01|\n",
            "|1      |7     |556                 |0                                 |220678                                           |39                                  |9110                                |2021-01-01|\n",
            "|1      |2     |24229               |14407                             |14868515                                         |8094                                |3308067                             |2021-01-01|\n",
            "|1      |3     |54148               |37330                             |348482                                           |5505                                |31465                               |2021-01-01|\n",
            "|1      |8     |6027                |0                                 |5859                                             |21                                  |341                                 |2021-01-01|\n",
            "|1      |6     |38425               |27490                             |0                                                |0                                   |0                                   |2021-01-01|\n",
            "|1      |4     |43157               |22646                             |849280                                           |3048                                |58925                               |2021-01-01|\n",
            "|2      |1     |10422552            |7773963                           |154308909                                        |23646558                            |41734438                            |2021-01-01|\n",
            "|2      |5     |8902365             |6647828                           |133328251                                        |23608669                            |39540203                            |2021-01-01|\n",
            "|2      |7     |982                 |0                                 |918963                                           |104                                 |20693                               |2021-01-01|\n",
            "|2      |2     |50941               |34388                             |15473529                                         |13089                               |2016959                             |2021-01-01|\n",
            "|2      |3     |168417              |118551                            |2077182                                          |18311                               |122045                              |2021-01-01|\n",
            "|2      |8     |11624               |0                                 |71260                                            |21                                  |-363                                |2021-01-01|\n",
            "|2      |6     |82903               |56184                             |0                                                |0                                   |0                                   |2021-01-01|\n",
            "|2      |4     |49201               |27229                             |2439724                                          |6364                                |34900                               |2021-01-01|\n",
            "|3      |1     |3068160             |2307053                           |60261678                                         |6274017                             |11782391                            |2021-01-01|\n",
            "|3      |5     |2572618             |1938282                           |49880723                                         |6260764                             |10682770                            |2021-01-01|\n",
            "|3      |7     |646                 |0                                 |508551                                           |55                                  |14414                               |2021-01-01|\n",
            "|3      |2     |21880               |15104                             |8257986                                          |3991                                |967657                              |2021-01-01|\n",
            "+-------+------+--------------------+----------------------------------+-------------------------------------------------+------------------------------------+------------------------------------+----------+\n",
            "only showing top 20 rows\n",
            "\n"
          ]
        }
      ]
    },
    {
      "cell_type": "code",
      "source": [
        "df = spark.sql(\"\"\"\n",
        "SELECT\n",
        "  COUNT(1) AS num_rows,\n",
        "  s.State\n",
        "FROM fact_gold f\n",
        "JOIN dimstate_gold s ON f.StateID = s.StateID\n",
        "GROUP BY s.State\n",
        "\"\"\")\n",
        "\n",
        "df.show(truncate=False)\n"
      ],
      "metadata": {
        "colab": {
          "base_uri": "https://localhost:8080/"
        },
        "id": "AILIedMJHBHk",
        "outputId": "87568149-4e52-4405-f067-0431fc891f0b"
      },
      "execution_count": 36,
      "outputs": [
        {
          "output_type": "stream",
          "name": "stdout",
          "text": [
            "+--------+--------------------+\n",
            "|num_rows|State               |\n",
            "+--------+--------------------+\n",
            "|16      |Utah                |\n",
            "|16      |Hawaii              |\n",
            "|16      |Minnesota           |\n",
            "|16      |Ohio                |\n",
            "|16      |Arkansas            |\n",
            "|16      |Oregon              |\n",
            "|16      |Texas               |\n",
            "|16      |North Dakota        |\n",
            "|16      |Pennsylvania        |\n",
            "|16      |Connecticut         |\n",
            "|16      |Nebraska            |\n",
            "|16      |Vermont             |\n",
            "|16      |Nevada              |\n",
            "|16      |Puerto Rico         |\n",
            "|16      |Washington          |\n",
            "|16      |Illinois            |\n",
            "|16      |Oklahoma            |\n",
            "|16      |District of Columbia|\n",
            "|16      |Delaware            |\n",
            "|16      |Alaska              |\n",
            "+--------+--------------------+\n",
            "only showing top 20 rows\n",
            "\n"
          ]
        }
      ]
    },
    {
      "cell_type": "code",
      "source": [
        "df.toPandas().plot.bar(x='State', y='num_rows')"
      ],
      "metadata": {
        "colab": {
          "base_uri": "https://localhost:8080/",
          "height": 591
        },
        "id": "af6PVhOsPKtc",
        "outputId": "52b6d831-a6ec-4ea8-e6f6-5f4f8a8ee134"
      },
      "execution_count": 37,
      "outputs": [
        {
          "output_type": "execute_result",
          "data": {
            "text/plain": [
              "<Axes: xlabel='State'>"
            ]
          },
          "metadata": {},
          "execution_count": 37
        },
        {
          "output_type": "display_data",
          "data": {
            "text/plain": [
              "<Figure size 640x480 with 1 Axes>"
            ],
            "image/png": "[encoded data removed]"
          },
          "metadata": {}
        }
      ]
    },
    {
      "cell_type": "code",
      "source": [
        "df = spark.sql(\"\"\"\n",
        "SELECT\n",
        "  f.Numberofreturnsfiled,\n",
        "  t.Type\n",
        "FROM fact_gold f\n",
        "JOIN dimtype_gold t ON f.TypeID = t.TypeID\n",
        "\"\"\")\n",
        "\n",
        "df.show(truncate=False)\n"
      ],
      "metadata": {
        "colab": {
          "base_uri": "https://localhost:8080/"
        },
        "id": "Lb0uQqwVHUou",
        "outputId": "3827642d-4497-41a4-da61-7393fc79901d"
      },
      "execution_count": 38,
      "outputs": [
        {
          "output_type": "stream",
          "name": "stdout",
          "text": [
            "+--------------------+------------------------------------------+\n",
            "|Numberofreturnsfiled|Type                                      |\n",
            "+--------------------+------------------------------------------+\n",
            "|4625894             |Total                                     |\n",
            "|3868950             |Individual income tax and employment taxes|\n",
            "|556                 |Estate tax                                |\n",
            "|24229               |Corporation income tax                    |\n",
            "|54148               |Estate and trust income tax               |\n",
            "|6027                |Gift tax                                  |\n",
            "|38425               |Tax-exempt organizations                  |\n",
            "|43157               |Excise taxes                              |\n",
            "|10422552            |Total                                     |\n",
            "|8902365             |Individual income tax and employment taxes|\n",
            "|982                 |Estate tax                                |\n",
            "|50941               |Corporation income tax                    |\n",
            "|168417              |Estate and trust income tax               |\n",
            "|11624               |Gift tax                                  |\n",
            "|82903               |Tax-exempt organizations                  |\n",
            "|49201               |Excise taxes                              |\n",
            "|3068160             |Total                                     |\n",
            "|2572618             |Individual income tax and employment taxes|\n",
            "|646                 |Estate tax                                |\n",
            "|21880               |Corporation income tax                    |\n",
            "+--------------------+------------------------------------------+\n",
            "only showing top 20 rows\n",
            "\n"
          ]
        }
      ]
    },
    {
      "cell_type": "code",
      "source": [],
      "metadata": {
        "id": "U6Az9jJnNvIt"
      },
      "execution_count": null,
      "outputs": []
    }
  ]
}