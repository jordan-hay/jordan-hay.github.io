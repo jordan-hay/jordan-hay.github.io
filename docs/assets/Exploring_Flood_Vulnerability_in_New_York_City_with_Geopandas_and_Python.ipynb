{
  "nbformat": 4,
  "nbformat_minor": 0,
  "metadata": {
    "colab": {
      "provenance": []
    },
    "kernelspec": {
      "name": "python3",
      "display_name": "Python 3"
    },
    "language_info": {
      "name": "python"
    }
  },
  "cells": [
    {
      "cell_type": "markdown",
      "source": [
        "Import necessary libraries for the project"
      ],
      "metadata": {
        "id": "SHIHm7nKHaCk"
      }
    },
    {
      "cell_type": "code",
      "source": [
        "import shapely\n",
        "import geopandas as gpd\n",
        "import matplotlib.pyplot as plt\n",
        "import pandas as pd\n",
        "import plotly.express as px\n",
        "import gdown"
      ],
      "metadata": {
        "id": "Fdc0P9H_KJJo"
      },
      "execution_count": 1,
      "outputs": []
    },
    {
      "cell_type": "markdown",
      "source": [
        "Download the required data files"
      ],
      "metadata": {
        "id": "qjtA68U9HeO_"
      }
    },
    {
      "cell_type": "code",
      "execution_count": 2,
      "metadata": {
        "colab": {
          "base_uri": "https://localhost:8080/",
          "height": 38
        },
        "id": "MWo7uJEYL8Cq",
        "outputId": "e43ec647-85d6-441f-d49a-f664b22b2c02"
      },
      "outputs": [
        {
          "output_type": "execute_result",
          "data": {
            "text/plain": [
              "'file.zip'"
            ],
            "application/vnd.google.colaboratory.intrinsic+json": {
              "type": "string"
            }
          },
          "metadata": {},
          "execution_count": 2
        }
      ],
      "source": [
        "gdown.download('https://www.nyc.gov/assets/doh/downloads/zip/CHS_2009_DOHMH_2010B.zip','CHS_2009_DOHMH_2010B.zip',quiet=True)\n",
        "gdown.download('https://data.cityofnewyork.us/download/w8eg-8ha6/application/x-zip-compressed','file.zip',quiet=True)"
      ]
    },
    {
      "cell_type": "markdown",
      "source": [
        "Unzip the downloaded data files"
      ],
      "metadata": {
        "id": "nePmwrECHgkF"
      }
    },
    {
      "cell_type": "code",
      "source": [
        "!unzip CHS_2009_DOHMH_2010B.zip &> /dev/null\n",
        "!unzip file.zip &> /dev/null"
      ],
      "metadata": {
        "id": "AXXj5Nt0MBok"
      },
      "execution_count": 3,
      "outputs": []
    },
    {
      "cell_type": "markdown",
      "source": [
        "Read and display information about the neighborhood data"
      ],
      "metadata": {
        "id": "ftU2He2mHjzb"
      }
    },
    {
      "cell_type": "code",
      "source": [
        "nbhds = gpd.read_file(\"CHS_2009_DOHMH_2010B.shp\")\n",
        "#print(nbhds.shape)\n",
        "nbhds.head(2)"
      ],
      "metadata": {
        "colab": {
          "base_uri": "https://localhost:8080/",
          "height": 300
        },
        "id": "haYsbg3fMD_M",
        "outputId": "02b1f6ef-29a8-4ae4-9db5-1d1353af8299"
      },
      "execution_count": 22,
      "outputs": [
        {
          "output_type": "execute_result",
          "data": {
            "text/plain": [
              "   UHF34_CODE FIRST_BORO               FIRST_UHF_  UHF_CODE  UHF_Code_1  \\\n",
              "0       101.0      Bronx  Kingsbridge - Riverdale     101.0       101.0   \n",
              "1       102.0      Bronx          Northeast Bronx     102.0       102.0   \n",
              "\n",
              "   asthev2  asthev2_r  asthev2_s  bmicat3  bmicat3_r  ...  sugarb3_s  waters5  \\\n",
              "0     13.4        0.0        0.0     18.7        0.0  ...        0.0     20.2   \n",
              "1     14.7        0.0        0.0     25.6        0.0  ...        0.0     25.0   \n",
              "\n",
              "   waters5_r  waters5_s  wkwork2  wkwork2_r  wkwork2_s    SHAPE_Leng  \\\n",
              "0        0.0        0.0     65.5        0.0        0.0  57699.155285   \n",
              "1        0.0        0.0     61.9        0.0        0.0  88219.317097   \n",
              "\n",
              "     SHAPE_Area                                           geometry  \n",
              "0  1.332914e+08  POLYGON ((1017992.893 269222.964, 1017812.000 ...  \n",
              "1  1.813708e+08  POLYGON ((1025012.990 270794.260, 1025061.481 ...  \n",
              "\n",
              "[2 rows x 80 columns]"
            ],
            "text/html": [
              "\n",
              "  <div id=\"df-b3ad8f17-340a-4f70-be48-333944b782db\" class=\"colab-df-container\">\n",
              "    <div>\n",
              "<style scoped>\n",
              "    .dataframe tbody tr th:only-of-type {\n",
              "        vertical-align: middle;\n",
              "    }\n",
              "\n",
              "    .dataframe tbody tr th {\n",
              "        vertical-align: top;\n",
              "    }\n",
              "\n",
              "    .dataframe thead th {\n",
              "        text-align: right;\n",
              "    }\n",
              "</style>\n",
              "<table border=\"1\" class=\"dataframe\">\n",
              "  <thead>\n",
              "    <tr style=\"text-align: right;\">\n",
              "      <th></th>\n",
              "      <th>UHF34_CODE</th>\n",
              "      <th>FIRST_BORO</th>\n",
              "      <th>FIRST_UHF_</th>\n",
              "      <th>UHF_CODE</th>\n",
              "      <th>UHF_Code_1</th>\n",
              "      <th>asthev2</th>\n",
              "      <th>asthev2_r</th>\n",
              "      <th>asthev2_s</th>\n",
              "      <th>bmicat3</th>\n",
              "      <th>bmicat3_r</th>\n",
              "      <th>...</th>\n",
              "      <th>sugarb3_s</th>\n",
              "      <th>waters5</th>\n",
              "      <th>waters5_r</th>\n",
              "      <th>waters5_s</th>\n",
              "      <th>wkwork2</th>\n",
              "      <th>wkwork2_r</th>\n",
              "      <th>wkwork2_s</th>\n",
              "      <th>SHAPE_Leng</th>\n",
              "      <th>SHAPE_Area</th>\n",
              "      <th>geometry</th>\n",
              "    </tr>\n",
              "  </thead>\n",
              "  <tbody>\n",
              "    <tr>\n",
              "      <th>0</th>\n",
              "      <td>101.0</td>\n",
              "      <td>Bronx</td>\n",
              "      <td>Kingsbridge - Riverdale</td>\n",
              "      <td>101.0</td>\n",
              "      <td>101.0</td>\n",
              "      <td>13.4</td>\n",
              "      <td>0.0</td>\n",
              "      <td>0.0</td>\n",
              "      <td>18.7</td>\n",
              "      <td>0.0</td>\n",
              "      <td>...</td>\n",
              "      <td>0.0</td>\n",
              "      <td>20.2</td>\n",
              "      <td>0.0</td>\n",
              "      <td>0.0</td>\n",
              "      <td>65.5</td>\n",
              "      <td>0.0</td>\n",
              "      <td>0.0</td>\n",
              "      <td>57699.155285</td>\n",
              "      <td>1.332914e+08</td>\n",
              "      <td>POLYGON ((1017992.893 269222.964, 1017812.000 ...</td>\n",
              "    </tr>\n",
              "    <tr>\n",
              "      <th>1</th>\n",
              "      <td>102.0</td>\n",
              "      <td>Bronx</td>\n",
              "      <td>Northeast Bronx</td>\n",
              "      <td>102.0</td>\n",
              "      <td>102.0</td>\n",
              "      <td>14.7</td>\n",
              "      <td>0.0</td>\n",
              "      <td>0.0</td>\n",
              "      <td>25.6</td>\n",
              "      <td>0.0</td>\n",
              "      <td>...</td>\n",
              "      <td>0.0</td>\n",
              "      <td>25.0</td>\n",
              "      <td>0.0</td>\n",
              "      <td>0.0</td>\n",
              "      <td>61.9</td>\n",
              "      <td>0.0</td>\n",
              "      <td>0.0</td>\n",
              "      <td>88219.317097</td>\n",
              "      <td>1.813708e+08</td>\n",
              "      <td>POLYGON ((1025012.990 270794.260, 1025061.481 ...</td>\n",
              "    </tr>\n",
              "  </tbody>\n",
              "</table>\n",
              "<p>2 rows × 80 columns</p>\n",
              "</div>\n",
              "    <div class=\"colab-df-buttons\">\n",
              "\n",
              "  <div class=\"colab-df-container\">\n",
              "    <button class=\"colab-df-convert\" onclick=\"convertToInteractive('df-b3ad8f17-340a-4f70-be48-333944b782db')\"\n",
              "            title=\"Convert this dataframe to an interactive table.\"\n",
              "            style=\"display:none;\">\n",
              "\n",
              "  <svg xmlns=\"http://www.w3.org/2000/svg\" height=\"24px\" viewBox=\"0 -960 960 960\">\n",
              "    <path d=\"M120-120v-720h720v720H120Zm60-500h600v-160H180v160Zm220 220h160v-160H400v160Zm0 220h160v-160H400v160ZM180-400h160v-160H180v160Zm440 0h160v-160H620v160ZM180-180h160v-160H180v160Zm440 0h160v-160H620v160Z\"/>\n",
              "  </svg>\n",
              "    </button>\n",
              "\n",
              "  <style>\n",
              "    .colab-df-container {\n",
              "      display:flex;\n",
              "      gap: 12px;\n",
              "    }\n",
              "\n",
              "    .colab-df-convert {\n",
              "      background-color: #E8F0FE;\n",
              "      border: none;\n",
              "      border-radius: 50%;\n",
              "      cursor: pointer;\n",
              "      display: none;\n",
              "      fill: #1967D2;\n",
              "      height: 32px;\n",
              "      padding: 0 0 0 0;\n",
              "      width: 32px;\n",
              "    }\n",
              "\n",
              "    .colab-df-convert:hover {\n",
              "      background-color: #E2EBFA;\n",
              "      box-shadow: 0px 1px 2px rgba(60, 64, 67, 0.3), 0px 1px 3px 1px rgba(60, 64, 67, 0.15);\n",
              "      fill: #174EA6;\n",
              "    }\n",
              "\n",
              "    .colab-df-buttons div {\n",
              "      margin-bottom: 4px;\n",
              "    }\n",
              "\n",
              "    [theme=dark] .colab-df-convert {\n",
              "      background-color: #3B4455;\n",
              "      fill: #D2E3FC;\n",
              "    }\n",
              "\n",
              "    [theme=dark] .colab-df-convert:hover {\n",
              "      background-color: #434B5C;\n",
              "      box-shadow: 0px 1px 3px 1px rgba(0, 0, 0, 0.15);\n",
              "      filter: drop-shadow(0px 1px 2px rgba(0, 0, 0, 0.3));\n",
              "      fill: #FFFFFF;\n",
              "    }\n",
              "  </style>\n",
              "\n",
              "    <script>\n",
              "      const buttonEl =\n",
              "        document.querySelector('#df-b3ad8f17-340a-4f70-be48-333944b782db button.colab-df-convert');\n",
              "      buttonEl.style.display =\n",
              "        google.colab.kernel.accessAllowed ? 'block' : 'none';\n",
              "\n",
              "      async function convertToInteractive(key) {\n",
              "        const element = document.querySelector('#df-b3ad8f17-340a-4f70-be48-333944b782db');\n",
              "        const dataTable =\n",
              "          await google.colab.kernel.invokeFunction('convertToInteractive',\n",
              "                                                    [key], {});\n",
              "        if (!dataTable) return;\n",
              "\n",
              "        const docLinkHtml = 'Like what you see? Visit the ' +\n",
              "          '<a target=\"_blank\" href=https://colab.research.google.com/notebooks/data_table.ipynb>data table notebook</a>'\n",
              "          + ' to learn more about interactive tables.';\n",
              "        element.innerHTML = '';\n",
              "        dataTable['output_type'] = 'display_data';\n",
              "        await google.colab.output.renderOutput(dataTable, element);\n",
              "        const docLink = document.createElement('div');\n",
              "        docLink.innerHTML = docLinkHtml;\n",
              "        element.appendChild(docLink);\n",
              "      }\n",
              "    </script>\n",
              "  </div>\n",
              "\n",
              "\n",
              "<div id=\"df-0cf716e1-a886-4e24-9e4c-9eb0ea488996\">\n",
              "  <button class=\"colab-df-quickchart\" onclick=\"quickchart('df-0cf716e1-a886-4e24-9e4c-9eb0ea488996')\"\n",
              "            title=\"Suggest charts\"\n",
              "            style=\"display:none;\">\n",
              "\n",
              "<svg xmlns=\"http://www.w3.org/2000/svg\" height=\"24px\"viewBox=\"0 0 24 24\"\n",
              "     width=\"24px\">\n",
              "    <g>\n",
              "        <path d=\"M19 3H5c-1.1 0-2 .9-2 2v14c0 1.1.9 2 2 2h14c1.1 0 2-.9 2-2V5c0-1.1-.9-2-2-2zM9 17H7v-7h2v7zm4 0h-2V7h2v10zm4 0h-2v-4h2v4z\"/>\n",
              "    </g>\n",
              "</svg>\n",
              "  </button>\n",
              "\n",
              "<style>\n",
              "  .colab-df-quickchart {\n",
              "      --bg-color: #E8F0FE;\n",
              "      --fill-color: #1967D2;\n",
              "      --hover-bg-color: #E2EBFA;\n",
              "      --hover-fill-color: #174EA6;\n",
              "      --disabled-fill-color: #AAA;\n",
              "      --disabled-bg-color: #DDD;\n",
              "  }\n",
              "\n",
              "  [theme=dark] .colab-df-quickchart {\n",
              "      --bg-color: #3B4455;\n",
              "      --fill-color: #D2E3FC;\n",
              "      --hover-bg-color: #434B5C;\n",
              "      --hover-fill-color: #FFFFFF;\n",
              "      --disabled-bg-color: #3B4455;\n",
              "      --disabled-fill-color: #666;\n",
              "  }\n",
              "\n",
              "  .colab-df-quickchart {\n",
              "    background-color: var(--bg-color);\n",
              "    border: none;\n",
              "    border-radius: 50%;\n",
              "    cursor: pointer;\n",
              "    display: none;\n",
              "    fill: var(--fill-color);\n",
              "    height: 32px;\n",
              "    padding: 0;\n",
              "    width: 32px;\n",
              "  }\n",
              "\n",
              "  .colab-df-quickchart:hover {\n",
              "    background-color: var(--hover-bg-color);\n",
              "    box-shadow: 0 1px 2px rgba(60, 64, 67, 0.3), 0 1px 3px 1px rgba(60, 64, 67, 0.15);\n",
              "    fill: var(--button-hover-fill-color);\n",
              "  }\n",
              "\n",
              "  .colab-df-quickchart-complete:disabled,\n",
              "  .colab-df-quickchart-complete:disabled:hover {\n",
              "    background-color: var(--disabled-bg-color);\n",
              "    fill: var(--disabled-fill-color);\n",
              "    box-shadow: none;\n",
              "  }\n",
              "\n",
              "  .colab-df-spinner {\n",
              "    border: 2px solid var(--fill-color);\n",
              "    border-color: transparent;\n",
              "    border-bottom-color: var(--fill-color);\n",
              "    animation:\n",
              "      spin 1s steps(1) infinite;\n",
              "  }\n",
              "\n",
              "  @keyframes spin {\n",
              "    0% {\n",
              "      border-color: transparent;\n",
              "      border-bottom-color: var(--fill-color);\n",
              "      border-left-color: var(--fill-color);\n",
              "    }\n",
              "    20% {\n",
              "      border-color: transparent;\n",
              "      border-left-color: var(--fill-color);\n",
              "      border-top-color: var(--fill-color);\n",
              "    }\n",
              "    30% {\n",
              "      border-color: transparent;\n",
              "      border-left-color: var(--fill-color);\n",
              "      border-top-color: var(--fill-color);\n",
              "      border-right-color: var(--fill-color);\n",
              "    }\n",
              "    40% {\n",
              "      border-color: transparent;\n",
              "      border-right-color: var(--fill-color);\n",
              "      border-top-color: var(--fill-color);\n",
              "    }\n",
              "    60% {\n",
              "      border-color: transparent;\n",
              "      border-right-color: var(--fill-color);\n",
              "    }\n",
              "    80% {\n",
              "      border-color: transparent;\n",
              "      border-right-color: var(--fill-color);\n",
              "      border-bottom-color: var(--fill-color);\n",
              "    }\n",
              "    90% {\n",
              "      border-color: transparent;\n",
              "      border-bottom-color: var(--fill-color);\n",
              "    }\n",
              "  }\n",
              "</style>\n",
              "\n",
              "  <script>\n",
              "    async function quickchart(key) {\n",
              "      const quickchartButtonEl =\n",
              "        document.querySelector('#' + key + ' button');\n",
              "      quickchartButtonEl.disabled = true;  // To prevent multiple clicks.\n",
              "      quickchartButtonEl.classList.add('colab-df-spinner');\n",
              "      try {\n",
              "        const charts = await google.colab.kernel.invokeFunction(\n",
              "            'suggestCharts', [key], {});\n",
              "      } catch (error) {\n",
              "        console.error('Error during call to suggestCharts:', error);\n",
              "      }\n",
              "      quickchartButtonEl.classList.remove('colab-df-spinner');\n",
              "      quickchartButtonEl.classList.add('colab-df-quickchart-complete');\n",
              "    }\n",
              "    (() => {\n",
              "      let quickchartButtonEl =\n",
              "        document.querySelector('#df-0cf716e1-a886-4e24-9e4c-9eb0ea488996 button');\n",
              "      quickchartButtonEl.style.display =\n",
              "        google.colab.kernel.accessAllowed ? 'block' : 'none';\n",
              "    })();\n",
              "  </script>\n",
              "</div>\n",
              "    </div>\n",
              "  </div>\n"
            ]
          },
          "metadata": {},
          "execution_count": 22
        }
      ]
    },
    {
      "cell_type": "markdown",
      "source": [
        "Print unique neighborhood values"
      ],
      "metadata": {
        "id": "MZPqpmAeHoWK"
      }
    },
    {
      "cell_type": "code",
      "source": [
        "print(nbhds[\"FIRST_UHF_\"].unique().tolist())"
      ],
      "metadata": {
        "colab": {
          "base_uri": "https://localhost:8080/"
        },
        "id": "xFQZS15TMrzp",
        "outputId": "a2fc036a-f74e-42e0-ce49-7bc22950f442"
      },
      "execution_count": 5,
      "outputs": [
        {
          "output_type": "stream",
          "name": "stdout",
          "text": [
            "['Kingsbridge - Riverdale', 'Northeast Bronx', 'Fordham - Bronx Park', 'Pelham - Throgs Neck', 'Greenpoint', 'Downtown  - Heights - Slope', 'Bedford Stuyvesant - Crown Heights', 'East New York', 'Sunset Park', 'Borough Park', 'East Flatbush - Flatbush', 'Canarsie - Flatlands', 'Bensonhurst - Bay Ridge', 'Coney Island - Sheepshead Bay', 'Williamsburg - Bushwick', 'Washington Heights - Inwood', 'Central Harlem - Morningside Heights', 'East Harlem', 'Upper West Side', 'Long Island City - Astoria', 'West Queens', 'Flushing - Clearview', 'Ridgewood - Forest Hills', 'Southwest Queens', 'Jamaica', 'Southeast Queens', 'Rockaway', 'Upper East Side - Gramercy', 'Chelsea - Village', 'Union Square, Lower Manhattan', 'Bayside - Meadows', 'Northern SI', 'Southern SI', 'South Bronx', None]\n"
          ]
        }
      ]
    },
    {
      "cell_type": "markdown",
      "source": [
        "Create and display a plot of the neighborhood data"
      ],
      "metadata": {
        "id": "TiY8EteeHxF2"
      }
    },
    {
      "cell_type": "code",
      "source": [
        "fig, ax = plt.subplots(figsize=(5, 5))\n",
        "ax.axis('off')\n",
        "nbhds.plot(ax=ax) # Plot the GeoDataFrame\n",
        "plt.show()"
      ],
      "metadata": {
        "colab": {
          "base_uri": "https://localhost:8080/",
          "height": 421
        },
        "id": "JVSLLYokM16L",
        "outputId": "3dc429c9-0f9e-4b42-901c-cc6aef5110a1"
      },
      "execution_count": 6,
      "outputs": [
        {
          "output_type": "display_data",
          "data": {
            "text/plain": [
              "<Figure size 500x500 with 1 Axes>"
            ],
            "image/png": "[encoded data removed]"
          },
          "metadata": {}
        }
      ]
    },
    {
      "cell_type": "markdown",
      "source": [
        "Read the flood zone data"
      ],
      "metadata": {
        "id": "4Z5os5ihHyYV"
      }
    },
    {
      "cell_type": "code",
      "source": [
        "floodzones = gpd.read_file(\"NYC Stormwater Flood Map - Extreme Flood with 2080 Sea Level Rise.gdb\")"
      ],
      "metadata": {
        "id": "CsOJ-RAaNBqU"
      },
      "execution_count": null,
      "outputs": []
    },
    {
      "cell_type": "markdown",
      "source": [
        "Display the first few rows of the flood zone data"
      ],
      "metadata": {
        "id": "EA8t7LFTH2KJ"
      }
    },
    {
      "cell_type": "code",
      "source": [
        "floodzones.head()"
      ],
      "metadata": {
        "colab": {
          "base_uri": "https://localhost:8080/",
          "height": 143
        },
        "id": "C20Zu51bPluU",
        "outputId": "4575acc6-8880-46df-b0d4-d7bfd39ed3a0"
      },
      "execution_count": 8,
      "outputs": [
        {
          "output_type": "execute_result",
          "data": {
            "text/plain": [
              "   Flooding_Category  Shape_Length    Shape_Area  \\\n",
              "0                  1  3.264384e+07  3.972152e+08   \n",
              "1                  2  1.656489e+07  3.054550e+08   \n",
              "2                  3  8.042525e+06  3.455846e+08   \n",
              "\n",
              "                                            geometry  \n",
              "0  MULTIPOLYGON Z (((917206.497 120931.611 0.000,...  \n",
              "1  MULTIPOLYGON Z (((917270.790 120873.747 0.000,...  \n",
              "2  MULTIPOLYGON Z (((915290.556 120269.389 0.000,...  "
            ],
            "text/html": [
              "\n",
              "  <div id=\"df-c256e955-0819-4ec8-b668-0736f53c2be1\" class=\"colab-df-container\">\n",
              "    <div>\n",
              "<style scoped>\n",
              "    .dataframe tbody tr th:only-of-type {\n",
              "        vertical-align: middle;\n",
              "    }\n",
              "\n",
              "    .dataframe tbody tr th {\n",
              "        vertical-align: top;\n",
              "    }\n",
              "\n",
              "    .dataframe thead th {\n",
              "        text-align: right;\n",
              "    }\n",
              "</style>\n",
              "<table border=\"1\" class=\"dataframe\">\n",
              "  <thead>\n",
              "    <tr style=\"text-align: right;\">\n",
              "      <th></th>\n",
              "      <th>Flooding_Category</th>\n",
              "      <th>Shape_Length</th>\n",
              "      <th>Shape_Area</th>\n",
              "      <th>geometry</th>\n",
              "    </tr>\n",
              "  </thead>\n",
              "  <tbody>\n",
              "    <tr>\n",
              "      <th>0</th>\n",
              "      <td>1</td>\n",
              "      <td>3.264384e+07</td>\n",
              "      <td>3.972152e+08</td>\n",
              "      <td>MULTIPOLYGON Z (((917206.497 120931.611 0.000,...</td>\n",
              "    </tr>\n",
              "    <tr>\n",
              "      <th>1</th>\n",
              "      <td>2</td>\n",
              "      <td>1.656489e+07</td>\n",
              "      <td>3.054550e+08</td>\n",
              "      <td>MULTIPOLYGON Z (((917270.790 120873.747 0.000,...</td>\n",
              "    </tr>\n",
              "    <tr>\n",
              "      <th>2</th>\n",
              "      <td>3</td>\n",
              "      <td>8.042525e+06</td>\n",
              "      <td>3.455846e+08</td>\n",
              "      <td>MULTIPOLYGON Z (((915290.556 120269.389 0.000,...</td>\n",
              "    </tr>\n",
              "  </tbody>\n",
              "</table>\n",
              "</div>\n",
              "    <div class=\"colab-df-buttons\">\n",
              "\n",
              "  <div class=\"colab-df-container\">\n",
              "    <button class=\"colab-df-convert\" onclick=\"convertToInteractive('df-c256e955-0819-4ec8-b668-0736f53c2be1')\"\n",
              "            title=\"Convert this dataframe to an interactive table.\"\n",
              "            style=\"display:none;\">\n",
              "\n",
              "  <svg xmlns=\"http://www.w3.org/2000/svg\" height=\"24px\" viewBox=\"0 -960 960 960\">\n",
              "    <path d=\"M120-120v-720h720v720H120Zm60-500h600v-160H180v160Zm220 220h160v-160H400v160Zm0 220h160v-160H400v160ZM180-400h160v-160H180v160Zm440 0h160v-160H620v160ZM180-180h160v-160H180v160Zm440 0h160v-160H620v160Z\"/>\n",
              "  </svg>\n",
              "    </button>\n",
              "\n",
              "  <style>\n",
              "    .colab-df-container {\n",
              "      display:flex;\n",
              "      gap: 12px;\n",
              "    }\n",
              "\n",
              "    .colab-df-convert {\n",
              "      background-color: #E8F0FE;\n",
              "      border: none;\n",
              "      border-radius: 50%;\n",
              "      cursor: pointer;\n",
              "      display: none;\n",
              "      fill: #1967D2;\n",
              "      height: 32px;\n",
              "      padding: 0 0 0 0;\n",
              "      width: 32px;\n",
              "    }\n",
              "\n",
              "    .colab-df-convert:hover {\n",
              "      background-color: #E2EBFA;\n",
              "      box-shadow: 0px 1px 2px rgba(60, 64, 67, 0.3), 0px 1px 3px 1px rgba(60, 64, 67, 0.15);\n",
              "      fill: #174EA6;\n",
              "    }\n",
              "\n",
              "    .colab-df-buttons div {\n",
              "      margin-bottom: 4px;\n",
              "    }\n",
              "\n",
              "    [theme=dark] .colab-df-convert {\n",
              "      background-color: #3B4455;\n",
              "      fill: #D2E3FC;\n",
              "    }\n",
              "\n",
              "    [theme=dark] .colab-df-convert:hover {\n",
              "      background-color: #434B5C;\n",
              "      box-shadow: 0px 1px 3px 1px rgba(0, 0, 0, 0.15);\n",
              "      filter: drop-shadow(0px 1px 2px rgba(0, 0, 0, 0.3));\n",
              "      fill: #FFFFFF;\n",
              "    }\n",
              "  </style>\n",
              "\n",
              "    <script>\n",
              "      const buttonEl =\n",
              "        document.querySelector('#df-c256e955-0819-4ec8-b668-0736f53c2be1 button.colab-df-convert');\n",
              "      buttonEl.style.display =\n",
              "        google.colab.kernel.accessAllowed ? 'block' : 'none';\n",
              "\n",
              "      async function convertToInteractive(key) {\n",
              "        const element = document.querySelector('#df-c256e955-0819-4ec8-b668-0736f53c2be1');\n",
              "        const dataTable =\n",
              "          await google.colab.kernel.invokeFunction('convertToInteractive',\n",
              "                                                    [key], {});\n",
              "        if (!dataTable) return;\n",
              "\n",
              "        const docLinkHtml = 'Like what you see? Visit the ' +\n",
              "          '<a target=\"_blank\" href=https://colab.research.google.com/notebooks/data_table.ipynb>data table notebook</a>'\n",
              "          + ' to learn more about interactive tables.';\n",
              "        element.innerHTML = '';\n",
              "        dataTable['output_type'] = 'display_data';\n",
              "        await google.colab.output.renderOutput(dataTable, element);\n",
              "        const docLink = document.createElement('div');\n",
              "        docLink.innerHTML = docLinkHtml;\n",
              "        element.appendChild(docLink);\n",
              "      }\n",
              "    </script>\n",
              "  </div>\n",
              "\n",
              "\n",
              "<div id=\"df-95bbaad6-a9ba-4c15-9f77-4417e922966e\">\n",
              "  <button class=\"colab-df-quickchart\" onclick=\"quickchart('df-95bbaad6-a9ba-4c15-9f77-4417e922966e')\"\n",
              "            title=\"Suggest charts\"\n",
              "            style=\"display:none;\">\n",
              "\n",
              "<svg xmlns=\"http://www.w3.org/2000/svg\" height=\"24px\"viewBox=\"0 0 24 24\"\n",
              "     width=\"24px\">\n",
              "    <g>\n",
              "        <path d=\"M19 3H5c-1.1 0-2 .9-2 2v14c0 1.1.9 2 2 2h14c1.1 0 2-.9 2-2V5c0-1.1-.9-2-2-2zM9 17H7v-7h2v7zm4 0h-2V7h2v10zm4 0h-2v-4h2v4z\"/>\n",
              "    </g>\n",
              "</svg>\n",
              "  </button>\n",
              "\n",
              "<style>\n",
              "  .colab-df-quickchart {\n",
              "      --bg-color: #E8F0FE;\n",
              "      --fill-color: #1967D2;\n",
              "      --hover-bg-color: #E2EBFA;\n",
              "      --hover-fill-color: #174EA6;\n",
              "      --disabled-fill-color: #AAA;\n",
              "      --disabled-bg-color: #DDD;\n",
              "  }\n",
              "\n",
              "  [theme=dark] .colab-df-quickchart {\n",
              "      --bg-color: #3B4455;\n",
              "      --fill-color: #D2E3FC;\n",
              "      --hover-bg-color: #434B5C;\n",
              "      --hover-fill-color: #FFFFFF;\n",
              "      --disabled-bg-color: #3B4455;\n",
              "      --disabled-fill-color: #666;\n",
              "  }\n",
              "\n",
              "  .colab-df-quickchart {\n",
              "    background-color: var(--bg-color);\n",
              "    border: none;\n",
              "    border-radius: 50%;\n",
              "    cursor: pointer;\n",
              "    display: none;\n",
              "    fill: var(--fill-color);\n",
              "    height: 32px;\n",
              "    padding: 0;\n",
              "    width: 32px;\n",
              "  }\n",
              "\n",
              "  .colab-df-quickchart:hover {\n",
              "    background-color: var(--hover-bg-color);\n",
              "    box-shadow: 0 1px 2px rgba(60, 64, 67, 0.3), 0 1px 3px 1px rgba(60, 64, 67, 0.15);\n",
              "    fill: var(--button-hover-fill-color);\n",
              "  }\n",
              "\n",
              "  .colab-df-quickchart-complete:disabled,\n",
              "  .colab-df-quickchart-complete:disabled:hover {\n",
              "    background-color: var(--disabled-bg-color);\n",
              "    fill: var(--disabled-fill-color);\n",
              "    box-shadow: none;\n",
              "  }\n",
              "\n",
              "  .colab-df-spinner {\n",
              "    border: 2px solid var(--fill-color);\n",
              "    border-color: transparent;\n",
              "    border-bottom-color: var(--fill-color);\n",
              "    animation:\n",
              "      spin 1s steps(1) infinite;\n",
              "  }\n",
              "\n",
              "  @keyframes spin {\n",
              "    0% {\n",
              "      border-color: transparent;\n",
              "      border-bottom-color: var(--fill-color);\n",
              "      border-left-color: var(--fill-color);\n",
              "    }\n",
              "    20% {\n",
              "      border-color: transparent;\n",
              "      border-left-color: var(--fill-color);\n",
              "      border-top-color: var(--fill-color);\n",
              "    }\n",
              "    30% {\n",
              "      border-color: transparent;\n",
              "      border-left-color: var(--fill-color);\n",
              "      border-top-color: var(--fill-color);\n",
              "      border-right-color: var(--fill-color);\n",
              "    }\n",
              "    40% {\n",
              "      border-color: transparent;\n",
              "      border-right-color: var(--fill-color);\n",
              "      border-top-color: var(--fill-color);\n",
              "    }\n",
              "    60% {\n",
              "      border-color: transparent;\n",
              "      border-right-color: var(--fill-color);\n",
              "    }\n",
              "    80% {\n",
              "      border-color: transparent;\n",
              "      border-right-color: var(--fill-color);\n",
              "      border-bottom-color: var(--fill-color);\n",
              "    }\n",
              "    90% {\n",
              "      border-color: transparent;\n",
              "      border-bottom-color: var(--fill-color);\n",
              "    }\n",
              "  }\n",
              "</style>\n",
              "\n",
              "  <script>\n",
              "    async function quickchart(key) {\n",
              "      const quickchartButtonEl =\n",
              "        document.querySelector('#' + key + ' button');\n",
              "      quickchartButtonEl.disabled = true;  // To prevent multiple clicks.\n",
              "      quickchartButtonEl.classList.add('colab-df-spinner');\n",
              "      try {\n",
              "        const charts = await google.colab.kernel.invokeFunction(\n",
              "            'suggestCharts', [key], {});\n",
              "      } catch (error) {\n",
              "        console.error('Error during call to suggestCharts:', error);\n",
              "      }\n",
              "      quickchartButtonEl.classList.remove('colab-df-spinner');\n",
              "      quickchartButtonEl.classList.add('colab-df-quickchart-complete');\n",
              "    }\n",
              "    (() => {\n",
              "      let quickchartButtonEl =\n",
              "        document.querySelector('#df-95bbaad6-a9ba-4c15-9f77-4417e922966e button');\n",
              "      quickchartButtonEl.style.display =\n",
              "        google.colab.kernel.accessAllowed ? 'block' : 'none';\n",
              "    })();\n",
              "  </script>\n",
              "</div>\n",
              "    </div>\n",
              "  </div>\n"
            ]
          },
          "metadata": {},
          "execution_count": 8
        }
      ]
    },
    {
      "cell_type": "markdown",
      "source": [
        "Define a target neighborhood and extract its shape"
      ],
      "metadata": {
        "id": "YxBZwd00H3SG"
      }
    },
    {
      "cell_type": "code",
      "source": [
        "tar='Northeast Bronx'\n",
        "nbhdstar=nbhds[nbhds['FIRST_UHF_']==tar]\n",
        "tarshape=nbhds.iloc[nbhds['FIRST_UHF_'].to_list().index(tar),nbhds.columns.to_list().index('geometry')]\n",
        "display(tarshape)"
      ],
      "metadata": {
        "colab": {
          "base_uri": "https://localhost:8080/",
          "height": 321
        },
        "id": "zKlmfWxgWmvq",
        "outputId": "67b08973-6166-4185-e3c4-24675c7d66fa"
      },
      "execution_count": 15,
      "outputs": [
        {
          "output_type": "display_data",
          "data": {
            "text/plain": [
              "<POLYGON ((1025012.99 270794.26, 1025061.481 270707.225, 1025166.329 270823....>"
            ],
            "image/svg+xml": "<svg xmlns=\"http://www.w3.org/2000/svg\" xmlns:xlink=\"http://www.w3.org/1999/xlink\" width=\"300\" height=\"300\" viewBox=\"1016617.9732858497 250657.4921702105 19550.053057977 21006.71766228319\" preserveAspectRatio=\"xMinYMin meet\"><g transform=\"matrix(1,0,0,-1,0,522321.70200270414)\"><path fill-rule=\"evenodd\" fill=\"#66cc99\" stroke=\"#555555\" stroke-width=\"140.04478441522127\" opacity=\"0.6\" d=\"M 1025012.9903369248,270794.2603199333 L 1025061.4806088209,270707.22488607466 L 1025166.3292434365,270823.23543432355 L 1025166.3689062595,270823.27125149965 L 1025264.8285862803,270851.22131603956 L 1025331.6095207334,270873.8218027204 L 1025341.7708910108,270876.9296024591 L 1025138.6287680566,270557.77135130763 L 1025068.7010497004,270445.1518223733 L 1025062.9999356866,270436.0000440031 L 1025040.1586067826,270400.208958894 L 1024935.7587048262,270236.7716449201 L 1024893.8249364793,270171.62864874303 L 1024735.9999099225,269927.00013281405 L 1024808.1777763218,269896.40095458925 L 1024917.7104679942,269849.9651558548 L 1024989.0287221819,269819.72128401697 L 1025082.5089100301,269786.80122825503 L 1025319.0189165324,269677.50123511255 L 1025444.8787355125,269596.60169807076 L 1025454.6648171991,269611.6237229258 L 1025468.0329180211,269605.08297891915 L 1025600.9855179191,269836.2363949418 L 1025601.8487495482,269837.5614041984 L 1025656.9087208062,269931.4215557128 L 1025683.8142811209,269917.1267326176 L 1026095.9999156147,269697.99966832995 L 1026529.9997932315,269483.00017531216 L 1026679.7175456434,269396.7839367986 L 1026726.9459219277,269370.5004642606 L 1026753.0487250835,269355.531071797 L 1026988.0887193233,269263.53137747943 L 1026991.2667207122,269261.32820647955 L 1027115.2209151685,269159.95067085326 L 1027112.8275738358,269062.71390227973 L 1027084.9998155087,268914.9998757541 L 1027090.2304049581,268904.8804304153 L 1027161.9288490415,268754.9317891896 L 1027257.2614257634,268730.81348372996 L 1027258.9999537468,268729.9997175187 L 1027470.0043613613,268740.66441336274 L 1027535.7984006852,268743.8815497309 L 1027599.587206021,268742.43257533014 L 1027819.9996167719,268736.9999770224 L 1028096.3744407743,268726.21930894256 L 1028119.5337507874,268637.49918596447 L 1028197.197224915,268245.49385277927 L 1028197.848720476,268237.55141305923 L 1028458.7006824166,267453.36120837927 L 1028468.9998168647,267421.99991607666 L 1028470.808244884,267419.1345420778 L 1028690.5788118541,267031.3915281296 L 1028704.3697815388,266989.33997783065 L 1028705.9347281754,266983.0991932452 L 1028714.4590650499,266940.1011646688 L 1028717.8039367646,266894.6138047278 L 1028717.8159261048,266888.9746732861 L 1028715.8600821197,266849.76240700483 L 1028715.1023415029,266841.5289056152 L 1028707.4190673232,266797.4013918489 L 1028695.1056503505,266756.64265306294 L 1028684.552100867,266729.11779494584 L 1028628.4176897407,266588.044348076 L 1028614.276239574,266552.69181598723 L 1028569.9998017699,266441.9999297261 L 1028575.5967066437,266339.2205475718 L 1028580.8687686175,266240.3513452709 L 1028593.0538469851,266199.2622590214 L 1028641.5333360285,266035.4166292548 L 1028767.9998602569,265608.00009922683 L 1028929.9997367412,265051.99983520806 L 1028930.2900443673,265052.08376049995 L 1028930.328953132,265051.95142546296 L 1029026.8287173361,265079.57151956856 L 1029210.3387302756,265000.63189834356 L 1029507.5286113471,264882.57162742317 L 1029797.2883513868,264807.5016183853 L 1030193.220528841,264627.6687851548 L 1030264.9998066276,264595.0001282543 L 1030510.999931857,264520.9997331798 L 1030741.9997487515,264431.0001453161 L 1030843.2357499748,264382.65457479656 L 1030987.1386782676,264313.721669063 L 1031037.9591024816,264295.38206894696 L 1031229.9260405898,264225.2463093549 L 1031478.6371866465,264129.3033325523 L 1031621.9485660195,264073.52151325345 L 1031814.0087042004,263992.9316628128 L 1032020.168593809,263907.70156538486 L 1032577.9984745383,263702.6414515674 L 1032935.6282173842,263568.6515862644 L 1033278.3586940169,263439.9417003989 L 1033330.7890059948,263614.4156810045 L 1033150.8898921311,263580.2407422513 L 1033115.5697840154,263573.52996091545 L 1033094.193038255,263972.42810209095 L 1033228.4586580992,264018.18171559274 L 1033790.2279002666,263823.4087468833 L 1034152.307342723,263688.8587009609 L 1034159.8186190575,263686.0317078829 L 1034494.6684123278,263525.3817241788 L 1034680.3582962453,263463.791716367 L 1034954.8986022472,263375.61171638966 L 1034966.5414462835,263372.8212945312 L 1035136.7157069892,263325.9533521533 L 1035196.0085896999,263290.1018679738 L 1035241.2087336034,263273.6123946011 L 1035389.9997637421,263218.999874115 L 1035360.694452703,262942.2252550274 L 1035318.0003045797,262538.99987126887 L 1035307.9999230802,262408.99973766506 L 1035181.9997761846,262388.0000901967 L 1035021.7133179456,262316.0768650621 L 1034947.999912709,262283.00011859834 L 1034864.591514498,262254.08517704904 L 1034458.3881023079,262113.26803034544 L 1034198.3484738916,262023.120951131 L 1034198.2785738409,262023.2412968278 L 1034066.1607780308,262213.4853911251 L 1034063.9597183615,262216.6659562737 L 1033920.023159638,262423.9276576042 L 1033920.0142618865,262423.9304475635 L 1033911.9786221087,262435.50165726244 L 1033783.8657897115,262465.82176312804 L 1033783.7405426949,262465.86067189276 L 1033564.3572536558,262517.78237998486 L 1033564.2750626653,262517.7928612232 L 1033447.9586734325,262545.321263358 L 1032957.743551001,262759.7356168479 L 1032942.5486234426,262766.3816256523 L 1032959.2838403285,262755.5569212884 L 1033094.5770737827,262668.04432724416 L 1033019.6832098514,262686.1348660439 L 1033512.2556302398,262247.9322388023 L 1033504.2536208928,262168.4470654428 L 1033545.537175551,262167.02599075437 L 1033590.3461205065,262158.1683656424 L 1033616.6455034018,262149.2792968303 L 1033637.5738181323,262139.78503087163 L 1033655.466118291,262129.58754180372 L 1033682.399653703,262057.71476233006 L 1033746.2655225247,261866.63277235627 L 1033755.9945229441,261819.47346667945 L 1033760.97959508,261795.3081087768 L 1033791.0260577351,261706.19505254924 L 1033770.9715312719,261657.64362752438 L 1033797.2117969841,261287.69828099012 L 1033788.3214462847,261130.99761211872 L 1033743.8972155005,260941.15233264863 L 1033742.6446700394,260885.37405736744 L 1033694.9884481877,260574.1338148564 L 1033646.4291056842,260453.25597642362 L 1033578.8781396747,260142.24315412343 L 1033518.8008231223,260090.4177376926 L 1033502.7040567994,259992.1434021145 L 1033503.0109534413,259821.47901165485 L 1033476.2344103605,259775.8375247568 L 1033500.2832681835,259726.33404152095 L 1033506.372263357,259660.18032234907 L 1033477.9610998183,259545.07628795505 L 1033453.8687335402,259478.18194501102 L 1033436.1921658814,259387.86490386724 L 1033419.2667032331,259349.83611245453 L 1033347.0360536426,259347.37875263393 L 1033337.6346861124,259278.56521233916 L 1033302.8796599209,259252.70634299517 L 1033332.7635502964,259193.29032459855 L 1033285.1396016032,259118.34910658002 L 1033265.5366731584,259000.42320661247 L 1033187.9274149388,258850.33989280462 L 1033185.9828816503,258751.90404061973 L 1033081.4025365263,258431.46783265471 L 1032989.6134471744,258117.4493084252 L 1032989.1403588504,257927.71766366065 L 1032940.278417781,257775.22155413032 L 1032964.6304020137,257701.815874964 L 1032938.2660203725,257501.03022050858 L 1032969.4375947416,257123.2507906258 L 1032953.0397379398,256962.62305127084 L 1032972.6401780248,256397.90496224165 L 1033002.2191322893,256203.9327147454 L 1033073.0651276112,256121.0752978027 L 1033325.206654191,255891.74305318296 L 1033452.7476936579,255797.67176885903 L 1033457.3457140923,255777.99637660384 L 1033467.1202588677,255736.17028601468 L 1033571.8842141479,255700.35952030122 L 1033595.7418459654,255692.20406264067 L 1033607.6010257453,255683.45758388937 L 1033695.8163150698,255618.39338548481 L 1033756.3703393638,255579.7655801028 L 1033770.6595071256,255554.5928170234 L 1033784.1091956943,255534.78380787373 L 1033798.6996801347,255506.678560704 L 1033809.8008930832,255471.4701267779 L 1033814.6679570526,255433.1128730327 L 1033813.4291352183,255403.22513701022 L 1033909.5404904485,255222.1207563579 L 1033984.6621516049,254902.91515113413 L 1034012.67269063,254338.10182611644 L 1033989.1964551657,253970.79254825413 L 1033979.3007352203,253714.9141215533 L 1034108.6501273215,253546.0585361421 L 1034208.9946956038,253495.6844316274 L 1034260.0418613851,253439.30887667835 L 1034285.4142957926,253379.9445104152 L 1034243.5329336375,253304.9375396073 L 1034160.5584887862,253223.8362199068 L 1034073.8745910823,253159.1867467016 L 1034059.3110260665,253123.25178964436 L 1034105.7361173481,253111.2353913188 L 1034012.1174113005,253067.99750079215 L 1033941.7104968578,253009.72604849935 L 1033825.7905849069,252935.56436301768 L 1033832.5945662856,252902.66730566323 L 1033865.1475525647,252879.3218971491 L 1033904.8984337449,252875.58635430038 L 1033923.9149407744,252852.3963546157 L 1033881.1367919445,252734.73437067866 L 1033875.7692677975,252708.1544073373 L 1033828.788670972,252678.8319040537 L 1033853.9406223893,252663.36340868473 L 1033797.9355301261,252612.99616599083 L 1033867.1617596745,252534.00021755695 L 1033794.9672288746,252535.51954442263 L 1033754.4160034806,252558.95581544936 L 1033736.1407234669,252503.37155614793 L 1033714.9213470668,252477.35810740292 L 1033708.8042259812,252444.60854139924 L 1033745.4586181194,252421.2166082561 L 1033748.661427632,252342.4133939296 L 1033704.6967123449,252336.35131818056 L 1033618.1833043844,252340.62057465315 L 1033597.8059709221,252370.3908303231 L 1033612.8943517953,252452.26655505598 L 1033541.3239446878,252597.4892143011 L 1033519.532926172,252683.06820870936 L 1033538.5752969682,252787.87333488464 L 1033507.4003293961,252788.228942886 L 1033478.0701348335,252752.46236425638 L 1033439.4927751273,252733.2111981809 L 1033407.9815031141,252704.03332087398 L 1033377.2343057096,252687.97418144345 L 1033337.8187486827,252685.1423624754 L 1033253.9291184694,252577.7956495434 L 1033289.3359418362,252570.82781401277 L 1033346.2240217179,252612.84384875 L 1033377.9229757339,252658.42900842428 L 1033426.75498119,252677.5634482205 L 1033465.3128865212,252677.1233870983 L 1033475.6189581752,252591.67521962523 L 1033445.6736130714,252555.91580443084 L 1033406.4075833261,252566.2093589455 L 1033415.8396405131,252530.00045706332 L 1033481.9729250371,252519.3997797072 L 1033514.3975727111,252538.72159987688 L 1033543.5194244236,252502.28791694343 L 1033565.5527932644,252419.9880414605 L 1033500.1626962721,252369.86450636387 L 1033487.8166291118,252312.57120227814 L 1033519.2521195263,252317.13513983786 L 1033559.4121459424,252295.34442293644 L 1033616.0559903979,252297.97973756492 L 1033659.6460957229,252271.22672072053 L 1033742.0571175665,252267.00451672077 L 1033839.6110377908,252331.5297985822 L 1033894.5588824451,252347.3127310425 L 1033933.9370387942,252346.86294274032 L 1033983.4218216836,252369.27190178633 L 1034005.4401850104,252339.4824179262 L 1034062.5312540233,252345.3952680081 L 1034157.4549871236,252377.13132105768 L 1034215.496380046,252376.4690426439 L 1034314.1510563195,252447.54570056498 L 1034332.9289078563,252493.2785024196 L 1034347.9776259214,252661.57956255972 L 1034516.6818743497,252833.0798881799 L 1034642.5361133814,252879.42331629992 L 1034707.9189715385,252872.98542414606 L 1034754.6981627345,252856.04178899527 L 1034797.0605307072,252865.40394614637 L 1034874.5612063408,252964.86409412324 L 1034967.5618964583,252999.11149670184 L 1034979.9620286971,252992.063807711 L 1034927.2104178071,252900.89348834753 L 1034408.489122048,252215.3175430894 L 1033936.4261439443,251853.21374495327 L 1033918.297525838,251843.17573656142 L 1033189.5676153451,251561.36967152357 L 1033050.0560989231,251540.4053134024 L 1032645.7010037601,251479.64400191605 L 1032352.0561935902,251435.51875029504 L 1032345.9997731894,251666.99987460673 L 1032235.000236243,251981.99994024634 L 1032135.9999053776,252227.99983924627 L 1032102.6679144055,252275.93837584555 L 1032046.9997298121,252355.9997909963 L 1032013.9997451901,252420.99997091293 L 1031989.9557132572,252498.51271127164 L 1031648.0003956854,252339.00035645068 L 1031094.1989291906,251575.01367770135 L 1030880.000157401,251655.00014069676 L 1030424.6007618308,251744.57603022456 L 1029389.9997918904,251648.99997211993 L 1029279.9998934418,251600.9999807775 L 1029057.9997638762,251526.99988733232 L 1027532.700554356,251808.50079002976 L 1025885.9997461885,251946.00021065772 L 1024093.9997431338,251747.00013664365 L 1023981.0000997186,251738.99986159801 L 1023307.3568537086,251711.10024271905 L 1022470.1154557616,251676.5092214942 L 1022482.000046879,251894.00015720725 L 1022473.8215908259,252499.8152499795 L 1022473.1155023426,252552.08970068395 L 1022502.999920547,253080.99973857403 L 1022518.9999427944,253760.99974142015 L 1022519.6739843339,253788.2614375651 L 1022540.9998320043,254651.000139907 L 1022545.9997588396,254870.9998613894 L 1022566.0880665481,255359.42404967546 L 1022558.5138273835,255380.18157303333 L 1022562.5729312897,255463.88125911355 L 1022563.3194366246,255507.2474128455 L 1022596.5751181543,256127.5162061453 L 1022618.299252823,256758.35068908334 L 1022633.3871812671,257194.39289972186 L 1022639.2096212506,257359.44786813855 L 1022641.8438802212,257409.89013838768 L 1022671.0001918226,257902.00017790496 L 1022824.9997932613,258274.99986231327 L 1022945.0000732094,258561.00000545382 L 1023035.0001889169,258772.999753505 L 1023165.9997348189,259088.99998547137 L 1023263.00018543,259322.0002104491 L 1023338.4052924067,259502.08595064282 L 1023347.9999218732,259524.9997433424 L 1023455.9998646528,259784.9997843504 L 1023560.3234571964,260039.61556138098 L 1023673.9874903411,260295.33933331072 L 1023779.7715187669,260552.8402403444 L 1023885.8059657961,260807.19338323176 L 1023994.479497686,261065.96742118895 L 1024100.0004395396,261325.00002144277 L 1023304.0001434684,261657.9999141544 L 1022530.4810440242,261980.62368436158 L 1022507.632023856,261989.1126564741 L 1021714.999673307,262322.0001963824 L 1021475.0311603695,262419.50344473124 L 1021687.9998572618,262937.99995943904 L 1021850.9999754876,263472.99974654615 L 1022115.999867931,263964.99999698997 L 1022223.9998861253,264222.9998561293 L 1022259.6599180698,264294.8610987067 L 1022294.1505758166,264367.2909671962 L 1022311.8631868511,264446.0974993408 L 1022359.5874990374,264513.77899068594 L 1022390.516873911,264587.7995941937 L 1022420.2420376539,264662.3115339279 L 1022448.7561284453,264737.29543092847 L 1022476.0510780066,264812.73145379126 L 1022502.1195720881,264888.6003743261 L 1022526.955653727,264964.8817579299 L 1022550.5511792302,265041.5555469543 L 1022572.9015489221,265118.6018345952 L 1022593.9997501671,265195.99980919063 L 1022579.999608174,265257.9997163117 L 1022450.9999425113,265311.9998008013 L 1022363.9998733997,265349.0002999604 L 1022160.9998126626,265435.9995396286 L 1022044.9952213764,265485.89497587085 L 1021971.9998939335,265516.9997417778 L 1021844.9998069108,265569.9996599555 L 1021595.9996351004,265653.0000439733 L 1021042.9999454916,265773.00002229214 L 1020170.9999773353,265957.0000142008 L 1020055.999850437,265975.00014290214 L 1019523.9998836964,265828.99976083636 L 1018865.837951839,265641.0957722515 L 1018608.0001371354,265601.99970443547 L 1018222.0000246316,265545.000025779 L 1017395.9998659343,265444.999981001 L 1017402.0000345111,265475.99978375435 L 1017504.0001103431,266093.9999548793 L 1017547.3089565933,266265.7833493054 L 1017591.192461133,266620.3392998725 L 1017705.9383237809,267126.680671826 L 1017877.2875386328,268056.6123946458 L 1017910.1523228288,268185.2055542171 L 1017946.9996752888,268579.9998011589 L 1017812.0001426786,268460.0000490546 L 1017992.8933151066,269222.96431712806 L 1018850.3581457883,268998.3335480094 L 1018850.4091192782,268998.3115298748 L 1019010.4001423717,268947.41336354613 L 1019886.6474242508,268615.55848936737 L 1019922.9689805806,268601.45134827495 L 1020010.0397037864,268569.2447706312 L 1020769.9997780174,268287.9997910708 L 1021076.9997948259,268120.0003492534 L 1021388.0075650215,268008.9496125877 L 1021494.1229211688,267971.0398096144 L 1021609.049000755,267929.6814536154 L 1022178.3189626187,267761.5214754492 L 1022216.0790120959,267733.7716100663 L 1022519.7589652836,267589.58139032125 L 1022695.5787668228,267575.0817683935 L 1022916.9688733369,267486.2815657556 L 1023138.8591384292,267418.3760474175 L 1023140.5997023284,267587.8602807969 L 1023085.1723599583,267757.46206992865 L 1023085.5284957737,267757.5319699794 L 1023212.6974890679,267779.59791359305 L 1023143.8854568601,267888.57200813293 L 1023143.86366494,267888.60345184803 L 1023132.1488849223,267911.28145442903 L 1023040.5331507176,268038.20349772274 L 1023040.3729159832,268038.4361962527 L 1023178.5788021088,268184.73148562014 L 1023239.9389767796,268120.88145175576 L 1023389.0390148759,268010.82122965157 L 1023417.5489584208,268067.77121669054 L 1023451.708816275,268136.0315889865 L 1023584.8585237414,268192.89146755636 L 1023584.9603953362,268192.97848445177 L 1023685.5029006451,268271.3267829567 L 1023703.3993480653,268294.01534217596 L 1023716.8288282007,268305.47155989707 L 1023718.4982101768,268315.18110592663 L 1023738.461044684,268387.7412735373 L 1023746.7667082548,268453.29854248464 L 1023754.9390565455,268527.1270905286 L 1023760.4588979632,268559.23157036304 L 1023762.5030406862,268595.4619625509 L 1023762.5043225735,268595.47274540365 L 1023767.3992862254,268682.2349884808 L 1023774.2969955057,268804.48699995875 L 1023776.6401174068,268846.00996415317 L 1023685.7967522889,268911.80754749477 L 1023632.9737332761,268950.0670014918 L 1023723.3785453588,269057.26139716804 L 1023894.3389741927,269047.5014054626 L 1024023.138214469,269087.8154834509 L 1023996.8805302978,269139.77662813663 L 1023964.2381896079,269204.36261068285 L 1023946.1303077638,269240.1897391826 L 1023946.0542999357,269240.2135670334 L 1023847.5132583678,269282.9950336516 L 1023871.6483790427,269318.32992106676 L 1023909.3231459409,269373.48716422915 L 1023963.9000754803,269453.3899281472 L 1023965.0492412597,269454.8913087249 L 1024222.6085114479,269577.8015267849 L 1024285.6088865101,269670.6714653522 L 1024422.2685263455,269686.3414417654 L 1024621.3692654669,269873.19557237625 L 1024621.3587088287,269873.5596256852 L 1024616.639136225,270047.24155659974 L 1024524.3657232672,270088.7235006988 L 1024524.34981291,270088.7399388999 L 1024459.0498997867,270101.14007112384 L 1024381.7880304456,270177.16462673247 L 1024341.0118732154,270217.2880065292 L 1024479.2587794214,270510.85137976706 L 1024685.1091332436,270648.2012730986 L 1024784.1289184988,270880.97136330605 L 1024784.5244155079,270880.99338144064 L 1024936.9637454003,270886.1832524091 L 1025012.9903369248,270794.2603199333 z\" /></g></svg>"
          },
          "metadata": {}
        }
      ]
    },
    {
      "cell_type": "markdown",
      "source": [
        "Create subsections within the target neighborhood"
      ],
      "metadata": {
        "id": "5_RZ95lTH6Dw"
      }
    },
    {
      "cell_type": "code",
      "source": [
        "rows, cols = 5, 5\n",
        "min_x, min_y, max_x, max_y = nbhdstar.total_bounds\n",
        "width = (max_x - min_x) / cols\n",
        "height = (max_y - min_y) / rows\n",
        "row=4\n",
        "col=4\n",
        "left = min_x + col * width\n",
        "right = left + width\n",
        "top = max_y - row * height\n",
        "bottom = top - height\n",
        "subsection = shapely.geometry.box(left, bottom, right, top)\n",
        "subsection_gdf = gpd.GeoDataFrame({'geometry': [subsection]}, crs=nbhdstar.crs)"
      ],
      "metadata": {
        "id": "xiQE7xQc369u"
      },
      "execution_count": 10,
      "outputs": []
    },
    {
      "cell_type": "markdown",
      "source": [
        "Create a plot of the original neighborhood and the last subsection"
      ],
      "metadata": {
        "id": "EUA3nPs4H8Ue"
      }
    },
    {
      "cell_type": "code",
      "source": [
        "fig, ax = plt.subplots(figsize=(5, 5))\n",
        "nbhdstar.plot(ax=ax, color='blue', alpha=0.5, edgecolor='k') # Plot the original GeoDataFrame\n",
        "subsection_gdf.plot(ax=ax, color='red', alpha=0.5, edgecolor='k') # Plot the subsection\n",
        "ax.set_axis_off()\n",
        "plt.show()"
      ],
      "metadata": {
        "colab": {
          "base_uri": "https://localhost:8080/",
          "height": 422
        },
        "id": "6NASBlqTIiff",
        "outputId": "3c2a56a4-ca0e-4dab-f0a4-e6d0784f8b2f"
      },
      "execution_count": 11,
      "outputs": [
        {
          "output_type": "display_data",
          "data": {
            "text/plain": [
              "<Figure size 500x500 with 1 Axes>"
            ],
            "image/png": "[encoded data removed]"
          },
          "metadata": {}
        }
      ]
    },
    {
      "cell_type": "markdown",
      "source": [
        "Create subsections for the entire neighborhood and display them"
      ],
      "metadata": {
        "id": "lUTlcjDdIAbA"
      }
    },
    {
      "cell_type": "code",
      "source": [
        "# Create an empty GeoDataFrame to store all subsections\n",
        "all_subsections_gdf = gpd.GeoDataFrame(columns=['geometry'], crs=nbhdstar.crs)\n",
        "\n",
        "# Iterate through rows and columns to create and add subsections to the all_subsections_gdf\n",
        "counter = 0\n",
        "for row in range(rows):\n",
        "    for col in range(cols):\n",
        "        counter += 1\n",
        "        left = min_x + col * width\n",
        "        right = left + width\n",
        "        top = max_y - row * height\n",
        "        bottom = top - height\n",
        "        subsection = shapely.geometry.box(left, bottom, right, top)\n",
        "        subsection_gdf = gpd.GeoDataFrame({'geometry': [subsection]}, crs=nbhdstar.crs)  # Set CRS for each subsection\n",
        "        all_subsections_gdf = pd.concat([all_subsections_gdf, subsection_gdf], ignore_index=True)\n",
        "\n",
        "# Plot the original GeoDataFrame and all subsections\n",
        "fig, ax = plt.subplots(figsize=(5, 5))\n",
        "\n",
        "# Plot the original GeoDataFrame\n",
        "nbhdstar.plot(ax=ax, color='black', alpha=0.5, edgecolor='k')\n",
        "\n",
        "# Plot all subsections\n",
        "all_subsections_gdf.plot(ax=ax, color='white', alpha=0.2, edgecolor='k')\n",
        "\n",
        "# Annotate each subsection with a counter\n",
        "for idx, geom in enumerate(all_subsections_gdf['geometry']):\n",
        "    x, y = geom.centroid.coords[0]  # Get the centroid of the subsection\n",
        "    ax.annotate(str(idx + 1), xy=(x, y), ha='center', va='center', fontsize=10)\n",
        "ax.set_axis_off()\n",
        "plt.show()\n"
      ],
      "metadata": {
        "colab": {
          "base_uri": "https://localhost:8080/",
          "height": 422
        },
        "id": "6LXMHPp0L9Db",
        "outputId": "d5622d31-63ee-4a32-e8bd-7b37c6483677"
      },
      "execution_count": 16,
      "outputs": [
        {
          "output_type": "display_data",
          "data": {
            "text/plain": [
              "<Figure size 500x500 with 1 Axes>"
            ],
            "image/png": "[encoded data removed]"
          },
          "metadata": {}
        }
      ]
    },
    {
      "cell_type": "markdown",
      "source": [
        " Calculate and display the area where the neighborhood and last subsection overlap"
      ],
      "metadata": {
        "id": "2sQYDxVfIDXa"
      }
    },
    {
      "cell_type": "code",
      "source": [
        "nbhdstarsub=nbhdstar.intersection(subsection)\n",
        "display(nbhdstarsub.values[0])"
      ],
      "metadata": {
        "colab": {
          "base_uri": "https://localhost:8080/",
          "height": 321
        },
        "id": "05VBTVdH36vZ",
        "outputId": "f6c09bbf-5caa-4d9f-da08-d01175ee3a27"
      },
      "execution_count": 17,
      "outputs": [
        {
          "output_type": "display_data",
          "data": {
            "text/plain": [
              "<POLYGON ((1033909.54 255222.121, 1033984.662 254902.915, 1034012.673 254338...>"
            ],
            "image/svg+xml": "<svg xmlns=\"http://www.w3.org/2000/svg\" xmlns:xlink=\"http://www.w3.org/1999/xlink\" width=\"300\" height=\"300\" viewBox=\"1031635.5944681636 251279.91343427813 3499.9728765505133 4201.343532456638\" preserveAspectRatio=\"xMinYMin meet\"><g transform=\"matrix(1,0,0,-1,0,506761.1704010129)\"><path fill-rule=\"evenodd\" fill=\"#66cc99\" stroke=\"#555555\" stroke-width=\"28.008956883044252\" opacity=\"0.6\" d=\"M 1033909.5404904485,255222.1207563579 L 1033984.6621516049,254902.91515113413 L 1034012.67269063,254338.10182611644 L 1033989.1964551657,253970.79254825413 L 1033979.3007352203,253714.9141215533 L 1034108.6501273215,253546.0585361421 L 1034208.9946956038,253495.6844316274 L 1034260.0418613851,253439.30887667835 L 1034285.4142957926,253379.9445104152 L 1034243.5329336375,253304.9375396073 L 1034160.5584887862,253223.8362199068 L 1034073.8745910823,253159.1867467016 L 1034059.3110260665,253123.25178964436 L 1034105.7361173481,253111.2353913188 L 1034012.1174113005,253067.99750079215 L 1033941.7104968578,253009.72604849935 L 1033825.7905849069,252935.56436301768 L 1033832.5945662856,252902.66730566323 L 1033865.1475525647,252879.3218971491 L 1033904.8984337449,252875.58635430038 L 1033923.9149407744,252852.3963546157 L 1033881.1367919445,252734.73437067866 L 1033875.7692677975,252708.1544073373 L 1033828.788670972,252678.8319040537 L 1033853.9406223893,252663.36340868473 L 1033797.9355301261,252612.99616599083 L 1033867.1617596745,252534.00021755695 L 1033794.9672288746,252535.51954442263 L 1033754.4160034806,252558.95581544936 L 1033736.1407234669,252503.37155614793 L 1033714.9213470668,252477.35810740292 L 1033708.8042259812,252444.60854139924 L 1033745.4586181194,252421.2166082561 L 1033748.661427632,252342.4133939296 L 1033704.6967123449,252336.35131818056 L 1033618.1833043844,252340.62057465315 L 1033597.8059709221,252370.3908303231 L 1033612.8943517953,252452.26655505598 L 1033541.3239446878,252597.4892143011 L 1033519.532926172,252683.06820870936 L 1033538.5752969682,252787.87333488464 L 1033507.4003293961,252788.228942886 L 1033478.0701348335,252752.46236425638 L 1033439.4927751273,252733.2111981809 L 1033407.9815031141,252704.03332087398 L 1033377.2343057096,252687.97418144345 L 1033337.8187486827,252685.1423624754 L 1033253.9291184694,252577.7956495434 L 1033289.3359418362,252570.82781401277 L 1033346.2240217179,252612.84384875 L 1033377.9229757339,252658.42900842428 L 1033426.75498119,252677.5634482205 L 1033465.3128865212,252677.1233870983 L 1033475.6189581752,252591.67521962523 L 1033445.6736130714,252555.91580443084 L 1033406.4075833261,252566.2093589455 L 1033415.8396405131,252530.00045706332 L 1033481.9729250371,252519.3997797072 L 1033514.3975727111,252538.72159987688 L 1033543.5194244236,252502.28791694343 L 1033565.5527932644,252419.9880414605 L 1033500.1626962721,252369.86450636387 L 1033487.8166291118,252312.57120227814 L 1033519.2521195263,252317.13513983786 L 1033559.4121459424,252295.34442293644 L 1033616.0559903979,252297.97973756492 L 1033659.6460957229,252271.22672072053 L 1033742.0571175665,252267.00451672077 L 1033839.6110377908,252331.5297985822 L 1033894.5588824451,252347.3127310425 L 1033933.9370387942,252346.86294274032 L 1033983.4218216836,252369.27190178633 L 1034005.4401850104,252339.4824179262 L 1034062.5312540233,252345.3952680081 L 1034157.4549871236,252377.13132105768 L 1034215.496380046,252376.4690426439 L 1034314.1510563195,252447.54570056498 L 1034332.9289078563,252493.2785024196 L 1034347.9776259214,252661.57956255972 L 1034516.6818743497,252833.0798881799 L 1034642.5361133814,252879.42331629992 L 1034707.9189715385,252872.98542414606 L 1034754.6981627345,252856.04178899527 L 1034797.0605307072,252865.40394614637 L 1034874.5612063408,252964.86409412324 L 1034967.5618964583,252999.11149670184 L 1034979.9620286971,252992.063807711 L 1034927.2104178071,252900.89348834753 L 1034408.489122048,252215.3175430894 L 1033936.4261439443,251853.21374495327 L 1033918.297525838,251843.17573656142 L 1033189.5676153451,251561.36967152357 L 1033050.0560989231,251540.4053134024 L 1032645.7010037601,251479.64400191605 L 1032352.0561935902,251435.51875029504 L 1032345.9997731894,251666.99987460673 L 1032235.000236243,251981.99994024634 L 1032135.9999053776,252227.99983924627 L 1032102.6679144055,252275.93837584555 L 1032046.9997298121,252355.9997909963 L 1032013.9997451901,252420.99997091293 L 1031989.9557132572,252498.51271127164 L 1031791.1997841805,252405.79876692715 L 1031791.1997841805,255325.65165071786 L 1033854.5970676042,255325.65165071786 L 1033909.5404904485,255222.1207563579 z\" /></g></svg>"
          },
          "metadata": {}
        }
      ]
    },
    {
      "cell_type": "markdown",
      "source": [
        "Calculate and store flood zone statistics for subsections"
      ],
      "metadata": {
        "id": "n3d4CGZEILWP"
      }
    },
    {
      "cell_type": "code",
      "source": [
        "rows, cols = 5, 5\n",
        "storage=[]\n",
        "for nbhd in nbhds[\"FIRST_UHF_\"].unique():\n",
        "\n",
        "  if nbhd==None:\n",
        "    continue\n",
        "\n",
        "  nbhdstar=nbhds[nbhds['FIRST_UHF_']==nbhd]\n",
        "  min_x, min_y, max_x, max_y = nbhdstar.total_bounds\n",
        "  width = (max_x - min_x) / cols\n",
        "  height = (max_y - min_y) / rows\n",
        "  counter = 0\n",
        "  for row in range(rows):\n",
        "    for col in range(cols):\n",
        "      counter=counter+1\n",
        "      left = min_x + col * width\n",
        "      right = left + width\n",
        "      top = max_y - row * height\n",
        "      bottom = top - height\n",
        "      subsection = shapely.geometry.box(left, bottom, right, top)\n",
        "      subsection_gdf = gpd.GeoDataFrame({'geometry': [subsection]}, crs=nbhdstar.crs)\n",
        "      nbhdstarsub=nbhdstar.intersection(subsection)\n",
        "      ar=nbhdstarsub.to_crs(nbhdstar.crs).area.values[0]\n",
        "      flood1=nbhdstarsub.intersection(floodzones.iloc[0,3]).area.values[0]\n",
        "      flood2=nbhdstarsub.intersection(floodzones.iloc[1,3]).area.values[0]\n",
        "      flood3=nbhdstarsub.intersection(floodzones.iloc[2,3]).area.values[0]\n",
        "\n",
        "      if ar>0:\n",
        "        storage.append((nbhd,counter,flood1/ar,flood2/ar,flood3/ar))"
      ],
      "metadata": {
        "id": "7_a7GzlpX8re"
      },
      "execution_count": 18,
      "outputs": []
    },
    {
      "cell_type": "markdown",
      "source": [
        "Display the first 5 records in the storage data"
      ],
      "metadata": {
        "id": "Jp73RHuxIt2H"
      }
    },
    {
      "cell_type": "code",
      "source": [
        "storage[0:5]"
      ],
      "metadata": {
        "colab": {
          "base_uri": "https://localhost:8080/"
        },
        "id": "jV_9BggSy38_",
        "outputId": "15ac6467-4ee3-4262-eced-bfbf007aca27"
      },
      "execution_count": 19,
      "outputs": [
        {
          "output_type": "execute_result",
          "data": {
            "text/plain": [
              "[('Kingsbridge - Riverdale',\n",
              "  2,\n",
              "  0.007099106666525785,\n",
              "  0.0036836467950715256,\n",
              "  0.0072576424625942415),\n",
              " ('Kingsbridge - Riverdale', 3, 0.03359991823061734, 0.02676885530906435, 0.0),\n",
              " ('Kingsbridge - Riverdale',\n",
              "  4,\n",
              "  0.00826869025590325,\n",
              "  0.0005340724765132109,\n",
              "  0.0),\n",
              " ('Kingsbridge - Riverdale', 5, 0.0, 0.0, 0.0),\n",
              " ('Kingsbridge - Riverdale', 6, 0.0, 0.0, 0.09263677324735722)]"
            ]
          },
          "metadata": {},
          "execution_count": 19
        }
      ]
    },
    {
      "cell_type": "markdown",
      "source": [
        "Create a DataFrame from the collected data"
      ],
      "metadata": {
        "id": "t1TeT4OtIwiO"
      }
    },
    {
      "cell_type": "code",
      "source": [
        "df=pd.DataFrame(storage,columns=['Neighborhood','Section','Nuisance','Deep','High Tide'])\n",
        "df['Section']=df['Section'].astype(str)\n",
        "df.head()"
      ],
      "metadata": {
        "colab": {
          "base_uri": "https://localhost:8080/",
          "height": 206
        },
        "id": "Abc4J5A7_I_p",
        "outputId": "92d74c84-4ed4-4125-ac5b-cc9e84ec814b"
      },
      "execution_count": 20,
      "outputs": [
        {
          "output_type": "execute_result",
          "data": {
            "text/plain": [
              "              Neighborhood Section  Nuisance      Deep  High Tide\n",
              "0  Kingsbridge - Riverdale       2  0.007099  0.003684   0.007258\n",
              "1  Kingsbridge - Riverdale       3  0.033600  0.026769   0.000000\n",
              "2  Kingsbridge - Riverdale       4  0.008269  0.000534   0.000000\n",
              "3  Kingsbridge - Riverdale       5  0.000000  0.000000   0.000000\n",
              "4  Kingsbridge - Riverdale       6  0.000000  0.000000   0.092637"
            ],
            "text/html": [
              "\n",
              "  <div id=\"df-23479fe1-74d8-4d99-a3db-6c188966d2a2\" class=\"colab-df-container\">\n",
              "    <div>\n",
              "<style scoped>\n",
              "    .dataframe tbody tr th:only-of-type {\n",
              "        vertical-align: middle;\n",
              "    }\n",
              "\n",
              "    .dataframe tbody tr th {\n",
              "        vertical-align: top;\n",
              "    }\n",
              "\n",
              "    .dataframe thead th {\n",
              "        text-align: right;\n",
              "    }\n",
              "</style>\n",
              "<table border=\"1\" class=\"dataframe\">\n",
              "  <thead>\n",
              "    <tr style=\"text-align: right;\">\n",
              "      <th></th>\n",
              "      <th>Neighborhood</th>\n",
              "      <th>Section</th>\n",
              "      <th>Nuisance</th>\n",
              "      <th>Deep</th>\n",
              "      <th>High Tide</th>\n",
              "    </tr>\n",
              "  </thead>\n",
              "  <tbody>\n",
              "    <tr>\n",
              "      <th>0</th>\n",
              "      <td>Kingsbridge - Riverdale</td>\n",
              "      <td>2</td>\n",
              "      <td>0.007099</td>\n",
              "      <td>0.003684</td>\n",
              "      <td>0.007258</td>\n",
              "    </tr>\n",
              "    <tr>\n",
              "      <th>1</th>\n",
              "      <td>Kingsbridge - Riverdale</td>\n",
              "      <td>3</td>\n",
              "      <td>0.033600</td>\n",
              "      <td>0.026769</td>\n",
              "      <td>0.000000</td>\n",
              "    </tr>\n",
              "    <tr>\n",
              "      <th>2</th>\n",
              "      <td>Kingsbridge - Riverdale</td>\n",
              "      <td>4</td>\n",
              "      <td>0.008269</td>\n",
              "      <td>0.000534</td>\n",
              "      <td>0.000000</td>\n",
              "    </tr>\n",
              "    <tr>\n",
              "      <th>3</th>\n",
              "      <td>Kingsbridge - Riverdale</td>\n",
              "      <td>5</td>\n",
              "      <td>0.000000</td>\n",
              "      <td>0.000000</td>\n",
              "      <td>0.000000</td>\n",
              "    </tr>\n",
              "    <tr>\n",
              "      <th>4</th>\n",
              "      <td>Kingsbridge - Riverdale</td>\n",
              "      <td>6</td>\n",
              "      <td>0.000000</td>\n",
              "      <td>0.000000</td>\n",
              "      <td>0.092637</td>\n",
              "    </tr>\n",
              "  </tbody>\n",
              "</table>\n",
              "</div>\n",
              "    <div class=\"colab-df-buttons\">\n",
              "\n",
              "  <div class=\"colab-df-container\">\n",
              "    <button class=\"colab-df-convert\" onclick=\"convertToInteractive('df-23479fe1-74d8-4d99-a3db-6c188966d2a2')\"\n",
              "            title=\"Convert this dataframe to an interactive table.\"\n",
              "            style=\"display:none;\">\n",
              "\n",
              "  <svg xmlns=\"http://www.w3.org/2000/svg\" height=\"24px\" viewBox=\"0 -960 960 960\">\n",
              "    <path d=\"M120-120v-720h720v720H120Zm60-500h600v-160H180v160Zm220 220h160v-160H400v160Zm0 220h160v-160H400v160ZM180-400h160v-160H180v160Zm440 0h160v-160H620v160ZM180-180h160v-160H180v160Zm440 0h160v-160H620v160Z\"/>\n",
              "  </svg>\n",
              "    </button>\n",
              "\n",
              "  <style>\n",
              "    .colab-df-container {\n",
              "      display:flex;\n",
              "      gap: 12px;\n",
              "    }\n",
              "\n",
              "    .colab-df-convert {\n",
              "      background-color: #E8F0FE;\n",
              "      border: none;\n",
              "      border-radius: 50%;\n",
              "      cursor: pointer;\n",
              "      display: none;\n",
              "      fill: #1967D2;\n",
              "      height: 32px;\n",
              "      padding: 0 0 0 0;\n",
              "      width: 32px;\n",
              "    }\n",
              "\n",
              "    .colab-df-convert:hover {\n",
              "      background-color: #E2EBFA;\n",
              "      box-shadow: 0px 1px 2px rgba(60, 64, 67, 0.3), 0px 1px 3px 1px rgba(60, 64, 67, 0.15);\n",
              "      fill: #174EA6;\n",
              "    }\n",
              "\n",
              "    .colab-df-buttons div {\n",
              "      margin-bottom: 4px;\n",
              "    }\n",
              "\n",
              "    [theme=dark] .colab-df-convert {\n",
              "      background-color: #3B4455;\n",
              "      fill: #D2E3FC;\n",
              "    }\n",
              "\n",
              "    [theme=dark] .colab-df-convert:hover {\n",
              "      background-color: #434B5C;\n",
              "      box-shadow: 0px 1px 3px 1px rgba(0, 0, 0, 0.15);\n",
              "      filter: drop-shadow(0px 1px 2px rgba(0, 0, 0, 0.3));\n",
              "      fill: #FFFFFF;\n",
              "    }\n",
              "  </style>\n",
              "\n",
              "    <script>\n",
              "      const buttonEl =\n",
              "        document.querySelector('#df-23479fe1-74d8-4d99-a3db-6c188966d2a2 button.colab-df-convert');\n",
              "      buttonEl.style.display =\n",
              "        google.colab.kernel.accessAllowed ? 'block' : 'none';\n",
              "\n",
              "      async function convertToInteractive(key) {\n",
              "        const element = document.querySelector('#df-23479fe1-74d8-4d99-a3db-6c188966d2a2');\n",
              "        const dataTable =\n",
              "          await google.colab.kernel.invokeFunction('convertToInteractive',\n",
              "                                                    [key], {});\n",
              "        if (!dataTable) return;\n",
              "\n",
              "        const docLinkHtml = 'Like what you see? Visit the ' +\n",
              "          '<a target=\"_blank\" href=https://colab.research.google.com/notebooks/data_table.ipynb>data table notebook</a>'\n",
              "          + ' to learn more about interactive tables.';\n",
              "        element.innerHTML = '';\n",
              "        dataTable['output_type'] = 'display_data';\n",
              "        await google.colab.output.renderOutput(dataTable, element);\n",
              "        const docLink = document.createElement('div');\n",
              "        docLink.innerHTML = docLinkHtml;\n",
              "        element.appendChild(docLink);\n",
              "      }\n",
              "    </script>\n",
              "  </div>\n",
              "\n",
              "\n",
              "<div id=\"df-5a4ff06b-734a-4f9b-8499-15970c2f6bc9\">\n",
              "  <button class=\"colab-df-quickchart\" onclick=\"quickchart('df-5a4ff06b-734a-4f9b-8499-15970c2f6bc9')\"\n",
              "            title=\"Suggest charts\"\n",
              "            style=\"display:none;\">\n",
              "\n",
              "<svg xmlns=\"http://www.w3.org/2000/svg\" height=\"24px\"viewBox=\"0 0 24 24\"\n",
              "     width=\"24px\">\n",
              "    <g>\n",
              "        <path d=\"M19 3H5c-1.1 0-2 .9-2 2v14c0 1.1.9 2 2 2h14c1.1 0 2-.9 2-2V5c0-1.1-.9-2-2-2zM9 17H7v-7h2v7zm4 0h-2V7h2v10zm4 0h-2v-4h2v4z\"/>\n",
              "    </g>\n",
              "</svg>\n",
              "  </button>\n",
              "\n",
              "<style>\n",
              "  .colab-df-quickchart {\n",
              "      --bg-color: #E8F0FE;\n",
              "      --fill-color: #1967D2;\n",
              "      --hover-bg-color: #E2EBFA;\n",
              "      --hover-fill-color: #174EA6;\n",
              "      --disabled-fill-color: #AAA;\n",
              "      --disabled-bg-color: #DDD;\n",
              "  }\n",
              "\n",
              "  [theme=dark] .colab-df-quickchart {\n",
              "      --bg-color: #3B4455;\n",
              "      --fill-color: #D2E3FC;\n",
              "      --hover-bg-color: #434B5C;\n",
              "      --hover-fill-color: #FFFFFF;\n",
              "      --disabled-bg-color: #3B4455;\n",
              "      --disabled-fill-color: #666;\n",
              "  }\n",
              "\n",
              "  .colab-df-quickchart {\n",
              "    background-color: var(--bg-color);\n",
              "    border: none;\n",
              "    border-radius: 50%;\n",
              "    cursor: pointer;\n",
              "    display: none;\n",
              "    fill: var(--fill-color);\n",
              "    height: 32px;\n",
              "    padding: 0;\n",
              "    width: 32px;\n",
              "  }\n",
              "\n",
              "  .colab-df-quickchart:hover {\n",
              "    background-color: var(--hover-bg-color);\n",
              "    box-shadow: 0 1px 2px rgba(60, 64, 67, 0.3), 0 1px 3px 1px rgba(60, 64, 67, 0.15);\n",
              "    fill: var(--button-hover-fill-color);\n",
              "  }\n",
              "\n",
              "  .colab-df-quickchart-complete:disabled,\n",
              "  .colab-df-quickchart-complete:disabled:hover {\n",
              "    background-color: var(--disabled-bg-color);\n",
              "    fill: var(--disabled-fill-color);\n",
              "    box-shadow: none;\n",
              "  }\n",
              "\n",
              "  .colab-df-spinner {\n",
              "    border: 2px solid var(--fill-color);\n",
              "    border-color: transparent;\n",
              "    border-bottom-color: var(--fill-color);\n",
              "    animation:\n",
              "      spin 1s steps(1) infinite;\n",
              "  }\n",
              "\n",
              "  @keyframes spin {\n",
              "    0% {\n",
              "      border-color: transparent;\n",
              "      border-bottom-color: var(--fill-color);\n",
              "      border-left-color: var(--fill-color);\n",
              "    }\n",
              "    20% {\n",
              "      border-color: transparent;\n",
              "      border-left-color: var(--fill-color);\n",
              "      border-top-color: var(--fill-color);\n",
              "    }\n",
              "    30% {\n",
              "      border-color: transparent;\n",
              "      border-left-color: var(--fill-color);\n",
              "      border-top-color: var(--fill-color);\n",
              "      border-right-color: var(--fill-color);\n",
              "    }\n",
              "    40% {\n",
              "      border-color: transparent;\n",
              "      border-right-color: var(--fill-color);\n",
              "      border-top-color: var(--fill-color);\n",
              "    }\n",
              "    60% {\n",
              "      border-color: transparent;\n",
              "      border-right-color: var(--fill-color);\n",
              "    }\n",
              "    80% {\n",
              "      border-color: transparent;\n",
              "      border-right-color: var(--fill-color);\n",
              "      border-bottom-color: var(--fill-color);\n",
              "    }\n",
              "    90% {\n",
              "      border-color: transparent;\n",
              "      border-bottom-color: var(--fill-color);\n",
              "    }\n",
              "  }\n",
              "</style>\n",
              "\n",
              "  <script>\n",
              "    async function quickchart(key) {\n",
              "      const quickchartButtonEl =\n",
              "        document.querySelector('#' + key + ' button');\n",
              "      quickchartButtonEl.disabled = true;  // To prevent multiple clicks.\n",
              "      quickchartButtonEl.classList.add('colab-df-spinner');\n",
              "      try {\n",
              "        const charts = await google.colab.kernel.invokeFunction(\n",
              "            'suggestCharts', [key], {});\n",
              "      } catch (error) {\n",
              "        console.error('Error during call to suggestCharts:', error);\n",
              "      }\n",
              "      quickchartButtonEl.classList.remove('colab-df-spinner');\n",
              "      quickchartButtonEl.classList.add('colab-df-quickchart-complete');\n",
              "    }\n",
              "    (() => {\n",
              "      let quickchartButtonEl =\n",
              "        document.querySelector('#df-5a4ff06b-734a-4f9b-8499-15970c2f6bc9 button');\n",
              "      quickchartButtonEl.style.display =\n",
              "        google.colab.kernel.accessAllowed ? 'block' : 'none';\n",
              "    })();\n",
              "  </script>\n",
              "</div>\n",
              "    </div>\n",
              "  </div>\n"
            ]
          },
          "metadata": {},
          "execution_count": 20
        }
      ]
    },
    {
      "cell_type": "markdown",
      "source": [
        "Create and display a line chart for a selected neighborhood"
      ],
      "metadata": {
        "id": "bqS7o1vHI0YR"
      }
    },
    {
      "cell_type": "code",
      "source": [
        "# Create a line chart\n",
        "sel='Northeast Bronx'\n",
        "fig = px.line(df[df.Neighborhood==sel], x='Section', y=['Nuisance', 'Deep', 'High Tide'])\n",
        "fig.update_layout(title=sel + ' Stormwater Flood Map - Extreme Flood with 2080 Sea Level Rise')\n",
        "fig.update_layout(yaxis_title='Fraction')\n",
        "fig.update_layout(legend_title_text='Flooding Category')\n",
        "\n",
        "# Show the plot\n",
        "fig.show()\n"
      ],
      "metadata": {
        "colab": {
          "base_uri": "https://localhost:8080/",
          "height": 542
        },
        "id": "2WwLjRRW_r5F",
        "outputId": "193b058c-1fca-4063-d823-b1be5455e3bc"
      },
      "execution_count": 21,
      "outputs": [
        {
          "output_type": "display_data",
          "data": {
            "text/html": [
              "<html>\n",
              "<head><meta charset=\"utf-8\" /></head>\n",
              "<body>\n",
              "    <div>            <script src=\"https://cdnjs.cloudflare.com/ajax/libs/mathjax/2.7.5/MathJax.js?config=TeX-AMS-MML_SVG\"></script><script type=\"text/javascript\">if (window.MathJax && window.MathJax.Hub && window.MathJax.Hub.Config) {window.MathJax.Hub.Config({SVG: {font: \"STIX-Web\"}});}</script>                <script type=\"text/javascript\">window.PlotlyConfig = {MathJaxConfig: 'local'};</script>\n",
              "        <script charset=\"utf-8\" src=\"https://cdn.plot.ly/plotly-2.24.1.min.js\"></script>                <div id=\"afc6b00c-a172-40fe-a0fd-39452656898f\" class=\"plotly-graph-div\" style=\"height:525px; width:100%;\"></div>            <script type=\"text/javascript\">                                    window.PLOTLYENV=window.PLOTLYENV || {};                                    if (document.getElementById(\"afc6b00c-a172-40fe-a0fd-39452656898f\")) {                    Plotly.newPlot(                        \"afc6b00c-a172-40fe-a0fd-39452656898f\",                        [{\"hovertemplate\":\"variable=Nuisance\\u003cbr\\u003eSection=%{x}\\u003cbr\\u003evalue=%{y}\\u003cextra\\u003e\\u003c\\u002fextra\\u003e\",\"legendgroup\":\"Nuisance\",\"line\":{\"color\":\"#636efa\",\"dash\":\"solid\"},\"marker\":{\"symbol\":\"circle\"},\"mode\":\"lines\",\"name\":\"Nuisance\",\"orientation\":\"v\",\"showlegend\":true,\"x\":[\"1\",\"2\",\"3\",\"4\",\"6\",\"7\",\"8\",\"9\",\"10\",\"12\",\"13\",\"14\",\"15\",\"17\",\"18\",\"19\",\"20\",\"22\",\"23\",\"24\",\"25\"],\"xaxis\":\"x\",\"y\":[0.001355615669907487,0.018032141369620985,0.0268563854598972,0.0,0.0207087330667671,0.01615554198432856,0.07171783710610742,0.026045913821815064,0.03469500847051415,0.019131009700552547,0.059525206384824635,0.0794884446648972,0.05490197833805643,0.043747312883690145,0.03626307094103349,0.07635540295992212,0.08535597803735634,0.03154629852169915,0.034053995330467046,0.08519201665185801,0.013379505293145676],\"yaxis\":\"y\",\"type\":\"scatter\"},{\"hovertemplate\":\"variable=Deep\\u003cbr\\u003eSection=%{x}\\u003cbr\\u003evalue=%{y}\\u003cextra\\u003e\\u003c\\u002fextra\\u003e\",\"legendgroup\":\"Deep\",\"line\":{\"color\":\"#EF553B\",\"dash\":\"solid\"},\"marker\":{\"symbol\":\"circle\"},\"mode\":\"lines\",\"name\":\"Deep\",\"orientation\":\"v\",\"showlegend\":true,\"x\":[\"1\",\"2\",\"3\",\"4\",\"6\",\"7\",\"8\",\"9\",\"10\",\"12\",\"13\",\"14\",\"15\",\"17\",\"18\",\"19\",\"20\",\"22\",\"23\",\"24\",\"25\"],\"xaxis\":\"x\",\"y\":[0.0014791126143430472,0.016140439950411863,0.021063804991429694,0.0,0.02497247680453027,0.018925887315840967,0.08173302601569757,0.00641799508694222,0.035212962205846465,0.007542684833538319,0.013343655741191986,0.040099703992956454,0.04753041486455329,0.0752797553200018,0.04162431365239634,0.04211269570659693,0.05380659795787875,0.0025699779540461895,0.0362726993658272,0.09953333199645549,0.012872515331128017],\"yaxis\":\"y\",\"type\":\"scatter\"},{\"hovertemplate\":\"variable=High Tide\\u003cbr\\u003eSection=%{x}\\u003cbr\\u003evalue=%{y}\\u003cextra\\u003e\\u003c\\u002fextra\\u003e\",\"legendgroup\":\"High Tide\",\"line\":{\"color\":\"#00cc96\",\"dash\":\"solid\"},\"marker\":{\"symbol\":\"circle\"},\"mode\":\"lines\",\"name\":\"High Tide\",\"orientation\":\"v\",\"showlegend\":true,\"x\":[\"1\",\"2\",\"3\",\"4\",\"6\",\"7\",\"8\",\"9\",\"10\",\"12\",\"13\",\"14\",\"15\",\"17\",\"18\",\"19\",\"20\",\"22\",\"23\",\"24\",\"25\"],\"xaxis\":\"x\",\"y\":[0.0,0.0055957123378115705,0.0,0.0,0.0,0.0036644160775471837,0.0,0.0,0.08916465321930524,0.0,0.0,0.0,0.006313838538693209,0.0,0.0,0.0,8.221356450602536e-06,0.0,0.0,0.0,0.11007255035854116],\"yaxis\":\"y\",\"type\":\"scatter\"}],                        {\"template\":{\"data\":{\"histogram2dcontour\":[{\"type\":\"histogram2dcontour\",\"colorbar\":{\"outlinewidth\":0,\"ticks\":\"\"},\"colorscale\":[[0.0,\"#0d0887\"],[0.1111111111111111,\"#46039f\"],[0.2222222222222222,\"#7201a8\"],[0.3333333333333333,\"#9c179e\"],[0.4444444444444444,\"#bd3786\"],[0.5555555555555556,\"#d8576b\"],[0.6666666666666666,\"#ed7953\"],[0.7777777777777778,\"#fb9f3a\"],[0.8888888888888888,\"#fdca26\"],[1.0,\"#f0f921\"]]}],\"choropleth\":[{\"type\":\"choropleth\",\"colorbar\":{\"outlinewidth\":0,\"ticks\":\"\"}}],\"histogram2d\":[{\"type\":\"histogram2d\",\"colorbar\":{\"outlinewidth\":0,\"ticks\":\"\"},\"colorscale\":[[0.0,\"#0d0887\"],[0.1111111111111111,\"#46039f\"],[0.2222222222222222,\"#7201a8\"],[0.3333333333333333,\"#9c179e\"],[0.4444444444444444,\"#bd3786\"],[0.5555555555555556,\"#d8576b\"],[0.6666666666666666,\"#ed7953\"],[0.7777777777777778,\"#fb9f3a\"],[0.8888888888888888,\"#fdca26\"],[1.0,\"#f0f921\"]]}],\"heatmap\":[{\"type\":\"heatmap\",\"colorbar\":{\"outlinewidth\":0,\"ticks\":\"\"},\"colorscale\":[[0.0,\"#0d0887\"],[0.1111111111111111,\"#46039f\"],[0.2222222222222222,\"#7201a8\"],[0.3333333333333333,\"#9c179e\"],[0.4444444444444444,\"#bd3786\"],[0.5555555555555556,\"#d8576b\"],[0.6666666666666666,\"#ed7953\"],[0.7777777777777778,\"#fb9f3a\"],[0.8888888888888888,\"#fdca26\"],[1.0,\"#f0f921\"]]}],\"heatmapgl\":[{\"type\":\"heatmapgl\",\"colorbar\":{\"outlinewidth\":0,\"ticks\":\"\"},\"colorscale\":[[0.0,\"#0d0887\"],[0.1111111111111111,\"#46039f\"],[0.2222222222222222,\"#7201a8\"],[0.3333333333333333,\"#9c179e\"],[0.4444444444444444,\"#bd3786\"],[0.5555555555555556,\"#d8576b\"],[0.6666666666666666,\"#ed7953\"],[0.7777777777777778,\"#fb9f3a\"],[0.8888888888888888,\"#fdca26\"],[1.0,\"#f0f921\"]]}],\"contourcarpet\":[{\"type\":\"contourcarpet\",\"colorbar\":{\"outlinewidth\":0,\"ticks\":\"\"}}],\"contour\":[{\"type\":\"contour\",\"colorbar\":{\"outlinewidth\":0,\"ticks\":\"\"},\"colorscale\":[[0.0,\"#0d0887\"],[0.1111111111111111,\"#46039f\"],[0.2222222222222222,\"#7201a8\"],[0.3333333333333333,\"#9c179e\"],[0.4444444444444444,\"#bd3786\"],[0.5555555555555556,\"#d8576b\"],[0.6666666666666666,\"#ed7953\"],[0.7777777777777778,\"#fb9f3a\"],[0.8888888888888888,\"#fdca26\"],[1.0,\"#f0f921\"]]}],\"surface\":[{\"type\":\"surface\",\"colorbar\":{\"outlinewidth\":0,\"ticks\":\"\"},\"colorscale\":[[0.0,\"#0d0887\"],[0.1111111111111111,\"#46039f\"],[0.2222222222222222,\"#7201a8\"],[0.3333333333333333,\"#9c179e\"],[0.4444444444444444,\"#bd3786\"],[0.5555555555555556,\"#d8576b\"],[0.6666666666666666,\"#ed7953\"],[0.7777777777777778,\"#fb9f3a\"],[0.8888888888888888,\"#fdca26\"],[1.0,\"#f0f921\"]]}],\"mesh3d\":[{\"type\":\"mesh3d\",\"colorbar\":{\"outlinewidth\":0,\"ticks\":\"\"}}],\"scatter\":[{\"fillpattern\":{\"fillmode\":\"overlay\",\"size\":10,\"solidity\":0.2},\"type\":\"scatter\"}],\"parcoords\":[{\"type\":\"parcoords\",\"line\":{\"colorbar\":{\"outlinewidth\":0,\"ticks\":\"\"}}}],\"scatterpolargl\":[{\"type\":\"scatterpolargl\",\"marker\":{\"colorbar\":{\"outlinewidth\":0,\"ticks\":\"\"}}}],\"bar\":[{\"error_x\":{\"color\":\"#2a3f5f\"},\"error_y\":{\"color\":\"#2a3f5f\"},\"marker\":{\"line\":{\"color\":\"#E5ECF6\",\"width\":0.5},\"pattern\":{\"fillmode\":\"overlay\",\"size\":10,\"solidity\":0.2}},\"type\":\"bar\"}],\"scattergeo\":[{\"type\":\"scattergeo\",\"marker\":{\"colorbar\":{\"outlinewidth\":0,\"ticks\":\"\"}}}],\"scatterpolar\":[{\"type\":\"scatterpolar\",\"marker\":{\"colorbar\":{\"outlinewidth\":0,\"ticks\":\"\"}}}],\"histogram\":[{\"marker\":{\"pattern\":{\"fillmode\":\"overlay\",\"size\":10,\"solidity\":0.2}},\"type\":\"histogram\"}],\"scattergl\":[{\"type\":\"scattergl\",\"marker\":{\"colorbar\":{\"outlinewidth\":0,\"ticks\":\"\"}}}],\"scatter3d\":[{\"type\":\"scatter3d\",\"line\":{\"colorbar\":{\"outlinewidth\":0,\"ticks\":\"\"}},\"marker\":{\"colorbar\":{\"outlinewidth\":0,\"ticks\":\"\"}}}],\"scattermapbox\":[{\"type\":\"scattermapbox\",\"marker\":{\"colorbar\":{\"outlinewidth\":0,\"ticks\":\"\"}}}],\"scatterternary\":[{\"type\":\"scatterternary\",\"marker\":{\"colorbar\":{\"outlinewidth\":0,\"ticks\":\"\"}}}],\"scattercarpet\":[{\"type\":\"scattercarpet\",\"marker\":{\"colorbar\":{\"outlinewidth\":0,\"ticks\":\"\"}}}],\"carpet\":[{\"aaxis\":{\"endlinecolor\":\"#2a3f5f\",\"gridcolor\":\"white\",\"linecolor\":\"white\",\"minorgridcolor\":\"white\",\"startlinecolor\":\"#2a3f5f\"},\"baxis\":{\"endlinecolor\":\"#2a3f5f\",\"gridcolor\":\"white\",\"linecolor\":\"white\",\"minorgridcolor\":\"white\",\"startlinecolor\":\"#2a3f5f\"},\"type\":\"carpet\"}],\"table\":[{\"cells\":{\"fill\":{\"color\":\"#EBF0F8\"},\"line\":{\"color\":\"white\"}},\"header\":{\"fill\":{\"color\":\"#C8D4E3\"},\"line\":{\"color\":\"white\"}},\"type\":\"table\"}],\"barpolar\":[{\"marker\":{\"line\":{\"color\":\"#E5ECF6\",\"width\":0.5},\"pattern\":{\"fillmode\":\"overlay\",\"size\":10,\"solidity\":0.2}},\"type\":\"barpolar\"}],\"pie\":[{\"automargin\":true,\"type\":\"pie\"}]},\"layout\":{\"autotypenumbers\":\"strict\",\"colorway\":[\"#636efa\",\"#EF553B\",\"#00cc96\",\"#ab63fa\",\"#FFA15A\",\"#19d3f3\",\"#FF6692\",\"#B6E880\",\"#FF97FF\",\"#FECB52\"],\"font\":{\"color\":\"#2a3f5f\"},\"hovermode\":\"closest\",\"hoverlabel\":{\"align\":\"left\"},\"paper_bgcolor\":\"white\",\"plot_bgcolor\":\"#E5ECF6\",\"polar\":{\"bgcolor\":\"#E5ECF6\",\"angularaxis\":{\"gridcolor\":\"white\",\"linecolor\":\"white\",\"ticks\":\"\"},\"radialaxis\":{\"gridcolor\":\"white\",\"linecolor\":\"white\",\"ticks\":\"\"}},\"ternary\":{\"bgcolor\":\"#E5ECF6\",\"aaxis\":{\"gridcolor\":\"white\",\"linecolor\":\"white\",\"ticks\":\"\"},\"baxis\":{\"gridcolor\":\"white\",\"linecolor\":\"white\",\"ticks\":\"\"},\"caxis\":{\"gridcolor\":\"white\",\"linecolor\":\"white\",\"ticks\":\"\"}},\"coloraxis\":{\"colorbar\":{\"outlinewidth\":0,\"ticks\":\"\"}},\"colorscale\":{\"sequential\":[[0.0,\"#0d0887\"],[0.1111111111111111,\"#46039f\"],[0.2222222222222222,\"#7201a8\"],[0.3333333333333333,\"#9c179e\"],[0.4444444444444444,\"#bd3786\"],[0.5555555555555556,\"#d8576b\"],[0.6666666666666666,\"#ed7953\"],[0.7777777777777778,\"#fb9f3a\"],[0.8888888888888888,\"#fdca26\"],[1.0,\"#f0f921\"]],\"sequentialminus\":[[0.0,\"#0d0887\"],[0.1111111111111111,\"#46039f\"],[0.2222222222222222,\"#7201a8\"],[0.3333333333333333,\"#9c179e\"],[0.4444444444444444,\"#bd3786\"],[0.5555555555555556,\"#d8576b\"],[0.6666666666666666,\"#ed7953\"],[0.7777777777777778,\"#fb9f3a\"],[0.8888888888888888,\"#fdca26\"],[1.0,\"#f0f921\"]],\"diverging\":[[0,\"#8e0152\"],[0.1,\"#c51b7d\"],[0.2,\"#de77ae\"],[0.3,\"#f1b6da\"],[0.4,\"#fde0ef\"],[0.5,\"#f7f7f7\"],[0.6,\"#e6f5d0\"],[0.7,\"#b8e186\"],[0.8,\"#7fbc41\"],[0.9,\"#4d9221\"],[1,\"#276419\"]]},\"xaxis\":{\"gridcolor\":\"white\",\"linecolor\":\"white\",\"ticks\":\"\",\"title\":{\"standoff\":15},\"zerolinecolor\":\"white\",\"automargin\":true,\"zerolinewidth\":2},\"yaxis\":{\"gridcolor\":\"white\",\"linecolor\":\"white\",\"ticks\":\"\",\"title\":{\"standoff\":15},\"zerolinecolor\":\"white\",\"automargin\":true,\"zerolinewidth\":2},\"scene\":{\"xaxis\":{\"backgroundcolor\":\"#E5ECF6\",\"gridcolor\":\"white\",\"linecolor\":\"white\",\"showbackground\":true,\"ticks\":\"\",\"zerolinecolor\":\"white\",\"gridwidth\":2},\"yaxis\":{\"backgroundcolor\":\"#E5ECF6\",\"gridcolor\":\"white\",\"linecolor\":\"white\",\"showbackground\":true,\"ticks\":\"\",\"zerolinecolor\":\"white\",\"gridwidth\":2},\"zaxis\":{\"backgroundcolor\":\"#E5ECF6\",\"gridcolor\":\"white\",\"linecolor\":\"white\",\"showbackground\":true,\"ticks\":\"\",\"zerolinecolor\":\"white\",\"gridwidth\":2}},\"shapedefaults\":{\"line\":{\"color\":\"#2a3f5f\"}},\"annotationdefaults\":{\"arrowcolor\":\"#2a3f5f\",\"arrowhead\":0,\"arrowwidth\":1},\"geo\":{\"bgcolor\":\"white\",\"landcolor\":\"#E5ECF6\",\"subunitcolor\":\"white\",\"showland\":true,\"showlakes\":true,\"lakecolor\":\"white\"},\"title\":{\"x\":0.05},\"mapbox\":{\"style\":\"light\"}}},\"xaxis\":{\"anchor\":\"y\",\"domain\":[0.0,1.0],\"title\":{\"text\":\"Section\"}},\"yaxis\":{\"anchor\":\"x\",\"domain\":[0.0,1.0],\"title\":{\"text\":\"Fraction\"}},\"legend\":{\"title\":{\"text\":\"Flooding Category\"},\"tracegroupgap\":0},\"margin\":{\"t\":60},\"title\":{\"text\":\"Northeast Bronx Stormwater Flood Map - Extreme Flood with 2080 Sea Level Rise\"}},                        {\"responsive\": true}                    ).then(function(){\n",
              "                            \n",
              "var gd = document.getElementById('afc6b00c-a172-40fe-a0fd-39452656898f');\n",
              "var x = new MutationObserver(function (mutations, observer) {{\n",
              "        var display = window.getComputedStyle(gd).display;\n",
              "        if (!display || display === 'none') {{\n",
              "            console.log([gd, 'removed!']);\n",
              "            Plotly.purge(gd);\n",
              "            observer.disconnect();\n",
              "        }}\n",
              "}});\n",
              "\n",
              "// Listen for the removal of the full notebook cells\n",
              "var notebookContainer = gd.closest('#notebook-container');\n",
              "if (notebookContainer) {{\n",
              "    x.observe(notebookContainer, {childList: true});\n",
              "}}\n",
              "\n",
              "// Listen for the clearing of the current output cell\n",
              "var outputEl = gd.closest('.output');\n",
              "if (outputEl) {{\n",
              "    x.observe(outputEl, {childList: true});\n",
              "}}\n",
              "\n",
              "                        })                };                            </script>        </div>\n",
              "</body>\n",
              "</html>"
            ]
          },
          "metadata": {}
        }
      ]
    }
  ]
}