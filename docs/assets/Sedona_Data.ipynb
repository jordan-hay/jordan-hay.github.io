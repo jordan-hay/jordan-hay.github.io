{
  "nbformat": 4,
  "nbformat_minor": 0,
  "metadata": {
    "colab": {
      "provenance": []
    },
    "kernelspec": {
      "name": "python3",
      "display_name": "Python 3"
    },
    "language_info": {
      "name": "python"
    }
  },
  "cells": [
    {
      "cell_type": "code",
      "source": [
        "!pip install faker"
      ],
      "metadata": {
        "colab": {
          "base_uri": "https://localhost:8080/"
        },
        "id": "5JFGregvwdap",
        "outputId": "47424464-050c-491f-ba06-23a895ccc2f4"
      },
      "execution_count": 1,
      "outputs": [
        {
          "output_type": "stream",
          "name": "stdout",
          "text": [
            "Collecting faker\n",
            "  Downloading Faker-33.1.0-py3-none-any.whl.metadata (15 kB)\n",
            "Requirement already satisfied: python-dateutil>=2.4 in /usr/local/lib/python3.10/dist-packages (from faker) (2.8.2)\n",
            "Requirement already satisfied: typing-extensions in /usr/local/lib/python3.10/dist-packages (from faker) (4.12.2)\n",
            "Requirement already satisfied: six>=1.5 in /usr/local/lib/python3.10/dist-packages (from python-dateutil>=2.4->faker) (1.17.0)\n",
            "Downloading Faker-33.1.0-py3-none-any.whl (1.9 MB)\n",
            "\u001b[2K   \u001b[90m━━━━━━━━━━━━━━━━━━━━━━━━━━━━━━━━━━━━━━━━\u001b[0m \u001b[32m1.9/1.9 MB\u001b[0m \u001b[31m18.4 MB/s\u001b[0m eta \u001b[36m0:00:00\u001b[0m\n",
            "\u001b[?25hInstalling collected packages: faker\n",
            "Successfully installed faker-33.1.0\n"
          ]
        }
      ]
    },
    {
      "cell_type": "code",
      "source": [
        "import random\n",
        "from datetime import datetime, timedelta\n",
        "from faker import Faker\n",
        "import json\n",
        "import gzip\n",
        "\n",
        "# Initialize Faker for generating fake text\n",
        "fake = Faker()\n",
        "\n",
        "# Define the bounding box (Envelope)\n",
        "lat_min, lat_max = 20.01, 60.01\n",
        "lon_min, lon_max = -100.01, -70.01\n",
        "\n",
        "# Corrected time window\n",
        "time_start = datetime.strptime('2024-06-24T09:10:00', '%Y-%m-%dT%H:%M:%S')\n",
        "time_end = datetime.strptime('2024-10-28T09:04:00', '%Y-%m-%dT%H:%M:%S')\n",
        "\n",
        "# Function to generate random coordinates within the bounding box (Envelope)\n",
        "def generate_coordinates():\n",
        "    lat = random.uniform(lat_min, lat_max)\n",
        "    lon = random.uniform(lon_min, lon_max)\n",
        "    return {\"coordinates\": [lon, lat], \"type\": \"Point\"}\n",
        "\n",
        "# Function to generate random timestamps within the time range\n",
        "def generate_timestamp():\n",
        "    delta = time_end - time_start\n",
        "    random_seconds = random.randint(0, int(delta.total_seconds()))\n",
        "    return time_start + timedelta(seconds=random_seconds)\n",
        "\n",
        "# Function to generate fake tweet data\n",
        "def generate_fake_tweet():\n",
        "    return {\n",
        "        \"created_at\": generate_timestamp().strftime('%a %b %d %H:%M:%S +0000 %Y'),\n",
        "        \"id\": random.randint(1000000000000000000, 9999999999999999999),\n",
        "        \"id_str\": str(random.randint(1000000000000000000, 9999999999999999999)),\n",
        "        \"text\": fake.text(max_nb_chars=140),\n",
        "        \"display_text_range\": [0, 140],\n",
        "        \"coordinates\": generate_coordinates()\n",
        "    }\n",
        "\n",
        "# Generate fake tweet data (100 tweets)\n",
        "tweets = [generate_fake_tweet() for _ in range(1000)]\n",
        "\n",
        "# Save the tweets to a .txt.gz file\n",
        "with gzip.open('/content/tweets.txt.gz', 'wt', encoding='utf-8') as f:\n",
        "    for tweet in tweets:\n",
        "        f.write(json.dumps(tweet) + \"\\n\")\n",
        "\n",
        "\n"
      ],
      "metadata": {
        "id": "bYbCTJAq2zyF"
      },
      "execution_count": 2,
      "outputs": []
    },
    {
      "cell_type": "code",
      "execution_count": 3,
      "metadata": {
        "id": "wDzUoRV9Y5kC",
        "colab": {
          "base_uri": "https://localhost:8080/"
        },
        "outputId": "fc7f9836-a0b4-449f-f5c0-1b2a939e64d0"
      },
      "outputs": [
        {
          "output_type": "stream",
          "name": "stdout",
          "text": [
            "Collecting findspark\n",
            "  Downloading findspark-2.0.1-py2.py3-none-any.whl.metadata (352 bytes)\n",
            "Downloading findspark-2.0.1-py2.py3-none-any.whl (4.4 kB)\n",
            "Installing collected packages: findspark\n",
            "Successfully installed findspark-2.0.1\n",
            "Collecting apache-sedona[spark]\n",
            "  Downloading apache_sedona-1.7.0-cp310-cp310-manylinux_2_17_x86_64.manylinux2014_x86_64.whl.metadata (2.0 kB)\n",
            "Requirement already satisfied: attrs in /usr/local/lib/python3.10/dist-packages (from apache-sedona[spark]) (24.3.0)\n",
            "Requirement already satisfied: shapely>=1.7.0 in /usr/local/lib/python3.10/dist-packages (from apache-sedona[spark]) (2.0.6)\n",
            "Requirement already satisfied: pyspark>=2.3.0 in ./spark-3.5.3-bin-hadoop3/python (from apache-sedona[spark]) (3.5.3)\n",
            "Requirement already satisfied: py4j==0.10.9.7 in /usr/local/lib/python3.10/dist-packages (from pyspark>=2.3.0->apache-sedona[spark]) (0.10.9.7)\n",
            "Requirement already satisfied: numpy<3,>=1.14 in /usr/local/lib/python3.10/dist-packages (from shapely>=1.7.0->apache-sedona[spark]) (1.26.4)\n",
            "Downloading apache_sedona-1.7.0-cp310-cp310-manylinux_2_17_x86_64.manylinux2014_x86_64.whl (190 kB)\n",
            "\u001b[2K   \u001b[90m━━━━━━━━━━━━━━━━━━━━━━━━━━━━━━━━━━━━━━━━\u001b[0m \u001b[32m190.0/190.0 kB\u001b[0m \u001b[31m3.6 MB/s\u001b[0m eta \u001b[36m0:00:00\u001b[0m\n",
            "\u001b[?25hInstalling collected packages: apache-sedona\n",
            "Successfully installed apache-sedona-1.7.0\n"
          ]
        }
      ],
      "source": [
        "!apt-get install openjdk-8-jdk-headless -qq > /dev/null\n",
        "!wget -q https://dlcdn.apache.org/spark/spark-3.5.3/spark-3.5.3-bin-hadoop3.tgz\n",
        "!tar xf spark-3.5.3-bin-hadoop3.tgz\n",
        "import os\n",
        "os.environ[\"JAVA_HOME\"] = \"/usr/lib/jvm/java-8-openjdk-amd64\"\n",
        "os.environ[\"SPARK_HOME\"] = \"/content/spark-3.5.3-bin-hadoop3\"\n",
        "os.environ[\"PYTHONPATH\"] = \"/content/spark-3.5.3-bin-hadoop3/python\"\n",
        "!pip install findspark\n",
        "import findspark\n",
        "findspark.init()\n",
        "!pip install apache-sedona[spark]\n",
        "\n",
        "from sedona.spark import *\n",
        "config = SedonaContext.builder(). \\\n",
        "    config('spark.jars.packages',\n",
        "           'org.apache.sedona:sedona-spark-3.0_2.12:1.6.1,'\n",
        "           'org.datasyslab:geotools-wrapper:1.6.1-28.2'). \\\n",
        "    config('spark.jars.repositories', 'https://artifacts.unidata.ucar.edu/repository/unidata-all'). \\\n",
        "    getOrCreate()\n",
        "sedona = SedonaContext.create(config)"
      ]
    },
    {
      "cell_type": "code",
      "source": [
        "!gunzip -c \"/content/tweets.txt.gz\" | head -n 5"
      ],
      "metadata": {
        "id": "a-HLwOQ_Zahz",
        "colab": {
          "base_uri": "https://localhost:8080/"
        },
        "outputId": "3b761e74-595b-4c1a-fe8a-30cce5f9e8ee"
      },
      "execution_count": 4,
      "outputs": [
        {
          "output_type": "stream",
          "name": "stdout",
          "text": [
            "{\"created_at\": \"Sat Oct 12 00:01:19 +0000 2024\", \"id\": 8718763390561637260, \"id_str\": \"8411290423276739245\", \"text\": \"Budget answer officer offer your. In per culture believe.\", \"display_text_range\": [0, 140], \"coordinates\": {\"coordinates\": [-98.47952146291117, 46.26051200517337], \"type\": \"Point\"}}\n",
            "{\"created_at\": \"Tue Jul 30 11:36:27 +0000 2024\", \"id\": 3940409734848117741, \"id_str\": \"6057903065815082049\", \"text\": \"Sound million base customer up program.\\nLittle without hundred crime onto sell structure.\", \"display_text_range\": [0, 140], \"coordinates\": {\"coordinates\": [-83.97115765804325, 34.82872707099886], \"type\": \"Point\"}}\n",
            "{\"created_at\": \"Fri Oct 25 12:35:07 +0000 2024\", \"id\": 4173105947408061245, \"id_str\": \"1392672417900636898\", \"text\": \"Five thought institution difficult. I staff husband lot production executive within.\", \"display_text_range\": [0, 140], \"coordinates\": {\"coordinates\": [-86.3208111646129, 20.448958634975163], \"type\": \"Point\"}}\n",
            "{\"created_at\": \"Wed Sep 11 14:44:40 +0000 2024\", \"id\": 3211146502002326465, \"id_str\": \"7573386808769317837\", \"text\": \"Game behind range hospital large our. Break possible walk.\\nExample small possible five why push trade.\", \"display_text_range\": [0, 140], \"coordinates\": {\"coordinates\": [-97.70903257132711, 39.83278656870034], \"type\": \"Point\"}}\n",
            "{\"created_at\": \"Mon Jul 29 06:14:55 +0000 2024\", \"id\": 5394156259522975603, \"id_str\": \"8278579319866714861\", \"text\": \"Want doctor until. Fall fish medical member line mind.\\nLose agree painting. Social suffer few wall as other next statement.\", \"display_text_range\": [0, 140], \"coordinates\": {\"coordinates\": [-91.07016218118376, 44.45065873135974], \"type\": \"Point\"}}\n"
          ]
        }
      ]
    },
    {
      "cell_type": "code",
      "source": [
        "from sedona.spark import *"
      ],
      "metadata": {
        "id": "y3h5DIN3FC3A"
      },
      "execution_count": 5,
      "outputs": []
    },
    {
      "cell_type": "code",
      "source": [
        "test_df = sedona.read\\\n",
        "    .option(\"delimiter\", \"\\t\")\\\n",
        "    .option(\"header\", \"true\")\\\n",
        "    .option(\"compression\", \"gzip\")\\\n",
        "    .json(\"/content/tweets.txt.gz\")"
      ],
      "metadata": {
        "id": "Eg0ZpwEGFti8"
      },
      "execution_count": 6,
      "outputs": []
    },
    {
      "cell_type": "code",
      "source": [
        "test_df.show(5, truncate=False)"
      ],
      "metadata": {
        "id": "XYEf7Jy9FwsH",
        "colab": {
          "base_uri": "https://localhost:8080/"
        },
        "outputId": "bfc4a526-a9a5-4e71-fea6-eb98123bce5b"
      },
      "execution_count": 7,
      "outputs": [
        {
          "output_type": "stream",
          "name": "stdout",
          "text": [
            "+------------------------------------------------+------------------------------+------------------+-------------------+-------------------+----------------------------------------------------------------------------------------------------------------------------+\n",
            "|coordinates                                     |created_at                    |display_text_range|id                 |id_str             |text                                                                                                                        |\n",
            "+------------------------------------------------+------------------------------+------------------+-------------------+-------------------+----------------------------------------------------------------------------------------------------------------------------+\n",
            "|{[-98.47952146291117, 46.26051200517337], Point}|Sat Oct 12 00:01:19 +0000 2024|[0, 140]          |8718763390561637260|8411290423276739245|Budget answer officer offer your. In per culture believe.                                                                   |\n",
            "|{[-83.97115765804325, 34.82872707099886], Point}|Tue Jul 30 11:36:27 +0000 2024|[0, 140]          |3940409734848117741|6057903065815082049|Sound million base customer up program.\\nLittle without hundred crime onto sell structure.                                  |\n",
            "|{[-86.3208111646129, 20.448958634975163], Point}|Fri Oct 25 12:35:07 +0000 2024|[0, 140]          |4173105947408061245|1392672417900636898|Five thought institution difficult. I staff husband lot production executive within.                                        |\n",
            "|{[-97.70903257132711, 39.83278656870034], Point}|Wed Sep 11 14:44:40 +0000 2024|[0, 140]          |3211146502002326465|7573386808769317837|Game behind range hospital large our. Break possible walk.\\nExample small possible five why push trade.                     |\n",
            "|{[-91.07016218118376, 44.45065873135974], Point}|Mon Jul 29 06:14:55 +0000 2024|[0, 140]          |5394156259522975603|8278579319866714861|Want doctor until. Fall fish medical member line mind.\\nLose agree painting. Social suffer few wall as other next statement.|\n",
            "+------------------------------------------------+------------------------------+------------------+-------------------+-------------------+----------------------------------------------------------------------------------------------------------------------------+\n",
            "only showing top 5 rows\n",
            "\n"
          ]
        }
      ]
    },
    {
      "cell_type": "code",
      "source": [
        "test_df.count()"
      ],
      "metadata": {
        "id": "6ZZ1JM_0GNvo",
        "colab": {
          "base_uri": "https://localhost:8080/"
        },
        "outputId": "60b1a418-21e3-44fa-dce8-35bcd3b352f8"
      },
      "execution_count": 8,
      "outputs": [
        {
          "output_type": "execute_result",
          "data": {
            "text/plain": [
              "1000"
            ]
          },
          "metadata": {},
          "execution_count": 8
        }
      ]
    },
    {
      "cell_type": "code",
      "source": [
        "test_df.printSchema()"
      ],
      "metadata": {
        "id": "XWv6ldH95paH",
        "colab": {
          "base_uri": "https://localhost:8080/"
        },
        "outputId": "a033d770-7702-4389-df0f-4bf87960f735"
      },
      "execution_count": 9,
      "outputs": [
        {
          "output_type": "stream",
          "name": "stdout",
          "text": [
            "root\n",
            " |-- coordinates: struct (nullable = true)\n",
            " |    |-- coordinates: array (nullable = true)\n",
            " |    |    |-- element: double (containsNull = true)\n",
            " |    |-- type: string (nullable = true)\n",
            " |-- created_at: string (nullable = true)\n",
            " |-- display_text_range: array (nullable = true)\n",
            " |    |-- element: long (containsNull = true)\n",
            " |-- id: decimal(20,0) (nullable = true)\n",
            " |-- id_str: string (nullable = true)\n",
            " |-- text: string (nullable = true)\n",
            "\n"
          ]
        }
      ]
    },
    {
      "cell_type": "code",
      "source": [
        "from pyspark.sql.functions import col, to_timestamp, lit, concat"
      ],
      "metadata": {
        "id": "KjaGbFTQGGJU"
      },
      "execution_count": 10,
      "outputs": []
    },
    {
      "cell_type": "code",
      "source": [
        "test_df.select(\n",
        "    col(\"created_at\"),\n",
        "    col(\"coordinates.coordinates\").getItem(0).alias(\"longitude\"),\n",
        "    col(\"coordinates.coordinates\").getItem(1).alias(\"latitude\")\n",
        ").where(col(\"coordinates\").isNotNull()).show(5)"
      ],
      "metadata": {
        "id": "FrGEZyP-5pW7",
        "colab": {
          "base_uri": "https://localhost:8080/"
        },
        "outputId": "7340b989-dda9-4bcf-c1a6-087eea118b4b"
      },
      "execution_count": 11,
      "outputs": [
        {
          "output_type": "stream",
          "name": "stdout",
          "text": [
            "+--------------------+------------------+------------------+\n",
            "|          created_at|         longitude|          latitude|\n",
            "+--------------------+------------------+------------------+\n",
            "|Sat Oct 12 00:01:...|-98.47952146291117| 46.26051200517337|\n",
            "|Tue Jul 30 11:36:...|-83.97115765804325| 34.82872707099886|\n",
            "|Fri Oct 25 12:35:...| -86.3208111646129|20.448958634975163|\n",
            "|Wed Sep 11 14:44:...|-97.70903257132711| 39.83278656870034|\n",
            "|Mon Jul 29 06:14:...|-91.07016218118376| 44.45065873135974|\n",
            "+--------------------+------------------+------------------+\n",
            "only showing top 5 rows\n",
            "\n"
          ]
        }
      ]
    },
    {
      "cell_type": "code",
      "source": [
        "from pyspark.sql import SparkSession\n",
        "spark = SparkSession.builder \\\n",
        "    .config(\"spark.sql.legacy.timeParserPolicy\", \"LEGACY\") \\\n",
        "    .getOrCreate()"
      ],
      "metadata": {
        "id": "_Il8JhkgGdE-"
      },
      "execution_count": 12,
      "outputs": []
    },
    {
      "cell_type": "code",
      "source": [
        "parsed_df = test_df.withColumn(\"created_at\",to_timestamp(col(\"created_at\"), \"EEE MMM dd HH:mm:ss Z yyyy\"))\n",
        "parsed_df.show(5)"
      ],
      "metadata": {
        "id": "7SHVu9hZafff",
        "colab": {
          "base_uri": "https://localhost:8080/"
        },
        "outputId": "601872d2-48df-4c2b-df5e-4d01f4e1c763"
      },
      "execution_count": 13,
      "outputs": [
        {
          "output_type": "stream",
          "name": "stdout",
          "text": [
            "+--------------------+-------------------+------------------+-------------------+-------------------+--------------------+\n",
            "|         coordinates|         created_at|display_text_range|                 id|             id_str|                text|\n",
            "+--------------------+-------------------+------------------+-------------------+-------------------+--------------------+\n",
            "|{[-98.47952146291...|2024-10-12 00:01:19|          [0, 140]|8718763390561637260|8411290423276739245|Budget answer off...|\n",
            "|{[-83.97115765804...|2024-07-30 11:36:27|          [0, 140]|3940409734848117741|6057903065815082049|Sound million bas...|\n",
            "|{[-86.32081116461...|2024-10-25 12:35:07|          [0, 140]|4173105947408061245|1392672417900636898|Five thought inst...|\n",
            "|{[-97.70903257132...|2024-09-11 14:44:40|          [0, 140]|3211146502002326465|7573386808769317837|Game behind range...|\n",
            "|{[-91.07016218118...|2024-07-29 06:14:55|          [0, 140]|5394156259522975603|8278579319866714861|Want doctor until...|\n",
            "+--------------------+-------------------+------------------+-------------------+-------------------+--------------------+\n",
            "only showing top 5 rows\n",
            "\n"
          ]
        }
      ]
    },
    {
      "cell_type": "code",
      "source": [
        "result_df = parsed_df.select(\n",
        "\n",
        "    col(\"coordinates.coordinates\").getItem(0).alias(\"longitude\"),\n",
        "    col(\"coordinates.coordinates\").getItem(1).alias(\"latitude\"),\n",
        "     col(\"created_at\")\n",
        ").where(col(\"coordinates\").isNotNull())\n",
        "result_df.show(3)\n"
      ],
      "metadata": {
        "id": "j9isUZ0r5pUX",
        "colab": {
          "base_uri": "https://localhost:8080/"
        },
        "outputId": "638c959e-b613-4fc9-dc6e-6c068d96d340"
      },
      "execution_count": 14,
      "outputs": [
        {
          "output_type": "stream",
          "name": "stdout",
          "text": [
            "+------------------+------------------+-------------------+\n",
            "|         longitude|          latitude|         created_at|\n",
            "+------------------+------------------+-------------------+\n",
            "|-98.47952146291117| 46.26051200517337|2024-10-12 00:01:19|\n",
            "|-83.97115765804325| 34.82872707099886|2024-07-30 11:36:27|\n",
            "| -86.3208111646129|20.448958634975163|2024-10-25 12:35:07|\n",
            "+------------------+------------------+-------------------+\n",
            "only showing top 3 rows\n",
            "\n"
          ]
        }
      ]
    },
    {
      "cell_type": "code",
      "source": [
        "test_df.sparkSession.conf.set(\"spark.sql.legacy.timeParserPolicy\", \"LEGACY\")"
      ],
      "metadata": {
        "id": "0lRplnjQc_UU"
      },
      "execution_count": 15,
      "outputs": []
    },
    {
      "cell_type": "code",
      "source": [
        "import shutil\n",
        "# Delete the output1 directory if it exists\n",
        "if os.path.exists(\"output1\"):\n",
        "    shutil.rmtree(\"output1\")\n",
        "    print(\"Directory 'output1' deleted successfully.\")\n",
        "else:\n",
        "    print(\"Directory 'output1' does not exist.\")\n",
        "\n"
      ],
      "metadata": {
        "id": "5QeWLgWWd7kP",
        "colab": {
          "base_uri": "https://localhost:8080/"
        },
        "outputId": "37ea4543-2d0b-4932-9693-115f2e768ac5"
      },
      "execution_count": 16,
      "outputs": [
        {
          "output_type": "stream",
          "name": "stdout",
          "text": [
            "Directory 'output1' does not exist.\n"
          ]
        }
      ]
    },
    {
      "cell_type": "code",
      "source": [
        "from sedona.core.SpatialRDD import PointRDD\n",
        "from sedona.core.enums import FileDataSplitter\n",
        "result_df.write.csv(\"output1\", header=False)\n",
        "data = PointRDD(sedona.sparkContext, 'output1', 0, FileDataSplitter.CSV, True)\n",
        "all_records = data.rawSpatialRDD.collect()\n",
        "all_records[0:5]"
      ],
      "metadata": {
        "id": "vvtKahcjGzNV",
        "colab": {
          "base_uri": "https://localhost:8080/"
        },
        "outputId": "6e9e59d7-493e-419a-e87d-d31b38c2d293"
      },
      "execution_count": 17,
      "outputs": [
        {
          "output_type": "execute_result",
          "data": {
            "text/plain": [
              "[Geometry: Point userData: 2024-10-12T00:01:19.000Z,\n",
              " Geometry: Point userData: 2024-07-30T11:36:27.000Z,\n",
              " Geometry: Point userData: 2024-10-25T12:35:07.000Z,\n",
              " Geometry: Point userData: 2024-09-11T14:44:40.000Z,\n",
              " Geometry: Point userData: 2024-07-29T06:14:55.000Z]"
            ]
          },
          "metadata": {},
          "execution_count": 17
        }
      ]
    },
    {
      "cell_type": "code",
      "source": [
        "type(data)"
      ],
      "metadata": {
        "colab": {
          "base_uri": "https://localhost:8080/",
          "height": 122
        },
        "id": "Bs1h_4BGfL3D",
        "outputId": "88d65e65-cd65-4921-c5b8-52509a768980"
      },
      "execution_count": 18,
      "outputs": [
        {
          "output_type": "execute_result",
          "data": {
            "text/plain": [
              "sedona.core.SpatialRDD.point_rdd.PointRDD"
            ],
            "text/html": [
              "<div style=\"max-width:800px; border: 1px solid var(--colab-border-color);\"><style>\n",
              "      pre.function-repr-contents {\n",
              "        overflow-x: auto;\n",
              "        padding: 8px 12px;\n",
              "        max-height: 500px;\n",
              "      }\n",
              "\n",
              "      pre.function-repr-contents.function-repr-contents-collapsed {\n",
              "        cursor: pointer;\n",
              "        max-height: 100px;\n",
              "      }\n",
              "    </style>\n",
              "    <pre style=\"white-space: initial; background:\n",
              "         var(--colab-secondary-surface-color); padding: 8px 12px;\n",
              "         border-bottom: 1px solid var(--colab-border-color);\"><b>sedona.core.SpatialRDD.point_rdd.PointRDD</b><br/>def __call__(*args, **kwargs)</pre><pre class=\"function-repr-contents function-repr-contents-collapsed\" style=\"\"><a class=\"filepath\" style=\"display:none\" href=\"#\">/usr/local/lib/python3.10/dist-packages/sedona/core/SpatialRDD/point_rdd.py</a>&lt;no docstring&gt;</pre>\n",
              "      <script>\n",
              "      if (google.colab.kernel.accessAllowed && google.colab.files && google.colab.files.view) {\n",
              "        for (const element of document.querySelectorAll('.filepath')) {\n",
              "          element.style.display = 'block'\n",
              "          element.onclick = (event) => {\n",
              "            event.preventDefault();\n",
              "            event.stopPropagation();\n",
              "            google.colab.files.view(element.textContent, 27);\n",
              "          };\n",
              "        }\n",
              "      }\n",
              "      for (const element of document.querySelectorAll('.function-repr-contents')) {\n",
              "        element.onclick = (event) => {\n",
              "          event.preventDefault();\n",
              "          event.stopPropagation();\n",
              "          element.classList.toggle('function-repr-contents-collapsed');\n",
              "        };\n",
              "      }\n",
              "      </script>\n",
              "      </div>"
            ]
          },
          "metadata": {},
          "execution_count": 18
        }
      ]
    },
    {
      "cell_type": "code",
      "source": [
        "type(all_records)"
      ],
      "metadata": {
        "id": "bVWSvi9L0c5O",
        "colab": {
          "base_uri": "https://localhost:8080/"
        },
        "outputId": "567e6cd7-e98f-4d63-aa60-e3c039d9f19d"
      },
      "execution_count": 19,
      "outputs": [
        {
          "output_type": "execute_result",
          "data": {
            "text/plain": [
              "list"
            ]
          },
          "metadata": {},
          "execution_count": 19
        }
      ]
    },
    {
      "cell_type": "code",
      "source": [
        "all_records[0].userData"
      ],
      "metadata": {
        "id": "OvtrpxSEdd_W",
        "colab": {
          "base_uri": "https://localhost:8080/",
          "height": 39
        },
        "outputId": "0b6b35a6-c819-4d96-b43e-d2f09b78bd3d"
      },
      "execution_count": 20,
      "outputs": [
        {
          "output_type": "execute_result",
          "data": {
            "text/plain": [
              "'2024-10-12T00:01:19.000Z'"
            ],
            "application/vnd.google.colaboratory.intrinsic+json": {
              "type": "string"
            }
          },
          "metadata": {},
          "execution_count": 20
        }
      ]
    },
    {
      "cell_type": "code",
      "source": [
        "#https://sedona.apache.org/1.0.0-1.2.0-incubating/tutorial/core-python/\n",
        "from sedona.core.geom.envelope import Envelope\n",
        "from sedona.core.spatialOperator import RangeQuery"
      ],
      "metadata": {
        "id": "LNd9R_XN-xsS"
      },
      "execution_count": 21,
      "outputs": []
    },
    {
      "cell_type": "code",
      "source": [
        "range_query_window = Envelope(-90.01, -80.01, 30.01, 40.01)\n",
        "consider_boundary_intersection = False  ## Only return gemeotries fully covered by the window\n",
        "using_index = False\n",
        "query_result = RangeQuery.SpatialRangeQuery(data, range_query_window, consider_boundary_intersection, using_index)\n",
        "query_result.map(lambda x: (x.geom,x.userData)).collect()[0:10]"
      ],
      "metadata": {
        "id": "DnYbU559-P8Q",
        "colab": {
          "base_uri": "https://localhost:8080/"
        },
        "outputId": "a436f36a-7ee3-46fb-e9bf-43d179fb5a3d"
      },
      "execution_count": 22,
      "outputs": [
        {
          "output_type": "execute_result",
          "data": {
            "text/plain": [
              "[(<POINT (-83.971 34.829)>, '2024-07-30T11:36:27.000Z'),\n",
              " (<POINT (-86.882 34.918)>, '2024-07-23T10:30:16.000Z'),\n",
              " (<POINT (-87.618 31.902)>, '2024-07-28T12:06:15.000Z'),\n",
              " (<POINT (-86.182 34.794)>, '2024-08-19T23:16:40.000Z'),\n",
              " (<POINT (-81.531 36.759)>, '2024-07-02T11:51:33.000Z'),\n",
              " (<POINT (-86.854 30.604)>, '2024-08-28T06:02:57.000Z'),\n",
              " (<POINT (-83.781 35.98)>, '2024-10-12T11:37:43.000Z'),\n",
              " (<POINT (-86.051 34.564)>, '2024-10-24T19:47:22.000Z'),\n",
              " (<POINT (-85.918 33.854)>, '2024-07-10T16:45:33.000Z'),\n",
              " (<POINT (-85.648 39.993)>, '2024-10-07T15:59:29.000Z')]"
            ]
          },
          "metadata": {},
          "execution_count": 22
        }
      ]
    },
    {
      "cell_type": "code",
      "source": [
        "from datetime import datetime\n",
        "def convert_to_datetime(timestamp_str):\n",
        "    return datetime.strptime(timestamp_str, '%Y-%m-%dT%H:%M:%S.%fZ')\n",
        "\n",
        "time_start = datetime.strptime('2024-10-01T09:04:00', '%Y-%m-%dT%H:%M:%S')\n",
        "time_end = datetime.strptime('2024-10-24T09:10:00', '%Y-%m-%dT%H:%M:%S')\n",
        "filtered_result = query_result.filter(\n",
        "    lambda row: time_start <= convert_to_datetime(row.userData) <= time_end\n",
        ")\n",
        "filtered_result.map(lambda x: (x.geom,x.userData)).collect()[0:10]"
      ],
      "metadata": {
        "colab": {
          "base_uri": "https://localhost:8080/"
        },
        "id": "501bjzJ43mq-",
        "outputId": "2c8b3564-6de9-4e8c-f739-e076551ee73d"
      },
      "execution_count": 23,
      "outputs": [
        {
          "output_type": "execute_result",
          "data": {
            "text/plain": [
              "[(<POINT (-83.781 35.98)>, '2024-10-12T11:37:43.000Z'),\n",
              " (<POINT (-85.648 39.993)>, '2024-10-07T15:59:29.000Z'),\n",
              " (<POINT (-83.092 34.289)>, '2024-10-18T07:40:13.000Z'),\n",
              " (<POINT (-87.078 36.502)>, '2024-10-18T15:10:11.000Z'),\n",
              " (<POINT (-86.068 33.82)>, '2024-10-20T22:18:14.000Z'),\n",
              " (<POINT (-85.623 38.765)>, '2024-10-18T05:11:31.000Z'),\n",
              " (<POINT (-87.437 36.482)>, '2024-10-17T11:02:12.000Z'),\n",
              " (<POINT (-84.489 37.632)>, '2024-10-23T06:57:30.000Z'),\n",
              " (<POINT (-84.786 31.454)>, '2024-10-10T04:35:30.000Z'),\n",
              " (<POINT (-85.493 34.998)>, '2024-10-02T13:06:49.000Z')]"
            ]
          },
          "metadata": {},
          "execution_count": 23
        }
      ]
    },
    {
      "cell_type": "code",
      "source": [
        "import geopandas as gpd\n",
        "gpd.GeoDataFrame(\n",
        "    filtered_result.map(lambda x: [x.geom, x.userData]).collect(),\n",
        "    columns=[\"geom\", \"user_data\"],\n",
        "    geometry=\"geom\"\n",
        ")\n"
      ],
      "metadata": {
        "colab": {
          "base_uri": "https://localhost:8080/",
          "height": 551
        },
        "id": "j6jwpFeg-P48",
        "outputId": "b88e3f23-94d0-4153-cddc-2647b5d286ba"
      },
      "execution_count": 24,
      "outputs": [
        {
          "output_type": "execute_result",
          "data": {
            "text/plain": [
              "                          geom                 user_data\n",
              "0   POINT (-83.78059 35.98005)  2024-10-12T11:37:43.000Z\n",
              "1    POINT (-85.64765 39.9926)  2024-10-07T15:59:29.000Z\n",
              "2   POINT (-83.09233 34.28872)  2024-10-18T07:40:13.000Z\n",
              "3    POINT (-87.0781 36.50153)  2024-10-18T15:10:11.000Z\n",
              "4    POINT (-86.0684 33.82005)  2024-10-20T22:18:14.000Z\n",
              "5   POINT (-85.62332 38.76512)  2024-10-18T05:11:31.000Z\n",
              "6    POINT (-87.4373 36.48194)  2024-10-17T11:02:12.000Z\n",
              "7   POINT (-84.48886 37.63183)  2024-10-23T06:57:30.000Z\n",
              "8   POINT (-84.78625 31.45374)  2024-10-10T04:35:30.000Z\n",
              "9   POINT (-85.49307 34.99823)  2024-10-02T13:06:49.000Z\n",
              "10  POINT (-84.43192 38.45568)  2024-10-19T06:55:51.000Z\n",
              "11   POINT (-87.20059 32.9769)  2024-10-21T03:36:13.000Z\n",
              "12  POINT (-82.03136 32.52411)  2024-10-13T19:43:08.000Z\n",
              "13  POINT (-88.45434 37.33403)  2024-10-13T12:13:41.000Z\n",
              "14  POINT (-82.73628 32.41582)  2024-10-03T11:18:04.000Z\n",
              "15    POINT (-83.80216 36.402)  2024-10-12T00:23:43.000Z"
            ],
            "text/html": [
              "\n",
              "  <div id=\"df-4768d2e1-d20b-4f93-a684-8285acaea6e0\" class=\"colab-df-container\">\n",
              "    <div>\n",
              "<style scoped>\n",
              "    .dataframe tbody tr th:only-of-type {\n",
              "        vertical-align: middle;\n",
              "    }\n",
              "\n",
              "    .dataframe tbody tr th {\n",
              "        vertical-align: top;\n",
              "    }\n",
              "\n",
              "    .dataframe thead th {\n",
              "        text-align: right;\n",
              "    }\n",
              "</style>\n",
              "<table border=\"1\" class=\"dataframe\">\n",
              "  <thead>\n",
              "    <tr style=\"text-align: right;\">\n",
              "      <th></th>\n",
              "      <th>geom</th>\n",
              "      <th>user_data</th>\n",
              "    </tr>\n",
              "  </thead>\n",
              "  <tbody>\n",
              "    <tr>\n",
              "      <th>0</th>\n",
              "      <td>POINT (-83.78059 35.98005)</td>\n",
              "      <td>2024-10-12T11:37:43.000Z</td>\n",
              "    </tr>\n",
              "    <tr>\n",
              "      <th>1</th>\n",
              "      <td>POINT (-85.64765 39.9926)</td>\n",
              "      <td>2024-10-07T15:59:29.000Z</td>\n",
              "    </tr>\n",
              "    <tr>\n",
              "      <th>2</th>\n",
              "      <td>POINT (-83.09233 34.28872)</td>\n",
              "      <td>2024-10-18T07:40:13.000Z</td>\n",
              "    </tr>\n",
              "    <tr>\n",
              "      <th>3</th>\n",
              "      <td>POINT (-87.0781 36.50153)</td>\n",
              "      <td>2024-10-18T15:10:11.000Z</td>\n",
              "    </tr>\n",
              "    <tr>\n",
              "      <th>4</th>\n",
              "      <td>POINT (-86.0684 33.82005)</td>\n",
              "      <td>2024-10-20T22:18:14.000Z</td>\n",
              "    </tr>\n",
              "    <tr>\n",
              "      <th>5</th>\n",
              "      <td>POINT (-85.62332 38.76512)</td>\n",
              "      <td>2024-10-18T05:11:31.000Z</td>\n",
              "    </tr>\n",
              "    <tr>\n",
              "      <th>6</th>\n",
              "      <td>POINT (-87.4373 36.48194)</td>\n",
              "      <td>2024-10-17T11:02:12.000Z</td>\n",
              "    </tr>\n",
              "    <tr>\n",
              "      <th>7</th>\n",
              "      <td>POINT (-84.48886 37.63183)</td>\n",
              "      <td>2024-10-23T06:57:30.000Z</td>\n",
              "    </tr>\n",
              "    <tr>\n",
              "      <th>8</th>\n",
              "      <td>POINT (-84.78625 31.45374)</td>\n",
              "      <td>2024-10-10T04:35:30.000Z</td>\n",
              "    </tr>\n",
              "    <tr>\n",
              "      <th>9</th>\n",
              "      <td>POINT (-85.49307 34.99823)</td>\n",
              "      <td>2024-10-02T13:06:49.000Z</td>\n",
              "    </tr>\n",
              "    <tr>\n",
              "      <th>10</th>\n",
              "      <td>POINT (-84.43192 38.45568)</td>\n",
              "      <td>2024-10-19T06:55:51.000Z</td>\n",
              "    </tr>\n",
              "    <tr>\n",
              "      <th>11</th>\n",
              "      <td>POINT (-87.20059 32.9769)</td>\n",
              "      <td>2024-10-21T03:36:13.000Z</td>\n",
              "    </tr>\n",
              "    <tr>\n",
              "      <th>12</th>\n",
              "      <td>POINT (-82.03136 32.52411)</td>\n",
              "      <td>2024-10-13T19:43:08.000Z</td>\n",
              "    </tr>\n",
              "    <tr>\n",
              "      <th>13</th>\n",
              "      <td>POINT (-88.45434 37.33403)</td>\n",
              "      <td>2024-10-13T12:13:41.000Z</td>\n",
              "    </tr>\n",
              "    <tr>\n",
              "      <th>14</th>\n",
              "      <td>POINT (-82.73628 32.41582)</td>\n",
              "      <td>2024-10-03T11:18:04.000Z</td>\n",
              "    </tr>\n",
              "    <tr>\n",
              "      <th>15</th>\n",
              "      <td>POINT (-83.80216 36.402)</td>\n",
              "      <td>2024-10-12T00:23:43.000Z</td>\n",
              "    </tr>\n",
              "  </tbody>\n",
              "</table>\n",
              "</div>\n",
              "    <div class=\"colab-df-buttons\">\n",
              "\n",
              "  <div class=\"colab-df-container\">\n",
              "    <button class=\"colab-df-convert\" onclick=\"convertToInteractive('df-4768d2e1-d20b-4f93-a684-8285acaea6e0')\"\n",
              "            title=\"Convert this dataframe to an interactive table.\"\n",
              "            style=\"display:none;\">\n",
              "\n",
              "  <svg xmlns=\"http://www.w3.org/2000/svg\" height=\"24px\" viewBox=\"0 -960 960 960\">\n",
              "    <path d=\"M120-120v-720h720v720H120Zm60-500h600v-160H180v160Zm220 220h160v-160H400v160Zm0 220h160v-160H400v160ZM180-400h160v-160H180v160Zm440 0h160v-160H620v160ZM180-180h160v-160H180v160Zm440 0h160v-160H620v160Z\"/>\n",
              "  </svg>\n",
              "    </button>\n",
              "\n",
              "  <style>\n",
              "    .colab-df-container {\n",
              "      display:flex;\n",
              "      gap: 12px;\n",
              "    }\n",
              "\n",
              "    .colab-df-convert {\n",
              "      background-color: #E8F0FE;\n",
              "      border: none;\n",
              "      border-radius: 50%;\n",
              "      cursor: pointer;\n",
              "      display: none;\n",
              "      fill: #1967D2;\n",
              "      height: 32px;\n",
              "      padding: 0 0 0 0;\n",
              "      width: 32px;\n",
              "    }\n",
              "\n",
              "    .colab-df-convert:hover {\n",
              "      background-color: #E2EBFA;\n",
              "      box-shadow: 0px 1px 2px rgba(60, 64, 67, 0.3), 0px 1px 3px 1px rgba(60, 64, 67, 0.15);\n",
              "      fill: #174EA6;\n",
              "    }\n",
              "\n",
              "    .colab-df-buttons div {\n",
              "      margin-bottom: 4px;\n",
              "    }\n",
              "\n",
              "    [theme=dark] .colab-df-convert {\n",
              "      background-color: #3B4455;\n",
              "      fill: #D2E3FC;\n",
              "    }\n",
              "\n",
              "    [theme=dark] .colab-df-convert:hover {\n",
              "      background-color: #434B5C;\n",
              "      box-shadow: 0px 1px 3px 1px rgba(0, 0, 0, 0.15);\n",
              "      filter: drop-shadow(0px 1px 2px rgba(0, 0, 0, 0.3));\n",
              "      fill: #FFFFFF;\n",
              "    }\n",
              "  </style>\n",
              "\n",
              "    <script>\n",
              "      const buttonEl =\n",
              "        document.querySelector('#df-4768d2e1-d20b-4f93-a684-8285acaea6e0 button.colab-df-convert');\n",
              "      buttonEl.style.display =\n",
              "        google.colab.kernel.accessAllowed ? 'block' : 'none';\n",
              "\n",
              "      async function convertToInteractive(key) {\n",
              "        const element = document.querySelector('#df-4768d2e1-d20b-4f93-a684-8285acaea6e0');\n",
              "        const dataTable =\n",
              "          await google.colab.kernel.invokeFunction('convertToInteractive',\n",
              "                                                    [key], {});\n",
              "        if (!dataTable) return;\n",
              "\n",
              "        const docLinkHtml = 'Like what you see? Visit the ' +\n",
              "          '<a target=\"_blank\" href=https://colab.research.google.com/notebooks/data_table.ipynb>data table notebook</a>'\n",
              "          + ' to learn more about interactive tables.';\n",
              "        element.innerHTML = '';\n",
              "        dataTable['output_type'] = 'display_data';\n",
              "        await google.colab.output.renderOutput(dataTable, element);\n",
              "        const docLink = document.createElement('div');\n",
              "        docLink.innerHTML = docLinkHtml;\n",
              "        element.appendChild(docLink);\n",
              "      }\n",
              "    </script>\n",
              "  </div>\n",
              "\n",
              "\n",
              "<div id=\"df-586eb4ee-959e-408b-bced-bccbdd927a3c\">\n",
              "  <button class=\"colab-df-quickchart\" onclick=\"quickchart('df-586eb4ee-959e-408b-bced-bccbdd927a3c')\"\n",
              "            title=\"Suggest charts\"\n",
              "            style=\"display:none;\">\n",
              "\n",
              "<svg xmlns=\"http://www.w3.org/2000/svg\" height=\"24px\"viewBox=\"0 0 24 24\"\n",
              "     width=\"24px\">\n",
              "    <g>\n",
              "        <path d=\"M19 3H5c-1.1 0-2 .9-2 2v14c0 1.1.9 2 2 2h14c1.1 0 2-.9 2-2V5c0-1.1-.9-2-2-2zM9 17H7v-7h2v7zm4 0h-2V7h2v10zm4 0h-2v-4h2v4z\"/>\n",
              "    </g>\n",
              "</svg>\n",
              "  </button>\n",
              "\n",
              "<style>\n",
              "  .colab-df-quickchart {\n",
              "      --bg-color: #E8F0FE;\n",
              "      --fill-color: #1967D2;\n",
              "      --hover-bg-color: #E2EBFA;\n",
              "      --hover-fill-color: #174EA6;\n",
              "      --disabled-fill-color: #AAA;\n",
              "      --disabled-bg-color: #DDD;\n",
              "  }\n",
              "\n",
              "  [theme=dark] .colab-df-quickchart {\n",
              "      --bg-color: #3B4455;\n",
              "      --fill-color: #D2E3FC;\n",
              "      --hover-bg-color: #434B5C;\n",
              "      --hover-fill-color: #FFFFFF;\n",
              "      --disabled-bg-color: #3B4455;\n",
              "      --disabled-fill-color: #666;\n",
              "  }\n",
              "\n",
              "  .colab-df-quickchart {\n",
              "    background-color: var(--bg-color);\n",
              "    border: none;\n",
              "    border-radius: 50%;\n",
              "    cursor: pointer;\n",
              "    display: none;\n",
              "    fill: var(--fill-color);\n",
              "    height: 32px;\n",
              "    padding: 0;\n",
              "    width: 32px;\n",
              "  }\n",
              "\n",
              "  .colab-df-quickchart:hover {\n",
              "    background-color: var(--hover-bg-color);\n",
              "    box-shadow: 0 1px 2px rgba(60, 64, 67, 0.3), 0 1px 3px 1px rgba(60, 64, 67, 0.15);\n",
              "    fill: var(--button-hover-fill-color);\n",
              "  }\n",
              "\n",
              "  .colab-df-quickchart-complete:disabled,\n",
              "  .colab-df-quickchart-complete:disabled:hover {\n",
              "    background-color: var(--disabled-bg-color);\n",
              "    fill: var(--disabled-fill-color);\n",
              "    box-shadow: none;\n",
              "  }\n",
              "\n",
              "  .colab-df-spinner {\n",
              "    border: 2px solid var(--fill-color);\n",
              "    border-color: transparent;\n",
              "    border-bottom-color: var(--fill-color);\n",
              "    animation:\n",
              "      spin 1s steps(1) infinite;\n",
              "  }\n",
              "\n",
              "  @keyframes spin {\n",
              "    0% {\n",
              "      border-color: transparent;\n",
              "      border-bottom-color: var(--fill-color);\n",
              "      border-left-color: var(--fill-color);\n",
              "    }\n",
              "    20% {\n",
              "      border-color: transparent;\n",
              "      border-left-color: var(--fill-color);\n",
              "      border-top-color: var(--fill-color);\n",
              "    }\n",
              "    30% {\n",
              "      border-color: transparent;\n",
              "      border-left-color: var(--fill-color);\n",
              "      border-top-color: var(--fill-color);\n",
              "      border-right-color: var(--fill-color);\n",
              "    }\n",
              "    40% {\n",
              "      border-color: transparent;\n",
              "      border-right-color: var(--fill-color);\n",
              "      border-top-color: var(--fill-color);\n",
              "    }\n",
              "    60% {\n",
              "      border-color: transparent;\n",
              "      border-right-color: var(--fill-color);\n",
              "    }\n",
              "    80% {\n",
              "      border-color: transparent;\n",
              "      border-right-color: var(--fill-color);\n",
              "      border-bottom-color: var(--fill-color);\n",
              "    }\n",
              "    90% {\n",
              "      border-color: transparent;\n",
              "      border-bottom-color: var(--fill-color);\n",
              "    }\n",
              "  }\n",
              "</style>\n",
              "\n",
              "  <script>\n",
              "    async function quickchart(key) {\n",
              "      const quickchartButtonEl =\n",
              "        document.querySelector('#' + key + ' button');\n",
              "      quickchartButtonEl.disabled = true;  // To prevent multiple clicks.\n",
              "      quickchartButtonEl.classList.add('colab-df-spinner');\n",
              "      try {\n",
              "        const charts = await google.colab.kernel.invokeFunction(\n",
              "            'suggestCharts', [key], {});\n",
              "      } catch (error) {\n",
              "        console.error('Error during call to suggestCharts:', error);\n",
              "      }\n",
              "      quickchartButtonEl.classList.remove('colab-df-spinner');\n",
              "      quickchartButtonEl.classList.add('colab-df-quickchart-complete');\n",
              "    }\n",
              "    (() => {\n",
              "      let quickchartButtonEl =\n",
              "        document.querySelector('#df-586eb4ee-959e-408b-bced-bccbdd927a3c button');\n",
              "      quickchartButtonEl.style.display =\n",
              "        google.colab.kernel.accessAllowed ? 'block' : 'none';\n",
              "    })();\n",
              "  </script>\n",
              "</div>\n",
              "\n",
              "    </div>\n",
              "  </div>\n"
            ],
            "application/vnd.google.colaboratory.intrinsic+json": {
              "type": "dataframe",
              "summary": "{\n  \"name\": \")\",\n  \"rows\": 16,\n  \"fields\": [\n    {\n      \"column\": \"geom\",\n      \"properties\": {\n        \"dtype\": \"geometry\",\n        \"num_unique_values\": 16,\n        \"samples\": [\n          \"POINT (-83.78058784457195 35.98005314208443)\",\n          \"POINT (-85.64765289706685 39.99259659969022)\",\n          \"POINT (-85.62331833264771 38.76511599555093)\"\n        ],\n        \"semantic_type\": \"\",\n        \"description\": \"\"\n      }\n    },\n    {\n      \"column\": \"user_data\",\n      \"properties\": {\n        \"dtype\": \"object\",\n        \"num_unique_values\": 16,\n        \"samples\": [\n          \"2024-10-12T11:37:43.000Z\",\n          \"2024-10-07T15:59:29.000Z\",\n          \"2024-10-18T05:11:31.000Z\"\n        ],\n        \"semantic_type\": \"\",\n        \"description\": \"\"\n      }\n    }\n  ]\n}"
            }
          },
          "metadata": {},
          "execution_count": 24
        }
      ]
    },
    {
      "cell_type": "code",
      "source": [],
      "metadata": {
        "id": "xSLrvZdp5HzK"
      },
      "execution_count": 24,
      "outputs": []
    }
  ]
}