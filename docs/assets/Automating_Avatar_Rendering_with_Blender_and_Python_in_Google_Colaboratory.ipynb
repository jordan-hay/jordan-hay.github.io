{
  "nbformat": 4,
  "nbformat_minor": 0,
  "metadata": {
    "colab": {
      "private_outputs": true,
      "provenance": []
    },
    "kernelspec": {
      "name": "python3",
      "display_name": "Python 3"
    },
    "accelerator": "GPU"
  },
  "cells": [
    {
      "cell_type": "markdown",
      "source": [
        "#Clone the Standard Github Avatar Repo"
      ],
      "metadata": {
        "id": "EqKwXEmutLiG"
      }
    },
    {
      "cell_type": "code",
      "source": [
        "!git clone https://github.com/xrtlab/Validated-Avatar-Library-for-Inclusion-and-Diversity---VALID.git\n",
        "!cd Validated-Avatar-Library-for-Inclusion-and-Diversity---VALID/Avatars"
      ],
      "metadata": {
        "id": "lGFXmLSNGJmC"
      },
      "execution_count": null,
      "outputs": []
    },
    {
      "cell_type": "code",
      "source": [
        "import os\n",
        "\n",
        "base_raw_url = 'https://github.com/xrtlab/Validated-Avatar-Library-for-Inclusion-and-Diversity---VALID/raw/refs/heads/main/Avatars'\n",
        "raws = []\n",
        "\n",
        "for root, dirs, files in os.walk('.'):\n",
        "    for file in files:\n",
        "        if file.endswith('.fbx'):\n",
        "            # Get last directory name from root\n",
        "            last_subdir = os.path.basename(root)\n",
        "            # Combine last subdir and filename\n",
        "            partial_path = f\"{last_subdir}/{file}\"\n",
        "            raws.append(f\"{base_raw_url}/{partial_path}\")\n"
      ],
      "metadata": {
        "id": "vixTmJxlMOCD"
      },
      "execution_count": null,
      "outputs": []
    },
    {
      "cell_type": "code",
      "source": [
        "!mkdir fbxs"
      ],
      "metadata": {
        "id": "ElgM35R2NVCR"
      },
      "execution_count": null,
      "outputs": []
    },
    {
      "cell_type": "code",
      "source": [
        "for raw_url in raws:\n",
        "    file_name = os.path.basename(raw_url)\n",
        "    !wget -q -O fbxs/{file_name} {raw_url}"
      ],
      "metadata": {
        "id": "H1-xnCB9Izwk"
      },
      "execution_count": null,
      "outputs": []
    },
    {
      "cell_type": "code",
      "source": [
        "import shutil\n",
        "!zip -r fbxs.zip fbxs"
      ],
      "metadata": {
        "id": "_-pLLHGqNz8E"
      },
      "execution_count": null,
      "outputs": []
    },
    {
      "cell_type": "code",
      "source": [
        "zip_file_path = 'fbxs.zip'"
      ],
      "metadata": {
        "id": "xFlkSo9AO_n6"
      },
      "execution_count": null,
      "outputs": []
    },
    {
      "cell_type": "markdown",
      "source": [
        "# Blender"
      ],
      "metadata": {
        "id": "YTfsQEwFqaoU"
      }
    },
    {
      "cell_type": "code",
      "source": [
        "import os\n",
        "import inspect\n",
        "from IPython.display import Image"
      ],
      "metadata": {
        "id": "5m6SvyL4rnW4"
      },
      "execution_count": null,
      "outputs": []
    },
    {
      "cell_type": "code",
      "source": [
        "# Download and Extract Blender\n",
        "!wget https://download.blender.org/release/Blender4.4/blender-4.4.3-linux-x64.tar.xz  -O /content/BlenderDownload.tar.xz\n",
        "#!wget https://download.blender.org/release/Blender4.4/blender-4.4.0-linux-x64.tar.xz -O /content/BlenderDownload.tar.xz\n",
        "!tar -xf /content/BlenderDownload.tar.xz -C /content/"
      ],
      "metadata": {
        "id": "NHUjiQuCqcNQ"
      },
      "execution_count": null,
      "outputs": []
    },
    {
      "cell_type": "code",
      "source": [
        "# Download FBX model\n",
        "#!wget -O /content/model.fbx \"https://github.com/xrtlab/Validated-Avatar-Library-for-Inclusion-and-Diversity---VALID/raw/refs/heads/main/Avatars/Asian/Asian_M_2_Casual.fbx\"\n",
        "blender_path = 'blender-4.4.3-linux-x64/blender'"
      ],
      "metadata": {
        "id": "sJci9GoqqcKQ"
      },
      "execution_count": null,
      "outputs": []
    },
    {
      "cell_type": "code",
      "source": [
        "%%writefile /content/fbx_to_blend.py\n",
        "import bpy\n",
        "\n",
        "# Clear existing scene\n",
        "bpy.ops.wm.read_factory_settings(use_empty=True)\n",
        "\n",
        "# Path to your FBX file\n",
        "fbx_path = \"/content/model.fbx\"\n",
        "\n",
        "# Import FBX\n",
        "bpy.ops.import_scene.fbx(filepath=fbx_path)\n",
        "\n",
        "# (Optional) Save the result\n",
        "bpy.ops.wm.save_as_mainfile(filepath=\"/content/model.blend\")"
      ],
      "metadata": {
        "id": "BVCa4dilrZTS"
      },
      "execution_count": null,
      "outputs": []
    },
    {
      "cell_type": "code",
      "source": [
        "# Run Blender in background mode with the import script\n",
        "#!./{blender_path} -b --python /content/fbx_to_blend.py"
      ],
      "metadata": {
        "id": "PyYn7LYmrZni"
      },
      "execution_count": null,
      "outputs": []
    },
    {
      "cell_type": "code",
      "source": [
        "def fbx_to_blend():\n",
        "  function_name = inspect.currentframe().f_code.co_name\n",
        "  blender_cmd = f\"./{blender_path} -b --python /content/{function_name}.py\"\n",
        "  os.system(blender_cmd)"
      ],
      "metadata": {
        "id": "g1q2kMvkrZni"
      },
      "execution_count": null,
      "outputs": []
    },
    {
      "cell_type": "code",
      "source": [
        "!mkdir blends"
      ],
      "metadata": {
        "id": "rxcqWmj31H0G"
      },
      "execution_count": null,
      "outputs": []
    },
    {
      "cell_type": "code",
      "source": [
        "import os\n",
        "import shutil\n",
        "\n",
        "fbx_folder = '/content/fbxs'\n",
        "temp_fbx_path = '/content/model.fbx'\n",
        "blend_folder = '/content/blends'\n",
        "\n",
        "# Loop through files in the 'fbxs' folder\n",
        "for filename in os.listdir(fbx_folder):\n",
        "    if filename.endswith(\".fbx\"):\n",
        "        source_path = os.path.join(fbx_folder, filename)\n",
        "        # Copy the FBX file to '/content/model.fbx'\n",
        "        shutil.copyfile(source_path, temp_fbx_path)\n",
        "        print(f\"Copied {filename} to {temp_fbx_path}\")\n",
        "        fbx_to_blend()\n",
        "        print(f\"Processed {filename}\")\n",
        "        base, _ = os.path.splitext(filename)   # split name and extension\n",
        "        new_filename = base + \".blend\"\n",
        "        shutil.copyfile('/content/model.blend', os.path.join(blend_folder,new_filename))"
      ],
      "metadata": {
        "id": "WBV-_43h0Jkr"
      },
      "execution_count": null,
      "outputs": []
    },
    {
      "cell_type": "code",
      "source": [
        "%%writefile blend_to_png_model.py\n",
        "import bpy\n",
        "scene = bpy.context.scene\n",
        "scene.render.engine = 'CYCLES'\n",
        "scene.render.filepath = '/content/model.png'\n",
        "scene.render.image_settings.file_format = 'PNG'\n",
        "\n",
        "scene.cycles.samples = 8\n",
        "scene.cycles.use_adaptive_sampling = True\n",
        "scene.cycles.use_denoising = True\n",
        "scene.render.resolution_x = 800  #800\n",
        "scene.render.resolution_y = 600  #600\n",
        "scene.render.resolution_percentage = 100\n",
        "\n",
        "# Create a camera if one doesn't exist\n",
        "\n",
        "cam_data = bpy.data.cameras.new(name=\"Camera\")\n",
        "cam = bpy.data.objects.new(\"Camera\", cam_data)\n",
        "bpy.context.collection.objects.link(cam)\n",
        "scene.camera = cam\n",
        "\n",
        "cam.rotation_euler = (0, 0, 0)\n",
        "cam.location = (0, -5, 1.6)\n",
        "cam.rotation_euler = (1.5708, 0, 0)\n",
        "\n",
        "sun_data = bpy.data.lights.new(name=\"Sun\", type='SUN')\n",
        "sun_data.energy = 3.0  # Brighter for full coverage\n",
        "sun = bpy.data.objects.new(name=\"Sun\", object_data=sun_data)\n",
        "bpy.context.collection.objects.link(sun)\n",
        "sun.location = (0, -2, 5)  # Above and slightly in front\n",
        "sun.rotation_euler = (1.2, 0, 0)  # Pointing downward toward model\n",
        "\n",
        "\n",
        "# Optional: frame the mesh (if camera is new)\n",
        "bpy.ops.object.select_all(action='DESELECT')\n",
        "bpy.ops.object.select_by_type(type='MESH')\n",
        "bpy.ops.view3d.camera_to_view_selected()\n",
        "\n",
        "# Render the image\n",
        "bpy.ops.render.render(write_still=True)\n"
      ],
      "metadata": {
        "id": "QqaRqZKHuuXu"
      },
      "execution_count": null,
      "outputs": []
    },
    {
      "cell_type": "code",
      "source": [
        "# Run Blender in background mode with the import script\n",
        "#!./{blender_path} -b /content/model.blend --python /content/blend_to_png_model.py"
      ],
      "metadata": {
        "id": "mjEsLmGEs9fz"
      },
      "execution_count": null,
      "outputs": []
    },
    {
      "cell_type": "code",
      "source": [
        "#Image(\"/content/model.png\")"
      ],
      "metadata": {
        "id": "Xla3zmlNv_2m"
      },
      "execution_count": null,
      "outputs": []
    },
    {
      "cell_type": "code",
      "source": [
        "def blend_to_png_model():\n",
        "  function_name = inspect.currentframe().f_code.co_name\n",
        "  blender_cmd = f\"./{blender_path} -b /content/model.blend --python /content/{function_name}.py\"\n",
        "  os.system(blender_cmd)\n",
        "  with open(\"model.png\", \"rb\") as f:\n",
        "    image_bytes = f.read()\n",
        "  return image_bytes\n",
        "\n",
        "bytes = blend_to_png_model()\n",
        "Image(data=bytes)\n"
      ],
      "metadata": {
        "id": "mv9AQccDr6Qk"
      },
      "execution_count": null,
      "outputs": []
    },
    {
      "cell_type": "code",
      "source": [
        "!mkdir pngs"
      ],
      "metadata": {
        "id": "JSfOdP24C7lB"
      },
      "execution_count": null,
      "outputs": []
    },
    {
      "cell_type": "code",
      "source": [
        "import os\n",
        "import shutil\n",
        "\n",
        "blend_folder = '/content/blends'\n",
        "temp_blend_path = '/content/model.blend'\n",
        "png_folder = '/content/pngs'\n",
        "\n",
        "# Loop through files in the 'fbxs' folder\n",
        "for filename in os.listdir(blend_folder):\n",
        "    if filename.endswith(\".blend\"):\n",
        "        source_path = os.path.join(blend_folder, filename)\n",
        "        shutil.copyfile(source_path, temp_blend_path)\n",
        "        print(f\"Copied {filename} to {temp_blend_path}\")\n",
        "        blend_to_png_model()\n",
        "        print(f\"Processed {filename}\")\n",
        "        base, _ = os.path.splitext(filename)   # split name and extension\n",
        "        new_filename = base + \".png\"\n",
        "        shutil.copyfile('/content/model.png', os.path.join(png_folder,new_filename))"
      ],
      "metadata": {
        "id": "JsK_hW7NC7lB"
      },
      "execution_count": null,
      "outputs": []
    },
    {
      "cell_type": "code",
      "source": [
        "import os\n",
        "import random\n",
        "import shutil\n",
        "\n",
        "def model_random_choice():\n",
        "  blends_folder = '/content/blends'\n",
        "  destination_blend_path = '/content/model.blend'\n",
        "\n",
        "  # Get a list of all .blend files in the blends folder\n",
        "  blend_files = [f for f in os.listdir(blends_folder) if f.endswith('.blend')]\n",
        "\n",
        "  if blend_files:\n",
        "      # Randomly choose one file\n",
        "      chosen_file = random.choice(blend_files)\n",
        "      source_path = os.path.join(blends_folder, chosen_file)\n",
        "\n",
        "      # Copy the chosen file to the destination\n",
        "      shutil.copyfile(source_path, destination_blend_path)\n",
        "      print(f\"Randomly selected and copied '{chosen_file}' to '{destination_blend_path}'\")\n",
        "  else:\n",
        "      print(f\"No .blend files found in '{blends_folder}'\")"
      ],
      "metadata": {
        "id": "tfrcTFda2--C"
      },
      "execution_count": null,
      "outputs": []
    },
    {
      "cell_type": "code",
      "source": [
        "model_random_choice()"
      ],
      "metadata": {
        "id": "1eow_2UJ74Oz"
      },
      "execution_count": null,
      "outputs": []
    },
    {
      "cell_type": "code",
      "source": [
        "bytes = blend_to_png_model()\n",
        "Image(data=bytes)"
      ],
      "metadata": {
        "id": "r5k2_gW12-tN"
      },
      "execution_count": null,
      "outputs": []
    },
    {
      "cell_type": "code",
      "source": [
        "%%writefile /content/blend_to_png_face.py\n",
        "import bpy\n",
        "import mathutils\n",
        "import random\n",
        "import math\n",
        "\n",
        "scene = bpy.context.scene\n",
        "\n",
        "# Get main mesh object\n",
        "meshes = [obj for obj in scene.objects if obj.type == 'MESH']\n",
        "main_mesh = meshes[0]\n",
        "\n",
        "# Get bounding box corners in world coordinates\n",
        "bbox_corners = [main_mesh.matrix_world @ mathutils.Vector(corner) for corner in main_mesh.bound_box]\n",
        "\n",
        "# Find center X/Y, and max Z (top of the object)\n",
        "bbox_center_xy = sum((v.xy for v in bbox_corners), mathutils.Vector((0, 0))) / 8\n",
        "max_z = max(corner.z for corner in bbox_corners)\n",
        "top_center = mathutils.Vector((bbox_center_xy.x, bbox_center_xy.y, max_z - 0.2))\n",
        "\n",
        "# Define camera distance and random yaw/pitch\n",
        "distance = 1.0\n",
        "yaw = random.uniform(-math.radians(25), math.radians(25))   # side-to-side angle\n",
        "pitch = random.uniform(-math.radians(10), math.radians(10)) # slight up/down angle\n",
        "\n",
        "# Assume face is along negative Y axis, then rotate around Z (yaw) and X (pitch)\n",
        "front_vector = mathutils.Vector((0, -1, 0))\n",
        "rot = mathutils.Euler((pitch, 0, yaw), 'XYZ').to_matrix()\n",
        "random_vector = rot @ front_vector\n",
        "\n",
        "cam_location = top_center + random_vector * distance\n",
        "\n",
        "# Create and set up camera\n",
        "cam_data = bpy.data.cameras.new(name=\"Camera\")\n",
        "cam = bpy.data.objects.new(\"Camera\", cam_data)\n",
        "bpy.context.collection.objects.link(cam)\n",
        "scene.camera = cam\n",
        "\n",
        "# Point camera at top of mesh\n",
        "direction = top_center - cam_location\n",
        "rot_quat = direction.to_track_quat('-Z', 'Y')\n",
        "cam.rotation_euler = rot_quat.to_euler()\n",
        "cam.location = cam_location\n",
        "cam.data.lens = 65\n",
        "\n",
        "# Lighting\n",
        "sun_data = bpy.data.lights.new(name=\"Sun\", type='SUN')\n",
        "sun = bpy.data.objects.new(name=\"Sun\", object_data=sun_data)\n",
        "bpy.context.collection.objects.link(sun)\n",
        "sun_data.energy = 3.0\n",
        "sun.location = (0, -2, 5)\n",
        "sun.rotation_euler = (1.2, 0, 0)\n",
        "\n",
        "# Final render settings\n",
        "scene.render.engine = 'CYCLES'\n",
        "scene.render.filepath = '/content/modelface.png'\n",
        "scene.render.image_settings.file_format = 'PNG'\n",
        "scene.render.resolution_x = 400\n",
        "scene.render.resolution_y = 300\n",
        "scene.render.resolution_percentage = 100\n",
        "scene.cycles.samples = 8\n",
        "scene.cycles.use_adaptive_sampling = True\n",
        "scene.cycles.use_denoising = True\n",
        "\n",
        "# Render\n",
        "bpy.ops.render.render(write_still=True)\n"
      ],
      "metadata": {
        "id": "OIEAQkFZ3Vex"
      },
      "execution_count": null,
      "outputs": []
    },
    {
      "cell_type": "code",
      "source": [
        "%%writefile /content/blend_to_png_face.py\n",
        "import bpy\n",
        "import mathutils\n",
        "import random\n",
        "import math\n",
        "\n",
        "scene = bpy.context.scene\n",
        "\n",
        "# Get main mesh object\n",
        "meshes = [obj for obj in scene.objects if obj.type == 'MESH']\n",
        "main_mesh = meshes[0]\n",
        "\n",
        "# Get bounding box corners in world coordinates\n",
        "bbox_corners = [main_mesh.matrix_world @ mathutils.Vector(corner) for corner in main_mesh.bound_box]\n",
        "\n",
        "# Find center X/Y, and max Z (top of the object)\n",
        "bbox_center_xy = sum((v.xy for v in bbox_corners), mathutils.Vector((0, 0))) / 8\n",
        "max_z = max(corner.z for corner in bbox_corners)\n",
        "face_center = mathutils.Vector((bbox_center_xy.x, bbox_center_xy.y, max_z - 0.2))\n",
        "\n",
        "# --- Camera position ---\n",
        "# Randomize distance so it's not always zoomed in\n",
        "distance = random.uniform(1.2, 2.5)\n",
        "\n",
        "# Wider yaw/pitch range for more variation\n",
        "yaw = random.uniform(-math.radians(60), math.radians(60))   # side-to-side\n",
        "pitch = random.uniform(-math.radians(25), math.radians(25)) # up/down\n",
        "\n",
        "# Base front direction is -Y\n",
        "front_vector = mathutils.Vector((0, -1, 0))\n",
        "rot = mathutils.Euler((pitch, 0, yaw), 'XYZ').to_matrix()\n",
        "random_vector = rot @ front_vector\n",
        "\n",
        "cam_location = face_center + random_vector * distance\n",
        "\n",
        "# --- Camera setup ---\n",
        "cam_data = bpy.data.cameras.new(name=\"Camera\")\n",
        "cam = bpy.data.objects.new(\"Camera\", cam_data)\n",
        "bpy.context.collection.objects.link(cam)\n",
        "scene.camera = cam\n",
        "\n",
        "# Point camera at face center\n",
        "direction = face_center - cam_location\n",
        "rot_quat = direction.to_track_quat('-Z', 'Y')\n",
        "cam.rotation_euler = rot_quat.to_euler()\n",
        "cam.location = cam_location\n",
        "cam.data.lens = 65\n",
        "\n",
        "# --- Lighting ---\n",
        "sun_data = bpy.data.lights.new(name=\"Sun\", type='SUN')\n",
        "sun = bpy.data.objects.new(name=\"Sun\", object_data=sun_data)\n",
        "bpy.context.collection.objects.link(sun)\n",
        "sun_data.energy = 3.0\n",
        "sun.location = (0, -2, 5)\n",
        "sun.rotation_euler = (1.2, 0, 0)\n",
        "\n",
        "# --- Render settings ---\n",
        "scene.render.engine = 'CYCLES'\n",
        "scene.render.filepath = '/content/modelface.png'\n",
        "scene.render.image_settings.file_format = 'PNG'\n",
        "scene.render.resolution_x = 600\n",
        "scene.render.resolution_y = 600\n",
        "scene.render.resolution_percentage = 100\n",
        "scene.cycles.samples = 16\n",
        "scene.cycles.use_adaptive_sampling = True\n",
        "scene.cycles.use_denoising = True\n",
        "\n",
        "# Render\n",
        "bpy.ops.render.render(write_still=True)\n"
      ],
      "metadata": {
        "id": "D9Fj6h6C4in5"
      },
      "execution_count": null,
      "outputs": []
    },
    {
      "cell_type": "code",
      "source": [
        "#!./{blender_path} -b /content/model.blend --python /content/blend_to_png_face.py"
      ],
      "metadata": {
        "id": "z-esXoal3suy"
      },
      "execution_count": null,
      "outputs": []
    },
    {
      "cell_type": "code",
      "source": [
        "import os, inspect\n",
        "import matplotlib.pyplot as plt\n",
        "from IPython.display import Image\n",
        "from PIL import Image as PILImage\n",
        "import io\n",
        "\n",
        "def blend_to_png_face():\n",
        "    function_name = inspect.currentframe().f_code.co_name\n",
        "    blender_cmd = f\"./{blender_path} -b /content/model.blend --python /content/{function_name}.py\"\n",
        "    os.system(blender_cmd)\n",
        "    with open(\"modelface.png\", \"rb\") as f:\n",
        "        image_bytes = f.read()\n",
        "    return image_bytes\n",
        "\n",
        "\n",
        "Image(data=blend_to_png_face())"
      ],
      "metadata": {
        "id": "Jal4ipqb5jv9"
      },
      "execution_count": null,
      "outputs": []
    },
    {
      "cell_type": "code",
      "source": [
        "# Generate random images\n",
        "def generate_random_images(num_images):\n",
        "  images = []\n",
        "  for _ in range(4):\n",
        "      img_bytes = blend_to_png_face()\n",
        "      pil_img = PILImage.open(io.BytesIO(img_bytes))\n",
        "      images.append(pil_img)\n",
        "\n",
        "  # --- Display in grid ---\n",
        "  rows, cols = 2, 2\n",
        "  fig, axs = plt.subplots(rows, cols, figsize=(8, 8))\n",
        "\n",
        "  for ax, img in zip(axs.flat, images):\n",
        "      ax.imshow(img)\n",
        "      ax.axis(\"off\")\n",
        "\n",
        "  # If fewer images than grid slots, hide extra axes\n",
        "  for ax in axs.flat[len(images):]:\n",
        "      ax.axis(\"off\")\n",
        "\n",
        "  plt.tight_layout()\n",
        "  plt.show()"
      ],
      "metadata": {
        "id": "7jH7sK7l59Y2"
      },
      "execution_count": null,
      "outputs": []
    },
    {
      "cell_type": "code",
      "source": [
        "import math\n",
        "import io\n",
        "from PIL import Image as PILImage\n",
        "import matplotlib.pyplot as plt\n",
        "\n",
        "# Generate random images\n",
        "def generate_random_images(num_images):\n",
        "    images = []\n",
        "    for _ in range(num_images):\n",
        "        img_bytes = blend_to_png_face()\n",
        "        pil_img = PILImage.open(io.BytesIO(img_bytes))\n",
        "        images.append(pil_img)\n",
        "\n",
        "    # --- Compute grid size automatically ---\n",
        "    cols = math.ceil(math.sqrt(num_images))\n",
        "    rows = math.ceil(num_images / cols)\n",
        "\n",
        "    fig, axs = plt.subplots(rows, cols, figsize=(3*cols, 3*rows))\n",
        "\n",
        "    # axs could be 1D if rows==1 or cols==1\n",
        "    axs = axs.flatten() if hasattr(axs, 'flatten') else [axs]\n",
        "\n",
        "    for ax, img in zip(axs, images):\n",
        "        ax.imshow(img)\n",
        "        ax.axis(\"off\")\n",
        "\n",
        "    # Hide unused axes if grid is larger than number of images\n",
        "    for ax in axs[len(images):]:\n",
        "        ax.axis(\"off\")\n",
        "\n",
        "    plt.tight_layout()\n",
        "    plt.show()\n"
      ],
      "metadata": {
        "id": "sTqaNnNG7KMt"
      },
      "execution_count": null,
      "outputs": []
    },
    {
      "cell_type": "code",
      "source": [
        "generate_random_images(6)"
      ],
      "metadata": {
        "id": "1g9JFJIM5_Cj"
      },
      "execution_count": null,
      "outputs": []
    },
    {
      "cell_type": "code",
      "source": [
        "model_random_choice()\n",
        "generate_random_images(3)"
      ],
      "metadata": {
        "id": "ikjTPVAF5-_4"
      },
      "execution_count": null,
      "outputs": []
    },
    {
      "cell_type": "code",
      "source": [],
      "metadata": {
        "id": "iIkAYQpU5-9n"
      },
      "execution_count": null,
      "outputs": []
    },
    {
      "cell_type": "code",
      "source": [],
      "metadata": {
        "id": "BKQPvxTo3n_I"
      },
      "execution_count": null,
      "outputs": []
    }
  ]
}